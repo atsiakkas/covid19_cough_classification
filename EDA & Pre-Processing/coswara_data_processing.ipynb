{
 "cells": [
  {
   "cell_type": "markdown",
   "metadata": {},
   "source": [
    "# Coswara Data Processing\n",
    "\n",
    "This notebook includes are pre-processing on the Coswara dataset. Note that this has not been used in the final report since a clean and validated iteration of this dataset was released as the DiCOVA Challenge dataset and was thus used instead of this version"
   ]
  },
  {
   "cell_type": "markdown",
   "metadata": {},
   "source": [
    "## Imports"
   ]
  },
  {
   "cell_type": "code",
   "execution_count": null,
   "metadata": {},
   "outputs": [],
   "source": [
    "########################################################################\n",
    "#                            Imports                                   #\n",
    "########################################################################\n",
    "\n",
    "# Data processing\n",
    "import numpy as np\n",
    "import pandas as pd\n",
    "\n",
    "# Data Visualisation\n",
    "import matplotlib.pyplot as plt\n",
    "import seaborn as sns\n",
    "\n",
    "plt.style.use('ggplot')\n",
    "%matplotlib inline\n",
    "\n",
    "# Audio files processing\n",
    "import wave\n",
    "import librosa\n",
    "\n",
    "# Manipualting File paths\n",
    "from pathlib import Path\n",
    "import os\n",
    "import re\n",
    "import glob\n",
    "import scipy.sparse as sparse\n",
    "\n",
    "# Tensorflow\n",
    "import tensorflow as tf"
   ]
  },
  {
   "cell_type": "markdown",
   "metadata": {},
   "source": [
    "## Paths"
   ]
  },
  {
   "cell_type": "code",
   "execution_count": null,
   "metadata": {},
   "outputs": [],
   "source": [
    "########################################################################\n",
    "#                           Data Paths                                 #\n",
    "########################################################################\n",
    "\n",
    "# Path to folder containing the data (can be used in both Linux and Windows)\n",
    "data_path = Path(Path.cwd().parent, \"datasets\", \"coswara_dataset\")\n",
    "print(f\"Data folder: {data_path}\")\n",
    "\n",
    "metadata_path = os.path.join(data_path, 'Coswara_coughs.csv')\n",
    "print(f\"Data summary file: {metadata_path}\")\n",
    "\n",
    "metadata_cd_path = os.path.join(data_path, 'coswara_metadata_summary.csv')\n",
    "print(f\"Data cough detection file: {metadata_cd_path}\")\n",
    "\n",
    "metadata = pd.read_csv(metadata_path, delimiter = ',')\n",
    "metadata_cd = pd.read_csv(metadata_cd_path, delimiter = ',')\n",
    "\n",
    "files = os.listdir(data_path)\n",
    "# files"
   ]
  },
  {
   "cell_type": "markdown",
   "metadata": {},
   "source": [
    "## Dropping unused columns"
   ]
  },
  {
   "cell_type": "code",
   "execution_count": null,
   "metadata": {},
   "outputs": [],
   "source": [
    "## Dropping unused columns\n",
    "\n",
    "df = pd.merge(metadata, metadata_cd, how=\"left\", on=\"id\")\n",
    "df = df.drop([\"Unnamed: 3\",\"Unnamed: 4\",\"Unnamed: 5\",\"Unnamed: 6\"], axis=1)\n",
    "df = df.drop([\"ep\",\"l_l\",\"l_s\",\"rU\"], axis=1)\n",
    "df = df.drop([\"asthma\",\"cough\",\"smoker\",\"ht\",\"cold\"], axis=1)\n",
    "df = df.drop([\"diabetes\",\"um\",\"ihd\",\"bd\",\"st\"], axis=1)\n",
    "df = df.drop([\"fever\",\"ftg\",\"mp\",\"loss_of_smell\",\"test_status\",\"pneumonia\",\"diarrhoea\",\"cld\"], axis=1)\n",
    "df = df.drop([\"path\",\"copy_path\"], axis=1)\n",
    "df.head()"
   ]
  },
  {
   "cell_type": "markdown",
   "metadata": {},
   "source": [
    "## Augmenting the output of the cough detection algorithm on the dataframe"
   ]
  },
  {
   "cell_type": "code",
   "execution_count": null,
   "metadata": {},
   "outputs": [],
   "source": [
    "## Adding cough detection output\n",
    "\n",
    "cough_detected = [(c1, c2) for (c1,c2) in zip(df[\"cough_detected_heavy\"], df[\"cough_detected_shallow\"])]\n",
    "cd = [c[0] if i%2==0 else c[1] for i, c in enumerate(cough_detected)]\n",
    "len(cd)\n",
    "\n",
    "df = df.drop([\"cough_detected_heavy\",\"cough_detected_shallow\"], axis=1)\n",
    "df[\"cough_detected\"] = cd\n",
    "df.head()"
   ]
  },
  {
   "cell_type": "markdown",
   "metadata": {},
   "source": [
    "## Filtering out samples which will not be used"
   ]
  },
  {
   "cell_type": "code",
   "execution_count": null,
   "metadata": {
    "scrolled": true
   },
   "outputs": [],
   "source": [
    "## Filtering\n",
    "\n",
    "print(f\"Number of samples: {df.shape[0]}\")\n",
    "\n",
    "df2 = df[df[\"cough_detected\"]>0.8]\n",
    "print(f\"Number of samples: {df2.shape[0]}\")\n",
    "\n",
    "indices = df2[ df2['covid_status'] == \"resp_illness_not_identified\" ].index\n",
    "df2.drop(indices, inplace=True)\n",
    "print(f\"Number of samples: {df2.shape[0]}\")\n",
    "\n",
    "indices = df2[ df2['covid_status'] == \"no_resp_illness_exposed\" ].index\n",
    "df2.drop(indices, inplace=True)\n",
    "print(f\"Number of samples: {df2.shape[0]}\")\n",
    "\n",
    "indices = df2[ df2['covid_status'] == \"recovered_full\" ].index\n",
    "df2.drop(indices, inplace=True)\n",
    "print(f\"Number of samples: {df2.shape[0]}\")\n"
   ]
  },
  {
   "cell_type": "code",
   "execution_count": null,
   "metadata": {},
   "outputs": [],
   "source": [
    "df2.to_csv(\"metadata_coswara.csv\")"
   ]
  },
  {
   "cell_type": "markdown",
   "metadata": {},
   "source": [
    "## Downsampling to 16khz"
   ]
  },
  {
   "cell_type": "code",
   "execution_count": null,
   "metadata": {},
   "outputs": [],
   "source": [
    "########################################################################\n",
    "#                       Data Downsampling                              #\n",
    "########################################################################\n",
    "\n",
    "sample_rate = 16000\n",
    "length = sample_rate * 10 # 10 seconds\n",
    "\n",
    "data = []\n",
    "prev_file = \"a\"\n",
    "\n",
    "for i, file in enumerate(metadata[\"id\"]):\n",
    "    \n",
    "    if i % 100 == 0:\n",
    "        print(f\"Completed {i} files\")\n",
    "    \n",
    "    if prev_file == file:\n",
    "        x, _ = librosa.load(Path(data_path, file + '/cough-shallow.wav'), sr=sample_rate)\n",
    "    else:\n",
    "        x, _ = librosa.load(Path(data_path, file + '/cough-heavy.wav'), sr=sample_rate) \n",
    "    \n",
    "    l = x.shape[0]\n",
    "    \n",
    "    if l >= length:\n",
    "        x = x[0:length]\n",
    "    else:\n",
    "        x = np.pad(x, (0,length-l), 'constant')\n",
    "\n",
    "    prev_file = file\n",
    "    \n",
    "    data.append(x)"
   ]
  },
  {
   "cell_type": "code",
   "execution_count": null,
   "metadata": {},
   "outputs": [],
   "source": [
    "np.savez(Path(data_path,\"coswara_16k.npz\"), x=data, y=labels)"
   ]
  },
  {
   "cell_type": "markdown",
   "metadata": {},
   "source": [
    "## Load data into tensorflow format"
   ]
  },
  {
   "cell_type": "code",
   "execution_count": null,
   "metadata": {},
   "outputs": [],
   "source": [
    "########################################################################\n",
    "#                           Data Loading                               #\n",
    "########################################################################\n",
    "\n",
    "with np.load(Path(data_path,\"coswara_16k.npz\")) as data:\n",
    "    X = data[\"x\"]\n",
    "    y = data[\"y\"]\n",
    "\n",
    "train_dataset = tf.data.Dataset.from_tensor_slices((X, y))"
   ]
  },
  {
   "cell_type": "code",
   "execution_count": null,
   "metadata": {},
   "outputs": [],
   "source": [
    "train_dataset"
   ]
  },
  {
   "cell_type": "code",
   "execution_count": null,
   "metadata": {},
   "outputs": [],
   "source": [
    "y.shape"
   ]
  }
 ],
 "metadata": {
  "kernelspec": {
   "display_name": "Python 3",
   "language": "python",
   "name": "python3"
  },
  "language_info": {
   "codemirror_mode": {
    "name": "ipython",
    "version": 3
   },
   "file_extension": ".py",
   "mimetype": "text/x-python",
   "name": "python",
   "nbconvert_exporter": "python",
   "pygments_lexer": "ipython3",
   "version": "3.8.5"
  }
 },
 "nbformat": 4,
 "nbformat_minor": 4
}
