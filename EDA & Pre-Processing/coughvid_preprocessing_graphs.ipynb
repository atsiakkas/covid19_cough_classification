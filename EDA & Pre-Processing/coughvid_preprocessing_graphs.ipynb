{
 "cells": [
  {
   "cell_type": "markdown",
   "metadata": {},
   "source": [
    "# Graphs for final report on Coughvid pre-processing"
   ]
  },
  {
   "cell_type": "markdown",
   "metadata": {},
   "source": [
    "## Imports"
   ]
  },
  {
   "cell_type": "code",
   "execution_count": 1,
   "metadata": {},
   "outputs": [],
   "source": [
    "# Data processing\n",
    "import numpy as np\n",
    "import pandas as pd\n",
    "\n",
    "# Data Visualisation\n",
    "import matplotlib.pyplot as plt\n",
    "import seaborn as sns\n",
    "\n",
    "plt.style.use('ggplot')\n",
    "%matplotlib inline\n",
    "\n",
    "# Audio files processing\n",
    "import pyaudio\n",
    "import wave\n",
    "#import simpleaudio\n",
    "\n",
    "# Manipualting File paths\n",
    "from pathlib import Path\n",
    "import os\n",
    "import re\n",
    "import glob"
   ]
  },
  {
   "cell_type": "markdown",
   "metadata": {},
   "source": [
    "### Parameters"
   ]
  },
  {
   "cell_type": "code",
   "execution_count": 2,
   "metadata": {},
   "outputs": [
    {
     "name": "stdout",
     "output_type": "stream",
     "text": [
      "Data folder: C:\\Users\\antre\\Documents\\mlp2_project\\datasets\\coughvid_dataset_updated\n",
      "Data summary file: C:\\Users\\antre\\Documents\\mlp2_project\\datasets\\coughvid_dataset_updated\\coughvid_metadata.csv\n",
      "Uncleaned data summary file: C:\\Users\\antre\\Documents\\mlp2_project\\metadata_compiled.csv\n"
     ]
    }
   ],
   "source": [
    "# Path to folder containing the data (can be used in both Linux and Windows)\n",
    "data_path = Path(Path.cwd().parent, \"datasets\",\"coughvid_dataset_updated\")\n",
    "print(f\"Data folder: {data_path}\")\n",
    "\n",
    "metadata_summary_path = os.path.join(data_path, 'coughvid_metadata.csv')\n",
    "print(f\"Data summary file: {metadata_summary_path}\")\n",
    "\n",
    "uncleaned_metadata_path = Path(Path.cwd().parent, \"metadata_compiled.csv\")\n",
    "print(f\"Uncleaned data summary file: {uncleaned_metadata_path}\")"
   ]
  },
  {
   "cell_type": "markdown",
   "metadata": {},
   "source": [
    "## Paths"
   ]
  },
  {
   "cell_type": "code",
   "execution_count": 3,
   "metadata": {},
   "outputs": [
    {
     "name": "stdout",
     "output_type": "stream",
     "text": [
      "<class 'pandas.core.frame.DataFrame'>\n",
      "RangeIndex: 8997 entries, 0 to 8996\n",
      "Data columns (total 9 columns):\n",
      " #   Column          Non-Null Count  Dtype  \n",
      "---  ------          --------------  -----  \n",
      " 0   uuid            8997 non-null   object \n",
      " 1   cough_detected  8997 non-null   float64\n",
      " 2   SNR             8997 non-null   float64\n",
      " 3   latitude        5443 non-null   float64\n",
      " 4   longitude       5443 non-null   float64\n",
      " 5   age             8511 non-null   float64\n",
      " 6   gender          8997 non-null   object \n",
      " 7   status          8997 non-null   object \n",
      " 8   length          8997 non-null   float64\n",
      "dtypes: float64(6), object(3)\n",
      "memory usage: 632.7+ KB\n",
      "There are 8997 rows (observations) and 9 columns in the metadata_summary DataFrame\n",
      "There are 27550 rows (observations) and 51 columns in the metadata_uncleaned DataFrame\n"
     ]
    }
   ],
   "source": [
    "metadata_summary = pd.read_csv(metadata_summary_path, delimiter = ',')\n",
    "metadata_uncleaned = pd.read_csv(uncleaned_metadata_path, delimiter = ',')\n",
    "\n",
    "metadata_summary.info() \n",
    "metadata_summary.describe()\n",
    "\n",
    "print(\"There are {} rows (observations) and {} columns in the metadata_summary DataFrame\"\\\n",
    "      .format(metadata_summary.shape[0], metadata_summary.shape[1]))\n",
    "\n",
    "print(\"There are {} rows (observations) and {} columns in the metadata_uncleaned DataFrame\"\\\n",
    "      .format(metadata_uncleaned.shape[0], metadata_uncleaned.shape[1]))\n",
    "\n",
    "cat_vars = [\"gender\", \"status\"]\n",
    "num_vars = [\"cough_detected\"]\n",
    "num_vars_2 = [\"age\", \"length\"]"
   ]
  },
  {
   "cell_type": "markdown",
   "metadata": {},
   "source": [
    "## Create single dataframe for cleaned and uncleaned datasets"
   ]
  },
  {
   "cell_type": "code",
   "execution_count": 4,
   "metadata": {},
   "outputs": [
    {
     "data": {
      "text/html": [
       "<div>\n",
       "<style scoped>\n",
       "    .dataframe tbody tr th:only-of-type {\n",
       "        vertical-align: middle;\n",
       "    }\n",
       "\n",
       "    .dataframe tbody tr th {\n",
       "        vertical-align: top;\n",
       "    }\n",
       "\n",
       "    .dataframe thead th {\n",
       "        text-align: right;\n",
       "    }\n",
       "</style>\n",
       "<table border=\"1\" class=\"dataframe\">\n",
       "  <thead>\n",
       "    <tr style=\"text-align: right;\">\n",
       "      <th></th>\n",
       "      <th>age</th>\n",
       "      <th>status</th>\n",
       "      <th>cough detection confidence</th>\n",
       "      <th>gender</th>\n",
       "      <th>Dataset</th>\n",
       "    </tr>\n",
       "  </thead>\n",
       "  <tbody>\n",
       "    <tr>\n",
       "      <th>0</th>\n",
       "      <td>NaN</td>\n",
       "      <td>unknown</td>\n",
       "      <td>0.0155</td>\n",
       "      <td>unknown</td>\n",
       "      <td>Raw</td>\n",
       "    </tr>\n",
       "    <tr>\n",
       "      <th>1</th>\n",
       "      <td>15.0</td>\n",
       "      <td>healthy</td>\n",
       "      <td>0.9609</td>\n",
       "      <td>male</td>\n",
       "      <td>Raw</td>\n",
       "    </tr>\n",
       "    <tr>\n",
       "      <th>2</th>\n",
       "      <td>46.0</td>\n",
       "      <td>healthy</td>\n",
       "      <td>0.1643</td>\n",
       "      <td>female</td>\n",
       "      <td>Raw</td>\n",
       "    </tr>\n",
       "    <tr>\n",
       "      <th>3</th>\n",
       "      <td>34.0</td>\n",
       "      <td>healthy</td>\n",
       "      <td>0.9301</td>\n",
       "      <td>male</td>\n",
       "      <td>Raw</td>\n",
       "    </tr>\n",
       "    <tr>\n",
       "      <th>4</th>\n",
       "      <td>NaN</td>\n",
       "      <td>unknown</td>\n",
       "      <td>0.0482</td>\n",
       "      <td>unknown</td>\n",
       "      <td>Raw</td>\n",
       "    </tr>\n",
       "  </tbody>\n",
       "</table>\n",
       "</div>"
      ],
      "text/plain": [
       "    age   status  cough detection confidence   gender Dataset\n",
       "0   NaN  unknown                      0.0155  unknown     Raw\n",
       "1  15.0  healthy                      0.9609     male     Raw\n",
       "2  46.0  healthy                      0.1643   female     Raw\n",
       "3  34.0  healthy                      0.9301     male     Raw\n",
       "4   NaN  unknown                      0.0482  unknown     Raw"
      ]
     },
     "execution_count": 4,
     "metadata": {},
     "output_type": "execute_result"
    }
   ],
   "source": [
    "age =  list(metadata_uncleaned[\"age\"]) + list(metadata_summary[\"age\"])\n",
    "gender = list(metadata_uncleaned[\"gender\"]) + list(metadata_summary[\"gender\"])\n",
    "status = list(metadata_uncleaned[\"status\"]) + list(metadata_summary[\"status\"])\n",
    "cough_detected =  list(metadata_uncleaned[\"cough_detected\"]) + list(metadata_summary[\"cough_detected\"])\n",
    "data =  [\"Raw\"]*27550 + [\"Cleaned\"]*8997\n",
    "\n",
    "combined = pd.DataFrame()\n",
    "combined[\"age\"] = age\n",
    "combined[\"status\"] = status\n",
    "combined[\"cough detection confidence\"] = cough_detected\n",
    "combined[\"gender\"] = gender\n",
    "combined[\"Dataset\"] = data\n",
    "\n",
    "combined.head()"
   ]
  },
  {
   "cell_type": "code",
   "execution_count": 5,
   "metadata": {},
   "outputs": [
    {
     "name": "stdout",
     "output_type": "stream",
     "text": [
      "{'symptomatic', 'unknown', 'COVID-19', 'healthy'}\n",
      "{'healthy', 'COVID-19'}\n"
     ]
    }
   ],
   "source": [
    "print(set(metadata_uncleaned[\"status\"]))\n",
    "print(set(metadata_summary[\"status\"]))"
   ]
  },
  {
   "cell_type": "markdown",
   "metadata": {},
   "source": [
    "## Data Exploration"
   ]
  },
  {
   "cell_type": "code",
   "execution_count": 7,
   "metadata": {},
   "outputs": [
    {
     "data": {
      "image/png": "[encoded data removed]",
      "text/plain": [
       "<Figure size 432x432 with 2 Axes>"
      ]
     },
     "metadata": {
      "needs_background": "light"
     },
     "output_type": "display_data"
    }
   ],
   "source": [
    "fig, axes = plt.subplots(2, 1, figsize=(6, 6), sharey=True)\n",
    "\n",
    "sns.countplot(ax=axes[0], x=\"status\", hue=\"Dataset\", palette=\"Set2\", data=combined, order=[\"COVID-19\", \"symptomatic\", \"healthy\",\"unknown\"])\n",
    "sns.histplot(combined, x=\"cough detection confidence\", hue=\"Dataset\", palette=\"Set2\", ax=axes[1], multiple=\"stack\")\n",
    "\n",
    "#sns.countplot(ax=axes[1], x=\"gender\", hue=\"Dataset\", palette=\"Set2\", data=combined, order=[\"female\", \"male\", \"other\", \"unknown\"]) \n",
    "\n",
    "fig.tight_layout()\n",
    "plt.savefig(\"eda.pdf\")"
   ]
  },
  {
   "cell_type": "code",
   "execution_count": null,
   "metadata": {},
   "outputs": [],
   "source": [
    "combined"
   ]
  },
  {
   "cell_type": "code",
   "execution_count": 136,
   "metadata": {},
   "outputs": [
    {
     "data": {
      "image/png": "[encoded data removed]",
      "text/plain": [
       "<Figure size 288x288 with 1 Axes>"
      ]
     },
     "metadata": {
      "needs_background": "light"
     },
     "output_type": "display_data"
    }
   ],
   "source": [
    "fig, axes = plt.subplots(1, 1, figsize=(4, 4), sharey=True)\n",
    "\n",
    "sns.histplot(combined, x=\"cough detection confidence\", hue=\"Dataset\", palette=\"Set2\", ax=axes, multiple=\"stack\")\n",
    "\n",
    "fig.tight_layout()\n",
    "plt.savefig(\"Numerical_vars.pdf\")"
   ]
  },
  {
   "cell_type": "markdown",
   "metadata": {},
   "source": [
    "## Graphs on Audio Segmentation"
   ]
  },
  {
   "cell_type": "code",
   "execution_count": 42,
   "metadata": {
    "scrolled": true
   },
   "outputs": [],
   "source": [
    "import librosa\n",
    "sns.set_theme()\n",
    "\n",
    "audio, sr = librosa.load(Path(data_path,\"dataset_wav\",\"00c2b443-4746-4337-857b-e705ddf6e133.wav\"), sr=16000)\n",
    "\n",
    "non_silent = librosa.effects.split(audio, top_db=25)\n",
    "# for i in non_silent:\n",
    "#     audio_trimmed = np.append(audio_trimmed, audio[i[0]: i[1]], axis=0)\n",
    "# plt.plot(audio_trimmed)\n",
    "# plt.show()"
   ]
  },
  {
   "cell_type": "code",
   "execution_count": 43,
   "metadata": {
    "scrolled": true
   },
   "outputs": [
    {
     "data": {
      "image/png": "[encoded data removed]",
      "text/plain": [
       "<Figure size 432x288 with 1 Axes>"
      ]
     },
     "metadata": {},
     "output_type": "display_data"
    }
   ],
   "source": [
    "fig, axes = plt.subplots(1, 1, figsize=(6, 4), sharey=True)\n",
    "fig.suptitle('Raw audio')\n",
    "\n",
    "axes.plot(audio)\n",
    "axes.set(xlabel='Frequency (Hz)', ylabel='Amplitude')\n",
    "\n",
    "fig.tight_layout()\n",
    "plt.savefig(\"audio_raw.pdf\")"
   ]
  },
  {
   "cell_type": "code",
   "execution_count": 46,
   "metadata": {
    "scrolled": true
   },
   "outputs": [
    {
     "data": {
      "image/png": "[encoded data removed]",
      "text/plain": [
       "<Figure size 648x288 with 5 Axes>"
      ]
     },
     "metadata": {},
     "output_type": "display_data"
    }
   ],
   "source": [
    "fig, axes = plt.subplots(1, len(non_silent), figsize=(9, 4), sharey=True, sharex=True)\n",
    "fig.suptitle('Segmented cough events')\n",
    "\n",
    "for i in range(len(non_silent)):\n",
    "    i1 = non_silent[i][0]\n",
    "    i2 = non_silent[i][1]\n",
    "    axes[i].plot(audio[i1:i2])\n",
    "    axes[i].set_title(f\"Chunk {i+1}\")\n",
    "    \n",
    "for ax in axes.flat:\n",
    "    ax.set(xlabel='Frequency (Hz)', ylabel='Amplitude')\n",
    "\n",
    "# Hide x labels and tick labels for top plots and y ticks for right plots.\n",
    "for ax in axes.flat:\n",
    "    ax.label_outer()    \n",
    "\n",
    "fig.tight_layout()\n",
    "plt.savefig(\"audio_chunks.pdf\")"
   ]
  },
  {
   "cell_type": "code",
   "execution_count": 49,
   "metadata": {},
   "outputs": [
    {
     "data": {
      "text/plain": [
       "32256"
      ]
     },
     "execution_count": 49,
     "metadata": {},
     "output_type": "execute_result"
    }
   ],
   "source": [
    "non_silent[0][1]"
   ]
  }
 ],
 "metadata": {
  "kernelspec": {
   "display_name": "Python 3",
   "language": "python",
   "name": "python3"
  },
  "language_info": {
   "codemirror_mode": {
    "name": "ipython",
    "version": 3
   },
   "file_extension": ".py",
   "mimetype": "text/x-python",
   "name": "python",
   "nbconvert_exporter": "python",
   "pygments_lexer": "ipython3",
   "version": "3.8.5"
  }
 },
 "nbformat": 4,
 "nbformat_minor": 5
}
