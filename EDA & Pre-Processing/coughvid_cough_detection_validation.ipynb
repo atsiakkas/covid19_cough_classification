{
 "cells": [
  {
   "cell_type": "markdown",
   "metadata": {},
   "source": [
    "# Validation of the cough detection confidence score\n",
    "\n",
    "This notebook runs the cough detection algorithm which is obtained from the following repository: https://c4science.ch/diffusion/10770/repository/master/\n",
    "\n",
    "The pre-print associated with that work can be found here: \n",
    "Orlandic, L., Teijeiro, T., & Atienza, D. (2020). The COUGHVID crowdsourcing dataset: A corpus for the study of large-scale cough analysis algorithms. arXiv preprint arXiv:2009.11644.\n",
    "\n",
    "The source files which include the models are imported and used for the dataset. This is to confirm that our initial pre-processing and down-sampling has not affected the quality of the audio files."
   ]
  },
  {
   "cell_type": "markdown",
   "metadata": {},
   "source": [
    "## Imports"
   ]
  },
  {
   "cell_type": "code",
   "execution_count": null,
   "metadata": {},
   "outputs": [],
   "source": [
    "import os\n",
    "import sys\n",
    "sys.path.append(os.path.abspath('../src'))\n",
    "from feature_class import features\n",
    "from DSP import classify_cough\n",
    "from scipy.io import wavfile\n",
    "import pickle\n",
    "import pandas as pd\n",
    "import numpy as np\n",
    "from segmentation import segment_cough, compute_SNR\n",
    "from pathlib import Path"
   ]
  },
  {
   "cell_type": "markdown",
   "metadata": {},
   "source": [
    "## Paths"
   ]
  },
  {
   "cell_type": "code",
   "execution_count": 6,
   "metadata": {},
   "outputs": [],
   "source": [
    "data_folder = '../public_dataset/'\n",
    "data_wav_folder = '../dataset_wav/'\n",
    "loaded_model = pickle.load(open(os.path.join('../models', 'cough_classifier'), 'rb'))\n",
    "loaded_scaler = pickle.load(open(os.path.join('../models','cough_classification_scaler'), 'rb'))"
   ]
  },
  {
   "cell_type": "markdown",
   "metadata": {},
   "source": [
    "## Conversion to .wav files\n",
    "\n",
    "The .webm and .ogg files are converted to .wav files using the command line utility command os.system "
   ]
  },
  {
   "cell_type": "code",
   "execution_count": 107,
   "metadata": {
    "scrolled": true
   },
   "outputs": [],
   "source": [
    "## Converted webm and ogg files to wav\n",
    "\n",
    "df = pd.read_csv(Path(data_folder,'metadata_compiled.csv'))\n",
    "file_names = df.uuid.to_numpy()\n",
    "n = file_names.shape[0]\n",
    "\n",
    "for counter, name in enumerate(file_names):\n",
    "    \n",
    "    if (counter%1000 == 0):\n",
    "        print(\"Finished {0}/{1}\".format(counter,len(names_to_convert)))\n",
    "    if os.path.isfile(data_folder + name + '.webm'):\n",
    "        os.system('cmd /c \"ffmpeg -i {0} {1}\"'.format(data_folder+name+\".webm\", data_folder+name+\".wav\"))\n",
    "    elif os.path.isfile(data_folder + name + '.ogg'):\n",
    "        os.system('cmd /c \"ffmpeg -i {0} {1}\"'.format(data_folder+name+\".ogg\", data_folder+name+\".wav\"))\n",
    "    else:\n",
    "        print(\"Error: No file name {0}\".format(name))"
   ]
  },
  {
   "cell_type": "markdown",
   "metadata": {},
   "source": [
    "## Cough Detection Algorithm & SNR calculation "
   ]
  },
  {
   "cell_type": "code",
   "execution_count": 8,
   "metadata": {
    "scrolled": true
   },
   "outputs": [
    {
     "name": "stdout",
     "output_type": "stream",
     "text": [
      "Finished 0/20072\n"
     ]
    },
    {
     "name": "stderr",
     "output_type": "stream",
     "text": [
      "C:\\Users\\antre\\Documents\\mlp2_project\\src\\segmentation.py:66: RuntimeWarning: divide by zero encountered in double_scalars\n",
      "  SNR = 0 if (RMS_signal==0 or np.isnan(RMS_noise)) else 20*np.log10(RMS_signal/RMS_noise)\n",
      "C:\\Users\\antre\\Documents\\mlp2_project\\src\\segmentation.py:66: RuntimeWarning: divide by zero encountered in double_scalars\n",
      "  SNR = 0 if (RMS_signal==0 or np.isnan(RMS_noise)) else 20*np.log10(RMS_signal/RMS_noise)\n",
      "C:\\Users\\antre\\Documents\\mlp2_project\\src\\segmentation.py:65: RuntimeWarning: invalid value encountered in sqrt\n",
      "  RMS_noise = np.sqrt(np.mean(np.square(x[~cough_mask])))\n"
     ]
    },
    {
     "name": "stdout",
     "output_type": "stream",
     "text": [
      "Finished 100/20072\n"
     ]
    },
    {
     "name": "stderr",
     "output_type": "stream",
     "text": [
      "C:\\Users\\antre\\Documents\\mlp2_project\\src\\segmentation.py:66: RuntimeWarning: divide by zero encountered in double_scalars\n",
      "  SNR = 0 if (RMS_signal==0 or np.isnan(RMS_noise)) else 20*np.log10(RMS_signal/RMS_noise)\n",
      "C:\\Users\\antre\\Documents\\mlp2_project\\src\\segmentation.py:66: RuntimeWarning: divide by zero encountered in double_scalars\n",
      "  SNR = 0 if (RMS_signal==0 or np.isnan(RMS_noise)) else 20*np.log10(RMS_signal/RMS_noise)\n",
      "C:\\Users\\antre\\Anaconda3\\envs\\coughvid_public\\lib\\site-packages\\numpy\\core\\fromnumeric.py:3372: RuntimeWarning: Mean of empty slice.\n",
      "  return _methods._mean(a, axis=axis, dtype=dtype,\n",
      "C:\\Users\\antre\\Anaconda3\\envs\\coughvid_public\\lib\\site-packages\\numpy\\core\\_methods.py:170: RuntimeWarning: invalid value encountered in double_scalars\n",
      "  ret = ret.dtype.type(ret / rcount)\n",
      "C:\\Users\\antre\\Documents\\mlp2_project\\src\\segmentation.py:66: RuntimeWarning: divide by zero encountered in double_scalars\n",
      "  SNR = 0 if (RMS_signal==0 or np.isnan(RMS_noise)) else 20*np.log10(RMS_signal/RMS_noise)\n",
      "C:\\Users\\antre\\Documents\\mlp2_project\\src\\segmentation.py:66: RuntimeWarning: divide by zero encountered in double_scalars\n",
      "  SNR = 0 if (RMS_signal==0 or np.isnan(RMS_noise)) else 20*np.log10(RMS_signal/RMS_noise)\n"
     ]
    },
    {
     "name": "stdout",
     "output_type": "stream",
     "text": [
      "Finished 200/20072\n"
     ]
    },
    {
     "name": "stderr",
     "output_type": "stream",
     "text": [
      "C:\\Users\\antre\\Documents\\mlp2_project\\src\\segmentation.py:66: RuntimeWarning: divide by zero encountered in double_scalars\n",
      "  SNR = 0 if (RMS_signal==0 or np.isnan(RMS_noise)) else 20*np.log10(RMS_signal/RMS_noise)\n",
      "C:\\Users\\antre\\Anaconda3\\envs\\coughvid_public\\lib\\site-packages\\numpy\\core\\fromnumeric.py:3372: RuntimeWarning: Mean of empty slice.\n",
      "  return _methods._mean(a, axis=axis, dtype=dtype,\n",
      "C:\\Users\\antre\\Anaconda3\\envs\\coughvid_public\\lib\\site-packages\\numpy\\core\\_methods.py:170: RuntimeWarning: invalid value encountered in double_scalars\n",
      "  ret = ret.dtype.type(ret / rcount)\n"
     ]
    },
    {
     "name": "stdout",
     "output_type": "stream",
     "text": [
      "Finished 300/20072\n"
     ]
    },
    {
     "name": "stderr",
     "output_type": "stream",
     "text": [
      "C:\\Users\\antre\\Anaconda3\\envs\\coughvid_public\\lib\\site-packages\\numpy\\core\\fromnumeric.py:3372: RuntimeWarning: Mean of empty slice.\n",
      "  return _methods._mean(a, axis=axis, dtype=dtype,\n",
      "C:\\Users\\antre\\Anaconda3\\envs\\coughvid_public\\lib\\site-packages\\numpy\\core\\_methods.py:170: RuntimeWarning: invalid value encountered in double_scalars\n",
      "  ret = ret.dtype.type(ret / rcount)\n",
      "C:\\Users\\antre\\Documents\\mlp2_project\\src\\segmentation.py:66: RuntimeWarning: divide by zero encountered in double_scalars\n",
      "  SNR = 0 if (RMS_signal==0 or np.isnan(RMS_noise)) else 20*np.log10(RMS_signal/RMS_noise)\n"
     ]
    },
    {
     "name": "stdout",
     "output_type": "stream",
     "text": [
      "Finished 400/20072\n"
     ]
    },
    {
     "name": "stderr",
     "output_type": "stream",
     "text": [
      "C:\\Users\\antre\\Documents\\mlp2_project\\src\\segmentation.py:23: RuntimeWarning: invalid value encountered in sqrt\n",
      "  rms = np.sqrt(np.mean(np.square(x)))\n"
     ]
    },
    {
     "name": "stdout",
     "output_type": "stream",
     "text": [
      "Finished 500/20072\n"
     ]
    },
    {
     "name": "stderr",
     "output_type": "stream",
     "text": [
      "C:\\Users\\antre\\Documents\\mlp2_project\\src\\segmentation.py:66: RuntimeWarning: divide by zero encountered in double_scalars\n",
      "  SNR = 0 if (RMS_signal==0 or np.isnan(RMS_noise)) else 20*np.log10(RMS_signal/RMS_noise)\n",
      "C:\\Users\\antre\\Anaconda3\\envs\\coughvid_public\\lib\\site-packages\\numpy\\core\\fromnumeric.py:3372: RuntimeWarning: Mean of empty slice.\n",
      "  return _methods._mean(a, axis=axis, dtype=dtype,\n",
      "C:\\Users\\antre\\Anaconda3\\envs\\coughvid_public\\lib\\site-packages\\numpy\\core\\_methods.py:170: RuntimeWarning: invalid value encountered in double_scalars\n",
      "  ret = ret.dtype.type(ret / rcount)\n"
     ]
    },
    {
     "name": "stdout",
     "output_type": "stream",
     "text": [
      "Finished 600/20072\n"
     ]
    },
    {
     "name": "stderr",
     "output_type": "stream",
     "text": [
      "C:\\Users\\antre\\Documents\\mlp2_project\\src\\segmentation.py:66: RuntimeWarning: divide by zero encountered in double_scalars\n",
      "  SNR = 0 if (RMS_signal==0 or np.isnan(RMS_noise)) else 20*np.log10(RMS_signal/RMS_noise)\n",
      "C:\\Users\\antre\\Documents\\mlp2_project\\src\\segmentation.py:66: RuntimeWarning: divide by zero encountered in double_scalars\n",
      "  SNR = 0 if (RMS_signal==0 or np.isnan(RMS_noise)) else 20*np.log10(RMS_signal/RMS_noise)\n",
      "C:\\Users\\antre\\Documents\\mlp2_project\\src\\segmentation.py:66: RuntimeWarning: divide by zero encountered in double_scalars\n",
      "  SNR = 0 if (RMS_signal==0 or np.isnan(RMS_noise)) else 20*np.log10(RMS_signal/RMS_noise)\n",
      "C:\\Users\\antre\\Documents\\mlp2_project\\src\\segmentation.py:66: RuntimeWarning: divide by zero encountered in double_scalars\n",
      "  SNR = 0 if (RMS_signal==0 or np.isnan(RMS_noise)) else 20*np.log10(RMS_signal/RMS_noise)\n"
     ]
    },
    {
     "name": "stdout",
     "output_type": "stream",
     "text": [
      "Finished 700/20072\n"
     ]
    },
    {
     "name": "stderr",
     "output_type": "stream",
     "text": [
      "C:\\Users\\antre\\Anaconda3\\envs\\coughvid_public\\lib\\site-packages\\numpy\\core\\fromnumeric.py:3372: RuntimeWarning: Mean of empty slice.\n",
      "  return _methods._mean(a, axis=axis, dtype=dtype,\n",
      "C:\\Users\\antre\\Anaconda3\\envs\\coughvid_public\\lib\\site-packages\\numpy\\core\\_methods.py:170: RuntimeWarning: invalid value encountered in double_scalars\n",
      "  ret = ret.dtype.type(ret / rcount)\n",
      "C:\\Users\\antre\\Documents\\mlp2_project\\src\\segmentation.py:66: RuntimeWarning: divide by zero encountered in double_scalars\n",
      "  SNR = 0 if (RMS_signal==0 or np.isnan(RMS_noise)) else 20*np.log10(RMS_signal/RMS_noise)\n",
      "C:\\Users\\antre\\Documents\\mlp2_project\\src\\feature_class.py:134: RuntimeWarning: invalid value encountered in double_scalars\n",
      "  spec_centroid = np.sum(magnitudes*freqs) / sum_mag\n",
      "C:\\Users\\antre\\Documents\\mlp2_project\\src\\feature_class.py:167: RuntimeWarning: divide by zero encountered in double_scalars\n",
      "  SF = gmean/amean\n",
      "C:\\Users\\antre\\Documents\\mlp2_project\\src\\feature_class.py:218: RuntimeWarning: invalid value encountered in true_divide\n",
      "  return np.ones((1,1))*peak/RMS, ['Crest_Factor']\n",
      "C:\\Users\\antre\\Documents\\mlp2_project\\src\\feature_class.py:237: RuntimeWarning: invalid value encountered in double_scalars\n",
      "  feat.append(band_power/total_power)\n",
      "C:\\Users\\antre\\Documents\\mlp2_project\\src\\feature_class.py:237: RuntimeWarning: invalid value encountered in float_scalars\n",
      "  feat.append(band_power/total_power)\n",
      "C:\\Users\\antre\\Documents\\mlp2_project\\src\\segmentation.py:66: RuntimeWarning: divide by zero encountered in double_scalars\n",
      "  SNR = 0 if (RMS_signal==0 or np.isnan(RMS_noise)) else 20*np.log10(RMS_signal/RMS_noise)\n",
      "C:\\Users\\antre\\Documents\\mlp2_project\\src\\segmentation.py:66: RuntimeWarning: divide by zero encountered in double_scalars\n",
      "  SNR = 0 if (RMS_signal==0 or np.isnan(RMS_noise)) else 20*np.log10(RMS_signal/RMS_noise)\n",
      "C:\\Users\\antre\\Documents\\mlp2_project\\src\\segmentation.py:66: RuntimeWarning: divide by zero encountered in double_scalars\n",
      "  SNR = 0 if (RMS_signal==0 or np.isnan(RMS_noise)) else 20*np.log10(RMS_signal/RMS_noise)\n"
     ]
    },
    {
     "name": "stdout",
     "output_type": "stream",
     "text": [
      "Finished 800/20072\n"
     ]
    },
    {
     "name": "stderr",
     "output_type": "stream",
     "text": [
      "C:\\Users\\antre\\Documents\\mlp2_project\\src\\segmentation.py:66: RuntimeWarning: divide by zero encountered in double_scalars\n",
      "  SNR = 0 if (RMS_signal==0 or np.isnan(RMS_noise)) else 20*np.log10(RMS_signal/RMS_noise)\n",
      "C:\\Users\\antre\\Anaconda3\\envs\\coughvid_public\\lib\\site-packages\\numpy\\core\\fromnumeric.py:3372: RuntimeWarning: Mean of empty slice.\n",
      "  return _methods._mean(a, axis=axis, dtype=dtype,\n",
      "C:\\Users\\antre\\Anaconda3\\envs\\coughvid_public\\lib\\site-packages\\numpy\\core\\_methods.py:170: RuntimeWarning: invalid value encountered in double_scalars\n",
      "  ret = ret.dtype.type(ret / rcount)\n",
      "C:\\Users\\antre\\Anaconda3\\envs\\coughvid_public\\lib\\site-packages\\numpy\\core\\fromnumeric.py:3372: RuntimeWarning: Mean of empty slice.\n",
      "  return _methods._mean(a, axis=axis, dtype=dtype,\n",
      "C:\\Users\\antre\\Anaconda3\\envs\\coughvid_public\\lib\\site-packages\\numpy\\core\\_methods.py:170: RuntimeWarning: invalid value encountered in double_scalars\n",
      "  ret = ret.dtype.type(ret / rcount)\n",
      "C:\\Users\\antre\\Anaconda3\\envs\\coughvid_public\\lib\\site-packages\\numpy\\core\\fromnumeric.py:3372: RuntimeWarning: Mean of empty slice.\n",
      "  return _methods._mean(a, axis=axis, dtype=dtype,\n",
      "C:\\Users\\antre\\Anaconda3\\envs\\coughvid_public\\lib\\site-packages\\numpy\\core\\_methods.py:170: RuntimeWarning: invalid value encountered in double_scalars\n",
      "  ret = ret.dtype.type(ret / rcount)\n"
     ]
    },
    {
     "name": "stdout",
     "output_type": "stream",
     "text": [
      "Finished 900/20072\n"
     ]
    },
    {
     "name": "stderr",
     "output_type": "stream",
     "text": [
      "C:\\Users\\antre\\Documents\\mlp2_project\\src\\segmentation.py:66: RuntimeWarning: divide by zero encountered in double_scalars\n",
      "  SNR = 0 if (RMS_signal==0 or np.isnan(RMS_noise)) else 20*np.log10(RMS_signal/RMS_noise)\n",
      "C:\\Users\\antre\\Documents\\mlp2_project\\src\\segmentation.py:66: RuntimeWarning: divide by zero encountered in double_scalars\n",
      "  SNR = 0 if (RMS_signal==0 or np.isnan(RMS_noise)) else 20*np.log10(RMS_signal/RMS_noise)\n",
      "C:\\Users\\antre\\Documents\\mlp2_project\\src\\segmentation.py:66: RuntimeWarning: divide by zero encountered in double_scalars\n",
      "  SNR = 0 if (RMS_signal==0 or np.isnan(RMS_noise)) else 20*np.log10(RMS_signal/RMS_noise)\n",
      "C:\\Users\\antre\\Documents\\mlp2_project\\src\\segmentation.py:66: RuntimeWarning: divide by zero encountered in double_scalars\n",
      "  SNR = 0 if (RMS_signal==0 or np.isnan(RMS_noise)) else 20*np.log10(RMS_signal/RMS_noise)\n"
     ]
    },
    {
     "name": "stdout",
     "output_type": "stream",
     "text": [
      "Finished 1000/20072\n"
     ]
    },
    {
     "name": "stderr",
     "output_type": "stream",
     "text": [
      "C:\\Users\\antre\\Documents\\mlp2_project\\src\\segmentation.py:66: RuntimeWarning: divide by zero encountered in double_scalars\n",
      "  SNR = 0 if (RMS_signal==0 or np.isnan(RMS_noise)) else 20*np.log10(RMS_signal/RMS_noise)\n",
      "C:\\Users\\antre\\Documents\\mlp2_project\\src\\segmentation.py:66: RuntimeWarning: divide by zero encountered in double_scalars\n",
      "  SNR = 0 if (RMS_signal==0 or np.isnan(RMS_noise)) else 20*np.log10(RMS_signal/RMS_noise)\n",
      "C:\\Users\\antre\\Documents\\mlp2_project\\src\\segmentation.py:66: RuntimeWarning: divide by zero encountered in double_scalars\n",
      "  SNR = 0 if (RMS_signal==0 or np.isnan(RMS_noise)) else 20*np.log10(RMS_signal/RMS_noise)\n",
      "C:\\Users\\antre\\Documents\\mlp2_project\\src\\segmentation.py:66: RuntimeWarning: divide by zero encountered in double_scalars\n",
      "  SNR = 0 if (RMS_signal==0 or np.isnan(RMS_noise)) else 20*np.log10(RMS_signal/RMS_noise)\n",
      "C:\\Users\\antre\\Documents\\mlp2_project\\src\\segmentation.py:66: RuntimeWarning: divide by zero encountered in double_scalars\n",
      "  SNR = 0 if (RMS_signal==0 or np.isnan(RMS_noise)) else 20*np.log10(RMS_signal/RMS_noise)\n",
      "C:\\Users\\antre\\Documents\\mlp2_project\\src\\segmentation.py:66: RuntimeWarning: divide by zero encountered in double_scalars\n",
      "  SNR = 0 if (RMS_signal==0 or np.isnan(RMS_noise)) else 20*np.log10(RMS_signal/RMS_noise)\n"
     ]
    },
    {
     "name": "stdout",
     "output_type": "stream",
     "text": [
      "Finished 1100/20072\n"
     ]
    },
    {
     "name": "stderr",
     "output_type": "stream",
     "text": [
      "C:\\Users\\antre\\Documents\\mlp2_project\\src\\segmentation.py:66: RuntimeWarning: divide by zero encountered in double_scalars\n",
      "  SNR = 0 if (RMS_signal==0 or np.isnan(RMS_noise)) else 20*np.log10(RMS_signal/RMS_noise)\n",
      "C:\\Users\\antre\\Anaconda3\\envs\\coughvid_public\\lib\\site-packages\\numpy\\core\\fromnumeric.py:3372: RuntimeWarning: Mean of empty slice.\n",
      "  return _methods._mean(a, axis=axis, dtype=dtype,\n",
      "C:\\Users\\antre\\Anaconda3\\envs\\coughvid_public\\lib\\site-packages\\numpy\\core\\_methods.py:170: RuntimeWarning: invalid value encountered in double_scalars\n",
      "  ret = ret.dtype.type(ret / rcount)\n",
      "C:\\Users\\antre\\Documents\\mlp2_project\\src\\segmentation.py:66: RuntimeWarning: divide by zero encountered in double_scalars\n",
      "  SNR = 0 if (RMS_signal==0 or np.isnan(RMS_noise)) else 20*np.log10(RMS_signal/RMS_noise)\n",
      "C:\\Users\\antre\\Documents\\mlp2_project\\src\\segmentation.py:66: RuntimeWarning: divide by zero encountered in double_scalars\n",
      "  SNR = 0 if (RMS_signal==0 or np.isnan(RMS_noise)) else 20*np.log10(RMS_signal/RMS_noise)\n"
     ]
    },
    {
     "name": "stdout",
     "output_type": "stream",
     "text": [
      "Finished 1200/20072\n"
     ]
    },
    {
     "name": "stderr",
     "output_type": "stream",
     "text": [
      "C:\\Users\\antre\\Anaconda3\\envs\\coughvid_public\\lib\\site-packages\\numpy\\core\\fromnumeric.py:3372: RuntimeWarning: Mean of empty slice.\n",
      "  return _methods._mean(a, axis=axis, dtype=dtype,\n",
      "C:\\Users\\antre\\Anaconda3\\envs\\coughvid_public\\lib\\site-packages\\numpy\\core\\_methods.py:170: RuntimeWarning: invalid value encountered in double_scalars\n",
      "  ret = ret.dtype.type(ret / rcount)\n",
      "C:\\Users\\antre\\Documents\\mlp2_project\\src\\segmentation.py:66: RuntimeWarning: divide by zero encountered in double_scalars\n",
      "  SNR = 0 if (RMS_signal==0 or np.isnan(RMS_noise)) else 20*np.log10(RMS_signal/RMS_noise)\n"
     ]
    },
    {
     "name": "stdout",
     "output_type": "stream",
     "text": [
      "Finished 1300/20072\n"
     ]
    },
    {
     "name": "stderr",
     "output_type": "stream",
     "text": [
      "C:\\Users\\antre\\Anaconda3\\envs\\coughvid_public\\lib\\site-packages\\numpy\\core\\fromnumeric.py:3372: RuntimeWarning: Mean of empty slice.\n",
      "  return _methods._mean(a, axis=axis, dtype=dtype,\n",
      "C:\\Users\\antre\\Anaconda3\\envs\\coughvid_public\\lib\\site-packages\\numpy\\core\\_methods.py:170: RuntimeWarning: invalid value encountered in double_scalars\n",
      "  ret = ret.dtype.type(ret / rcount)\n",
      "C:\\Users\\antre\\Anaconda3\\envs\\coughvid_public\\lib\\site-packages\\numpy\\core\\fromnumeric.py:3372: RuntimeWarning: Mean of empty slice.\n",
      "  return _methods._mean(a, axis=axis, dtype=dtype,\n",
      "C:\\Users\\antre\\Anaconda3\\envs\\coughvid_public\\lib\\site-packages\\numpy\\core\\_methods.py:170: RuntimeWarning: invalid value encountered in double_scalars\n",
      "  ret = ret.dtype.type(ret / rcount)\n",
      "C:\\Users\\antre\\Documents\\mlp2_project\\src\\segmentation.py:66: RuntimeWarning: divide by zero encountered in double_scalars\n",
      "  SNR = 0 if (RMS_signal==0 or np.isnan(RMS_noise)) else 20*np.log10(RMS_signal/RMS_noise)\n"
     ]
    },
    {
     "name": "stdout",
     "output_type": "stream",
     "text": [
      "Finished 1400/20072\n"
     ]
    },
    {
     "name": "stderr",
     "output_type": "stream",
     "text": [
      "C:\\Users\\antre\\Documents\\mlp2_project\\src\\segmentation.py:66: RuntimeWarning: divide by zero encountered in double_scalars\n",
      "  SNR = 0 if (RMS_signal==0 or np.isnan(RMS_noise)) else 20*np.log10(RMS_signal/RMS_noise)\n",
      "C:\\Users\\antre\\Documents\\mlp2_project\\src\\segmentation.py:66: RuntimeWarning: divide by zero encountered in double_scalars\n",
      "  SNR = 0 if (RMS_signal==0 or np.isnan(RMS_noise)) else 20*np.log10(RMS_signal/RMS_noise)\n"
     ]
    },
    {
     "name": "stdout",
     "output_type": "stream",
     "text": [
      "Finished 1500/20072\n"
     ]
    },
    {
     "name": "stderr",
     "output_type": "stream",
     "text": [
      "C:\\Users\\antre\\Documents\\mlp2_project\\src\\segmentation.py:66: RuntimeWarning: divide by zero encountered in double_scalars\n",
      "  SNR = 0 if (RMS_signal==0 or np.isnan(RMS_noise)) else 20*np.log10(RMS_signal/RMS_noise)\n",
      "C:\\Users\\antre\\Documents\\mlp2_project\\src\\segmentation.py:66: RuntimeWarning: divide by zero encountered in double_scalars\n",
      "  SNR = 0 if (RMS_signal==0 or np.isnan(RMS_noise)) else 20*np.log10(RMS_signal/RMS_noise)\n",
      "C:\\Users\\antre\\Documents\\mlp2_project\\src\\segmentation.py:66: RuntimeWarning: divide by zero encountered in double_scalars\n",
      "  SNR = 0 if (RMS_signal==0 or np.isnan(RMS_noise)) else 20*np.log10(RMS_signal/RMS_noise)\n"
     ]
    },
    {
     "name": "stdout",
     "output_type": "stream",
     "text": [
      "Finished 1600/20072\n"
     ]
    },
    {
     "name": "stderr",
     "output_type": "stream",
     "text": [
      "C:\\Users\\antre\\Documents\\mlp2_project\\src\\segmentation.py:66: RuntimeWarning: divide by zero encountered in double_scalars\n",
      "  SNR = 0 if (RMS_signal==0 or np.isnan(RMS_noise)) else 20*np.log10(RMS_signal/RMS_noise)\n",
      "C:\\Users\\antre\\Documents\\mlp2_project\\src\\segmentation.py:66: RuntimeWarning: divide by zero encountered in double_scalars\n",
      "  SNR = 0 if (RMS_signal==0 or np.isnan(RMS_noise)) else 20*np.log10(RMS_signal/RMS_noise)\n",
      "C:\\Users\\antre\\Documents\\mlp2_project\\src\\segmentation.py:66: RuntimeWarning: divide by zero encountered in double_scalars\n",
      "  SNR = 0 if (RMS_signal==0 or np.isnan(RMS_noise)) else 20*np.log10(RMS_signal/RMS_noise)\n"
     ]
    },
    {
     "name": "stdout",
     "output_type": "stream",
     "text": [
      "Finished 1700/20072\n"
     ]
    },
    {
     "name": "stderr",
     "output_type": "stream",
     "text": [
      "C:\\Users\\antre\\Documents\\mlp2_project\\src\\segmentation.py:66: RuntimeWarning: divide by zero encountered in double_scalars\n",
      "  SNR = 0 if (RMS_signal==0 or np.isnan(RMS_noise)) else 20*np.log10(RMS_signal/RMS_noise)\n"
     ]
    },
    {
     "name": "stdout",
     "output_type": "stream",
     "text": [
      "Finished 1800/20072\n"
     ]
    },
    {
     "name": "stderr",
     "output_type": "stream",
     "text": [
      "C:\\Users\\antre\\Documents\\mlp2_project\\src\\segmentation.py:66: RuntimeWarning: divide by zero encountered in double_scalars\n",
      "  SNR = 0 if (RMS_signal==0 or np.isnan(RMS_noise)) else 20*np.log10(RMS_signal/RMS_noise)\n"
     ]
    },
    {
     "name": "stdout",
     "output_type": "stream",
     "text": [
      "Finished 1900/20072\n"
     ]
    },
    {
     "name": "stderr",
     "output_type": "stream",
     "text": [
      "C:\\Users\\antre\\Documents\\mlp2_project\\src\\segmentation.py:66: RuntimeWarning: divide by zero encountered in double_scalars\n",
      "  SNR = 0 if (RMS_signal==0 or np.isnan(RMS_noise)) else 20*np.log10(RMS_signal/RMS_noise)\n",
      "C:\\Users\\antre\\Documents\\mlp2_project\\src\\segmentation.py:66: RuntimeWarning: divide by zero encountered in double_scalars\n",
      "  SNR = 0 if (RMS_signal==0 or np.isnan(RMS_noise)) else 20*np.log10(RMS_signal/RMS_noise)\n",
      "C:\\Users\\antre\\Documents\\mlp2_project\\src\\segmentation.py:66: RuntimeWarning: divide by zero encountered in double_scalars\n",
      "  SNR = 0 if (RMS_signal==0 or np.isnan(RMS_noise)) else 20*np.log10(RMS_signal/RMS_noise)\n"
     ]
    },
    {
     "name": "stdout",
     "output_type": "stream",
     "text": [
      "Finished 2000/20072\n"
     ]
    },
    {
     "name": "stderr",
     "output_type": "stream",
     "text": [
      "C:\\Users\\antre\\Anaconda3\\envs\\coughvid_public\\lib\\site-packages\\numpy\\core\\fromnumeric.py:3372: RuntimeWarning: Mean of empty slice.\n",
      "  return _methods._mean(a, axis=axis, dtype=dtype,\n",
      "C:\\Users\\antre\\Anaconda3\\envs\\coughvid_public\\lib\\site-packages\\numpy\\core\\_methods.py:170: RuntimeWarning: invalid value encountered in double_scalars\n",
      "  ret = ret.dtype.type(ret / rcount)\n",
      "C:\\Users\\antre\\Documents\\mlp2_project\\src\\segmentation.py:66: RuntimeWarning: divide by zero encountered in double_scalars\n",
      "  SNR = 0 if (RMS_signal==0 or np.isnan(RMS_noise)) else 20*np.log10(RMS_signal/RMS_noise)\n",
      "C:\\Users\\antre\\Documents\\mlp2_project\\src\\segmentation.py:66: RuntimeWarning: divide by zero encountered in double_scalars\n",
      "  SNR = 0 if (RMS_signal==0 or np.isnan(RMS_noise)) else 20*np.log10(RMS_signal/RMS_noise)\n",
      "C:\\Users\\antre\\Anaconda3\\envs\\coughvid_public\\lib\\site-packages\\numpy\\core\\fromnumeric.py:3372: RuntimeWarning: Mean of empty slice.\n",
      "  return _methods._mean(a, axis=axis, dtype=dtype,\n",
      "C:\\Users\\antre\\Anaconda3\\envs\\coughvid_public\\lib\\site-packages\\numpy\\core\\_methods.py:170: RuntimeWarning: invalid value encountered in double_scalars\n",
      "  ret = ret.dtype.type(ret / rcount)\n"
     ]
    },
    {
     "name": "stdout",
     "output_type": "stream",
     "text": [
      "Finished 2100/20072\n"
     ]
    },
    {
     "name": "stderr",
     "output_type": "stream",
     "text": [
      "C:\\Users\\antre\\Documents\\mlp2_project\\src\\segmentation.py:66: RuntimeWarning: divide by zero encountered in double_scalars\n",
      "  SNR = 0 if (RMS_signal==0 or np.isnan(RMS_noise)) else 20*np.log10(RMS_signal/RMS_noise)\n",
      "C:\\Users\\antre\\Documents\\mlp2_project\\src\\feature_class.py:134: RuntimeWarning: invalid value encountered in double_scalars\n",
      "  spec_centroid = np.sum(magnitudes*freqs) / sum_mag\n",
      "C:\\Users\\antre\\Documents\\mlp2_project\\src\\feature_class.py:167: RuntimeWarning: divide by zero encountered in double_scalars\n",
      "  SF = gmean/amean\n",
      "C:\\Users\\antre\\Documents\\mlp2_project\\src\\feature_class.py:218: RuntimeWarning: invalid value encountered in true_divide\n",
      "  return np.ones((1,1))*peak/RMS, ['Crest_Factor']\n",
      "C:\\Users\\antre\\Documents\\mlp2_project\\src\\feature_class.py:237: RuntimeWarning: invalid value encountered in double_scalars\n",
      "  feat.append(band_power/total_power)\n",
      "C:\\Users\\antre\\Documents\\mlp2_project\\src\\feature_class.py:237: RuntimeWarning: invalid value encountered in float_scalars\n",
      "  feat.append(band_power/total_power)\n",
      "C:\\Users\\antre\\Documents\\mlp2_project\\src\\segmentation.py:66: RuntimeWarning: divide by zero encountered in double_scalars\n",
      "  SNR = 0 if (RMS_signal==0 or np.isnan(RMS_noise)) else 20*np.log10(RMS_signal/RMS_noise)\n",
      "C:\\Users\\antre\\Anaconda3\\envs\\coughvid_public\\lib\\site-packages\\numpy\\core\\fromnumeric.py:3372: RuntimeWarning: Mean of empty slice.\n",
      "  return _methods._mean(a, axis=axis, dtype=dtype,\n",
      "C:\\Users\\antre\\Anaconda3\\envs\\coughvid_public\\lib\\site-packages\\numpy\\core\\_methods.py:170: RuntimeWarning: invalid value encountered in double_scalars\n",
      "  ret = ret.dtype.type(ret / rcount)\n",
      "C:\\Users\\antre\\Documents\\mlp2_project\\src\\segmentation.py:66: RuntimeWarning: divide by zero encountered in double_scalars\n",
      "  SNR = 0 if (RMS_signal==0 or np.isnan(RMS_noise)) else 20*np.log10(RMS_signal/RMS_noise)\n",
      "C:\\Users\\antre\\Documents\\mlp2_project\\src\\segmentation.py:66: RuntimeWarning: divide by zero encountered in double_scalars\n",
      "  SNR = 0 if (RMS_signal==0 or np.isnan(RMS_noise)) else 20*np.log10(RMS_signal/RMS_noise)\n"
     ]
    },
    {
     "name": "stdout",
     "output_type": "stream",
     "text": [
      "Finished 2200/20072\n"
     ]
    },
    {
     "name": "stderr",
     "output_type": "stream",
     "text": [
      "C:\\Users\\antre\\Anaconda3\\envs\\coughvid_public\\lib\\site-packages\\numpy\\core\\fromnumeric.py:3372: RuntimeWarning: Mean of empty slice.\n",
      "  return _methods._mean(a, axis=axis, dtype=dtype,\n",
      "C:\\Users\\antre\\Anaconda3\\envs\\coughvid_public\\lib\\site-packages\\numpy\\core\\_methods.py:170: RuntimeWarning: invalid value encountered in double_scalars\n",
      "  ret = ret.dtype.type(ret / rcount)\n",
      "C:\\Users\\antre\\Documents\\mlp2_project\\src\\segmentation.py:66: RuntimeWarning: divide by zero encountered in double_scalars\n",
      "  SNR = 0 if (RMS_signal==0 or np.isnan(RMS_noise)) else 20*np.log10(RMS_signal/RMS_noise)\n",
      "C:\\Users\\antre\\Documents\\mlp2_project\\src\\segmentation.py:66: RuntimeWarning: divide by zero encountered in double_scalars\n",
      "  SNR = 0 if (RMS_signal==0 or np.isnan(RMS_noise)) else 20*np.log10(RMS_signal/RMS_noise)\n"
     ]
    },
    {
     "name": "stdout",
     "output_type": "stream",
     "text": [
      "Finished 2300/20072\n"
     ]
    },
    {
     "name": "stderr",
     "output_type": "stream",
     "text": [
      "C:\\Users\\antre\\Anaconda3\\envs\\coughvid_public\\lib\\site-packages\\numpy\\core\\fromnumeric.py:3372: RuntimeWarning: Mean of empty slice.\n",
      "  return _methods._mean(a, axis=axis, dtype=dtype,\n",
      "C:\\Users\\antre\\Anaconda3\\envs\\coughvid_public\\lib\\site-packages\\numpy\\core\\_methods.py:170: RuntimeWarning: invalid value encountered in double_scalars\n",
      "  ret = ret.dtype.type(ret / rcount)\n",
      "C:\\Users\\antre\\Documents\\mlp2_project\\src\\segmentation.py:66: RuntimeWarning: divide by zero encountered in double_scalars\n",
      "  SNR = 0 if (RMS_signal==0 or np.isnan(RMS_noise)) else 20*np.log10(RMS_signal/RMS_noise)\n",
      "C:\\Users\\antre\\Anaconda3\\envs\\coughvid_public\\lib\\site-packages\\numpy\\core\\fromnumeric.py:3372: RuntimeWarning: Mean of empty slice.\n",
      "  return _methods._mean(a, axis=axis, dtype=dtype,\n",
      "C:\\Users\\antre\\Anaconda3\\envs\\coughvid_public\\lib\\site-packages\\numpy\\core\\_methods.py:170: RuntimeWarning: invalid value encountered in double_scalars\n",
      "  ret = ret.dtype.type(ret / rcount)\n"
     ]
    },
    {
     "name": "stdout",
     "output_type": "stream",
     "text": [
      "Finished 2400/20072\n"
     ]
    },
    {
     "name": "stderr",
     "output_type": "stream",
     "text": [
      "C:\\Users\\antre\\Documents\\mlp2_project\\src\\segmentation.py:66: RuntimeWarning: divide by zero encountered in double_scalars\n",
      "  SNR = 0 if (RMS_signal==0 or np.isnan(RMS_noise)) else 20*np.log10(RMS_signal/RMS_noise)\n",
      "C:\\Users\\antre\\Anaconda3\\envs\\coughvid_public\\lib\\site-packages\\numpy\\core\\fromnumeric.py:3372: RuntimeWarning: Mean of empty slice.\n",
      "  return _methods._mean(a, axis=axis, dtype=dtype,\n",
      "C:\\Users\\antre\\Anaconda3\\envs\\coughvid_public\\lib\\site-packages\\numpy\\core\\_methods.py:170: RuntimeWarning: invalid value encountered in double_scalars\n",
      "  ret = ret.dtype.type(ret / rcount)\n",
      "C:\\Users\\antre\\Documents\\mlp2_project\\src\\feature_class.py:134: RuntimeWarning: invalid value encountered in double_scalars\n",
      "  spec_centroid = np.sum(magnitudes*freqs) / sum_mag\n",
      "C:\\Users\\antre\\Documents\\mlp2_project\\src\\feature_class.py:167: RuntimeWarning: divide by zero encountered in double_scalars\n",
      "  SF = gmean/amean\n",
      "C:\\Users\\antre\\Documents\\mlp2_project\\src\\feature_class.py:218: RuntimeWarning: invalid value encountered in true_divide\n",
      "  return np.ones((1,1))*peak/RMS, ['Crest_Factor']\n",
      "C:\\Users\\antre\\Documents\\mlp2_project\\src\\feature_class.py:237: RuntimeWarning: invalid value encountered in double_scalars\n",
      "  feat.append(band_power/total_power)\n",
      "C:\\Users\\antre\\Documents\\mlp2_project\\src\\feature_class.py:237: RuntimeWarning: invalid value encountered in float_scalars\n",
      "  feat.append(band_power/total_power)\n",
      "C:\\Users\\antre\\Anaconda3\\envs\\coughvid_public\\lib\\site-packages\\numpy\\core\\fromnumeric.py:3372: RuntimeWarning: Mean of empty slice.\n",
      "  return _methods._mean(a, axis=axis, dtype=dtype,\n",
      "C:\\Users\\antre\\Anaconda3\\envs\\coughvid_public\\lib\\site-packages\\numpy\\core\\_methods.py:170: RuntimeWarning: invalid value encountered in double_scalars\n",
      "  ret = ret.dtype.type(ret / rcount)\n"
     ]
    },
    {
     "name": "stdout",
     "output_type": "stream",
     "text": [
      "Finished 2500/20072\n"
     ]
    },
    {
     "name": "stderr",
     "output_type": "stream",
     "text": [
      "C:\\Users\\antre\\Documents\\mlp2_project\\src\\segmentation.py:66: RuntimeWarning: divide by zero encountered in double_scalars\n",
      "  SNR = 0 if (RMS_signal==0 or np.isnan(RMS_noise)) else 20*np.log10(RMS_signal/RMS_noise)\n",
      "C:\\Users\\antre\\Documents\\mlp2_project\\src\\segmentation.py:66: RuntimeWarning: divide by zero encountered in double_scalars\n",
      "  SNR = 0 if (RMS_signal==0 or np.isnan(RMS_noise)) else 20*np.log10(RMS_signal/RMS_noise)\n",
      "C:\\Users\\antre\\Documents\\mlp2_project\\src\\feature_class.py:134: RuntimeWarning: invalid value encountered in double_scalars\n",
      "  spec_centroid = np.sum(magnitudes*freqs) / sum_mag\n",
      "C:\\Users\\antre\\Documents\\mlp2_project\\src\\feature_class.py:167: RuntimeWarning: divide by zero encountered in double_scalars\n",
      "  SF = gmean/amean\n",
      "C:\\Users\\antre\\Documents\\mlp2_project\\src\\feature_class.py:218: RuntimeWarning: invalid value encountered in true_divide\n",
      "  return np.ones((1,1))*peak/RMS, ['Crest_Factor']\n",
      "C:\\Users\\antre\\Documents\\mlp2_project\\src\\feature_class.py:237: RuntimeWarning: invalid value encountered in double_scalars\n",
      "  feat.append(band_power/total_power)\n",
      "C:\\Users\\antre\\Documents\\mlp2_project\\src\\feature_class.py:237: RuntimeWarning: invalid value encountered in float_scalars\n",
      "  feat.append(band_power/total_power)\n",
      "C:\\Users\\antre\\Documents\\mlp2_project\\src\\segmentation.py:66: RuntimeWarning: divide by zero encountered in double_scalars\n",
      "  SNR = 0 if (RMS_signal==0 or np.isnan(RMS_noise)) else 20*np.log10(RMS_signal/RMS_noise)\n",
      "C:\\Users\\antre\\Anaconda3\\envs\\coughvid_public\\lib\\site-packages\\numpy\\core\\fromnumeric.py:3372: RuntimeWarning: Mean of empty slice.\n",
      "  return _methods._mean(a, axis=axis, dtype=dtype,\n",
      "C:\\Users\\antre\\Anaconda3\\envs\\coughvid_public\\lib\\site-packages\\numpy\\core\\_methods.py:170: RuntimeWarning: invalid value encountered in double_scalars\n",
      "  ret = ret.dtype.type(ret / rcount)\n",
      "C:\\Users\\antre\\Documents\\mlp2_project\\src\\segmentation.py:66: RuntimeWarning: divide by zero encountered in double_scalars\n",
      "  SNR = 0 if (RMS_signal==0 or np.isnan(RMS_noise)) else 20*np.log10(RMS_signal/RMS_noise)\n"
     ]
    },
    {
     "name": "stdout",
     "output_type": "stream",
     "text": [
      "Finished 2600/20072\n",
      "Finished 2700/20072\n"
     ]
    },
    {
     "name": "stderr",
     "output_type": "stream",
     "text": [
      "C:\\Users\\antre\\Documents\\mlp2_project\\src\\segmentation.py:66: RuntimeWarning: divide by zero encountered in double_scalars\n",
      "  SNR = 0 if (RMS_signal==0 or np.isnan(RMS_noise)) else 20*np.log10(RMS_signal/RMS_noise)\n",
      "C:\\Users\\antre\\Documents\\mlp2_project\\src\\segmentation.py:66: RuntimeWarning: divide by zero encountered in double_scalars\n",
      "  SNR = 0 if (RMS_signal==0 or np.isnan(RMS_noise)) else 20*np.log10(RMS_signal/RMS_noise)\n",
      "C:\\Users\\antre\\Documents\\mlp2_project\\src\\segmentation.py:66: RuntimeWarning: divide by zero encountered in double_scalars\n",
      "  SNR = 0 if (RMS_signal==0 or np.isnan(RMS_noise)) else 20*np.log10(RMS_signal/RMS_noise)\n",
      "C:\\Users\\antre\\Anaconda3\\envs\\coughvid_public\\lib\\site-packages\\numpy\\core\\fromnumeric.py:3372: RuntimeWarning: Mean of empty slice.\n",
      "  return _methods._mean(a, axis=axis, dtype=dtype,\n",
      "C:\\Users\\antre\\Anaconda3\\envs\\coughvid_public\\lib\\site-packages\\numpy\\core\\_methods.py:170: RuntimeWarning: invalid value encountered in double_scalars\n",
      "  ret = ret.dtype.type(ret / rcount)\n",
      "C:\\Users\\antre\\Documents\\mlp2_project\\src\\segmentation.py:66: RuntimeWarning: divide by zero encountered in double_scalars\n",
      "  SNR = 0 if (RMS_signal==0 or np.isnan(RMS_noise)) else 20*np.log10(RMS_signal/RMS_noise)\n",
      "C:\\Users\\antre\\Documents\\mlp2_project\\src\\feature_class.py:134: RuntimeWarning: invalid value encountered in double_scalars\n",
      "  spec_centroid = np.sum(magnitudes*freqs) / sum_mag\n",
      "C:\\Users\\antre\\Documents\\mlp2_project\\src\\feature_class.py:167: RuntimeWarning: divide by zero encountered in double_scalars\n",
      "  SF = gmean/amean\n",
      "C:\\Users\\antre\\Documents\\mlp2_project\\src\\feature_class.py:218: RuntimeWarning: invalid value encountered in true_divide\n",
      "  return np.ones((1,1))*peak/RMS, ['Crest_Factor']\n",
      "C:\\Users\\antre\\Documents\\mlp2_project\\src\\feature_class.py:237: RuntimeWarning: invalid value encountered in double_scalars\n",
      "  feat.append(band_power/total_power)\n",
      "C:\\Users\\antre\\Documents\\mlp2_project\\src\\feature_class.py:237: RuntimeWarning: invalid value encountered in float_scalars\n",
      "  feat.append(band_power/total_power)\n",
      "C:\\Users\\antre\\Documents\\mlp2_project\\src\\segmentation.py:66: RuntimeWarning: divide by zero encountered in double_scalars\n",
      "  SNR = 0 if (RMS_signal==0 or np.isnan(RMS_noise)) else 20*np.log10(RMS_signal/RMS_noise)\n",
      "C:\\Users\\antre\\Documents\\mlp2_project\\src\\feature_class.py:134: RuntimeWarning: invalid value encountered in double_scalars\n",
      "  spec_centroid = np.sum(magnitudes*freqs) / sum_mag\n",
      "C:\\Users\\antre\\Documents\\mlp2_project\\src\\feature_class.py:167: RuntimeWarning: divide by zero encountered in double_scalars\n",
      "  SF = gmean/amean\n",
      "C:\\Users\\antre\\Documents\\mlp2_project\\src\\feature_class.py:218: RuntimeWarning: invalid value encountered in true_divide\n",
      "  return np.ones((1,1))*peak/RMS, ['Crest_Factor']\n",
      "C:\\Users\\antre\\Documents\\mlp2_project\\src\\feature_class.py:237: RuntimeWarning: invalid value encountered in double_scalars\n",
      "  feat.append(band_power/total_power)\n",
      "C:\\Users\\antre\\Documents\\mlp2_project\\src\\feature_class.py:237: RuntimeWarning: invalid value encountered in float_scalars\n",
      "  feat.append(band_power/total_power)\n"
     ]
    },
    {
     "name": "stdout",
     "output_type": "stream",
     "text": [
      "Finished 2800/20072\n",
      "Finished 2900/20072\n"
     ]
    },
    {
     "name": "stderr",
     "output_type": "stream",
     "text": [
      "C:\\Users\\antre\\Documents\\mlp2_project\\src\\feature_class.py:134: RuntimeWarning: invalid value encountered in double_scalars\n",
      "  spec_centroid = np.sum(magnitudes*freqs) / sum_mag\n",
      "C:\\Users\\antre\\Documents\\mlp2_project\\src\\feature_class.py:167: RuntimeWarning: divide by zero encountered in double_scalars\n",
      "  SF = gmean/amean\n",
      "C:\\Users\\antre\\Documents\\mlp2_project\\src\\feature_class.py:218: RuntimeWarning: invalid value encountered in true_divide\n",
      "  return np.ones((1,1))*peak/RMS, ['Crest_Factor']\n",
      "C:\\Users\\antre\\Documents\\mlp2_project\\src\\feature_class.py:237: RuntimeWarning: invalid value encountered in double_scalars\n",
      "  feat.append(band_power/total_power)\n",
      "C:\\Users\\antre\\Documents\\mlp2_project\\src\\feature_class.py:237: RuntimeWarning: invalid value encountered in float_scalars\n",
      "  feat.append(band_power/total_power)\n",
      "C:\\Users\\antre\\Documents\\mlp2_project\\src\\segmentation.py:66: RuntimeWarning: divide by zero encountered in double_scalars\n",
      "  SNR = 0 if (RMS_signal==0 or np.isnan(RMS_noise)) else 20*np.log10(RMS_signal/RMS_noise)\n",
      "C:\\Users\\antre\\Documents\\mlp2_project\\src\\segmentation.py:66: RuntimeWarning: divide by zero encountered in double_scalars\n",
      "  SNR = 0 if (RMS_signal==0 or np.isnan(RMS_noise)) else 20*np.log10(RMS_signal/RMS_noise)\n",
      "C:\\Users\\antre\\Documents\\mlp2_project\\src\\segmentation.py:66: RuntimeWarning: divide by zero encountered in double_scalars\n",
      "  SNR = 0 if (RMS_signal==0 or np.isnan(RMS_noise)) else 20*np.log10(RMS_signal/RMS_noise)\n"
     ]
    },
    {
     "name": "stdout",
     "output_type": "stream",
     "text": [
      "Finished 3000/20072\n",
      "Finished 3100/20072\n"
     ]
    },
    {
     "name": "stderr",
     "output_type": "stream",
     "text": [
      "C:\\Users\\antre\\Documents\\mlp2_project\\src\\segmentation.py:66: RuntimeWarning: divide by zero encountered in double_scalars\n",
      "  SNR = 0 if (RMS_signal==0 or np.isnan(RMS_noise)) else 20*np.log10(RMS_signal/RMS_noise)\n",
      "C:\\Users\\antre\\Documents\\mlp2_project\\src\\segmentation.py:66: RuntimeWarning: divide by zero encountered in double_scalars\n",
      "  SNR = 0 if (RMS_signal==0 or np.isnan(RMS_noise)) else 20*np.log10(RMS_signal/RMS_noise)\n",
      "C:\\Users\\antre\\Documents\\mlp2_project\\src\\segmentation.py:66: RuntimeWarning: divide by zero encountered in double_scalars\n",
      "  SNR = 0 if (RMS_signal==0 or np.isnan(RMS_noise)) else 20*np.log10(RMS_signal/RMS_noise)\n",
      "C:\\Users\\antre\\Documents\\mlp2_project\\src\\segmentation.py:66: RuntimeWarning: divide by zero encountered in double_scalars\n",
      "  SNR = 0 if (RMS_signal==0 or np.isnan(RMS_noise)) else 20*np.log10(RMS_signal/RMS_noise)\n",
      "C:\\Users\\antre\\Documents\\mlp2_project\\src\\segmentation.py:66: RuntimeWarning: divide by zero encountered in double_scalars\n",
      "  SNR = 0 if (RMS_signal==0 or np.isnan(RMS_noise)) else 20*np.log10(RMS_signal/RMS_noise)\n",
      "C:\\Users\\antre\\Documents\\mlp2_project\\src\\segmentation.py:66: RuntimeWarning: divide by zero encountered in double_scalars\n",
      "  SNR = 0 if (RMS_signal==0 or np.isnan(RMS_noise)) else 20*np.log10(RMS_signal/RMS_noise)\n",
      "C:\\Users\\antre\\Documents\\mlp2_project\\src\\segmentation.py:66: RuntimeWarning: divide by zero encountered in double_scalars\n",
      "  SNR = 0 if (RMS_signal==0 or np.isnan(RMS_noise)) else 20*np.log10(RMS_signal/RMS_noise)\n"
     ]
    },
    {
     "name": "stdout",
     "output_type": "stream",
     "text": [
      "Finished 3200/20072\n"
     ]
    },
    {
     "name": "stderr",
     "output_type": "stream",
     "text": [
      "C:\\Users\\antre\\Documents\\mlp2_project\\src\\segmentation.py:66: RuntimeWarning: divide by zero encountered in double_scalars\n",
      "  SNR = 0 if (RMS_signal==0 or np.isnan(RMS_noise)) else 20*np.log10(RMS_signal/RMS_noise)\n",
      "C:\\Users\\antre\\Documents\\mlp2_project\\src\\segmentation.py:66: RuntimeWarning: divide by zero encountered in double_scalars\n",
      "  SNR = 0 if (RMS_signal==0 or np.isnan(RMS_noise)) else 20*np.log10(RMS_signal/RMS_noise)\n"
     ]
    },
    {
     "name": "stdout",
     "output_type": "stream",
     "text": [
      "Finished 3300/20072\n"
     ]
    },
    {
     "name": "stderr",
     "output_type": "stream",
     "text": [
      "C:\\Users\\antre\\Documents\\mlp2_project\\src\\feature_class.py:134: RuntimeWarning: invalid value encountered in double_scalars\n",
      "  spec_centroid = np.sum(magnitudes*freqs) / sum_mag\n",
      "C:\\Users\\antre\\Documents\\mlp2_project\\src\\feature_class.py:167: RuntimeWarning: divide by zero encountered in double_scalars\n",
      "  SF = gmean/amean\n",
      "C:\\Users\\antre\\Documents\\mlp2_project\\src\\feature_class.py:218: RuntimeWarning: invalid value encountered in true_divide\n",
      "  return np.ones((1,1))*peak/RMS, ['Crest_Factor']\n",
      "C:\\Users\\antre\\Documents\\mlp2_project\\src\\feature_class.py:237: RuntimeWarning: invalid value encountered in double_scalars\n",
      "  feat.append(band_power/total_power)\n",
      "C:\\Users\\antre\\Documents\\mlp2_project\\src\\feature_class.py:237: RuntimeWarning: invalid value encountered in float_scalars\n",
      "  feat.append(band_power/total_power)\n",
      "C:\\Users\\antre\\Documents\\mlp2_project\\src\\segmentation.py:66: RuntimeWarning: divide by zero encountered in double_scalars\n",
      "  SNR = 0 if (RMS_signal==0 or np.isnan(RMS_noise)) else 20*np.log10(RMS_signal/RMS_noise)\n"
     ]
    },
    {
     "name": "stdout",
     "output_type": "stream",
     "text": [
      "Finished 3400/20072\n"
     ]
    },
    {
     "name": "stderr",
     "output_type": "stream",
     "text": [
      "C:\\Users\\antre\\Documents\\mlp2_project\\src\\segmentation.py:66: RuntimeWarning: divide by zero encountered in double_scalars\n",
      "  SNR = 0 if (RMS_signal==0 or np.isnan(RMS_noise)) else 20*np.log10(RMS_signal/RMS_noise)\n",
      "C:\\Users\\antre\\Documents\\mlp2_project\\src\\segmentation.py:66: RuntimeWarning: divide by zero encountered in double_scalars\n",
      "  SNR = 0 if (RMS_signal==0 or np.isnan(RMS_noise)) else 20*np.log10(RMS_signal/RMS_noise)\n",
      "C:\\Users\\antre\\Documents\\mlp2_project\\src\\segmentation.py:66: RuntimeWarning: divide by zero encountered in double_scalars\n",
      "  SNR = 0 if (RMS_signal==0 or np.isnan(RMS_noise)) else 20*np.log10(RMS_signal/RMS_noise)\n"
     ]
    },
    {
     "name": "stdout",
     "output_type": "stream",
     "text": [
      "Finished 3500/20072\n"
     ]
    },
    {
     "name": "stderr",
     "output_type": "stream",
     "text": [
      "C:\\Users\\antre\\Documents\\mlp2_project\\src\\segmentation.py:66: RuntimeWarning: divide by zero encountered in double_scalars\n",
      "  SNR = 0 if (RMS_signal==0 or np.isnan(RMS_noise)) else 20*np.log10(RMS_signal/RMS_noise)\n",
      "C:\\Users\\antre\\Documents\\mlp2_project\\src\\segmentation.py:66: RuntimeWarning: divide by zero encountered in double_scalars\n",
      "  SNR = 0 if (RMS_signal==0 or np.isnan(RMS_noise)) else 20*np.log10(RMS_signal/RMS_noise)\n",
      "C:\\Users\\antre\\Documents\\mlp2_project\\src\\segmentation.py:66: RuntimeWarning: divide by zero encountered in double_scalars\n",
      "  SNR = 0 if (RMS_signal==0 or np.isnan(RMS_noise)) else 20*np.log10(RMS_signal/RMS_noise)\n"
     ]
    },
    {
     "name": "stdout",
     "output_type": "stream",
     "text": [
      "Finished 3600/20072\n"
     ]
    },
    {
     "name": "stderr",
     "output_type": "stream",
     "text": [
      "C:\\Users\\antre\\Documents\\mlp2_project\\src\\segmentation.py:66: RuntimeWarning: divide by zero encountered in double_scalars\n",
      "  SNR = 0 if (RMS_signal==0 or np.isnan(RMS_noise)) else 20*np.log10(RMS_signal/RMS_noise)\n"
     ]
    },
    {
     "name": "stdout",
     "output_type": "stream",
     "text": [
      "Finished 3700/20072\n"
     ]
    },
    {
     "name": "stderr",
     "output_type": "stream",
     "text": [
      "C:\\Users\\antre\\Documents\\mlp2_project\\src\\segmentation.py:65: RuntimeWarning: invalid value encountered in sqrt\n",
      "  RMS_noise = np.sqrt(np.mean(np.square(x[~cough_mask])))\n"
     ]
    },
    {
     "name": "stdout",
     "output_type": "stream",
     "text": [
      "Finished 3800/20072\n"
     ]
    },
    {
     "name": "stderr",
     "output_type": "stream",
     "text": [
      "C:\\Users\\antre\\Documents\\mlp2_project\\src\\segmentation.py:66: RuntimeWarning: divide by zero encountered in double_scalars\n",
      "  SNR = 0 if (RMS_signal==0 or np.isnan(RMS_noise)) else 20*np.log10(RMS_signal/RMS_noise)\n",
      "C:\\Users\\antre\\Anaconda3\\envs\\coughvid_public\\lib\\site-packages\\numpy\\core\\fromnumeric.py:3372: RuntimeWarning: Mean of empty slice.\n",
      "  return _methods._mean(a, axis=axis, dtype=dtype,\n",
      "C:\\Users\\antre\\Anaconda3\\envs\\coughvid_public\\lib\\site-packages\\numpy\\core\\_methods.py:170: RuntimeWarning: invalid value encountered in double_scalars\n",
      "  ret = ret.dtype.type(ret / rcount)\n",
      "C:\\Users\\antre\\Documents\\mlp2_project\\src\\segmentation.py:66: RuntimeWarning: divide by zero encountered in double_scalars\n",
      "  SNR = 0 if (RMS_signal==0 or np.isnan(RMS_noise)) else 20*np.log10(RMS_signal/RMS_noise)\n",
      "C:\\Users\\antre\\Documents\\mlp2_project\\src\\segmentation.py:66: RuntimeWarning: divide by zero encountered in double_scalars\n",
      "  SNR = 0 if (RMS_signal==0 or np.isnan(RMS_noise)) else 20*np.log10(RMS_signal/RMS_noise)\n",
      "C:\\Users\\antre\\Anaconda3\\envs\\coughvid_public\\lib\\site-packages\\numpy\\core\\fromnumeric.py:3372: RuntimeWarning: Mean of empty slice.\n",
      "  return _methods._mean(a, axis=axis, dtype=dtype,\n",
      "C:\\Users\\antre\\Anaconda3\\envs\\coughvid_public\\lib\\site-packages\\numpy\\core\\_methods.py:170: RuntimeWarning: invalid value encountered in double_scalars\n",
      "  ret = ret.dtype.type(ret / rcount)\n",
      "C:\\Users\\antre\\Documents\\mlp2_project\\src\\segmentation.py:66: RuntimeWarning: divide by zero encountered in double_scalars\n",
      "  SNR = 0 if (RMS_signal==0 or np.isnan(RMS_noise)) else 20*np.log10(RMS_signal/RMS_noise)\n",
      "C:\\Users\\antre\\Documents\\mlp2_project\\src\\segmentation.py:66: RuntimeWarning: divide by zero encountered in double_scalars\n",
      "  SNR = 0 if (RMS_signal==0 or np.isnan(RMS_noise)) else 20*np.log10(RMS_signal/RMS_noise)\n"
     ]
    },
    {
     "name": "stdout",
     "output_type": "stream",
     "text": [
      "Finished 3900/20072\n"
     ]
    },
    {
     "name": "stderr",
     "output_type": "stream",
     "text": [
      "C:\\Users\\antre\\Documents\\mlp2_project\\src\\segmentation.py:66: RuntimeWarning: divide by zero encountered in double_scalars\n",
      "  SNR = 0 if (RMS_signal==0 or np.isnan(RMS_noise)) else 20*np.log10(RMS_signal/RMS_noise)\n",
      "C:\\Users\\antre\\Documents\\mlp2_project\\src\\segmentation.py:66: RuntimeWarning: divide by zero encountered in double_scalars\n",
      "  SNR = 0 if (RMS_signal==0 or np.isnan(RMS_noise)) else 20*np.log10(RMS_signal/RMS_noise)\n"
     ]
    },
    {
     "name": "stdout",
     "output_type": "stream",
     "text": [
      "Finished 4000/20072\n"
     ]
    },
    {
     "name": "stderr",
     "output_type": "stream",
     "text": [
      "C:\\Users\\antre\\Documents\\mlp2_project\\src\\segmentation.py:66: RuntimeWarning: divide by zero encountered in double_scalars\n",
      "  SNR = 0 if (RMS_signal==0 or np.isnan(RMS_noise)) else 20*np.log10(RMS_signal/RMS_noise)\n",
      "C:\\Users\\antre\\Documents\\mlp2_project\\src\\segmentation.py:65: RuntimeWarning: invalid value encountered in sqrt\n",
      "  RMS_noise = np.sqrt(np.mean(np.square(x[~cough_mask])))\n",
      "C:\\Users\\antre\\Documents\\mlp2_project\\src\\segmentation.py:66: RuntimeWarning: divide by zero encountered in double_scalars\n",
      "  SNR = 0 if (RMS_signal==0 or np.isnan(RMS_noise)) else 20*np.log10(RMS_signal/RMS_noise)\n",
      "C:\\Users\\antre\\Anaconda3\\envs\\coughvid_public\\lib\\site-packages\\numpy\\core\\fromnumeric.py:3372: RuntimeWarning: Mean of empty slice.\n",
      "  return _methods._mean(a, axis=axis, dtype=dtype,\n",
      "C:\\Users\\antre\\Anaconda3\\envs\\coughvid_public\\lib\\site-packages\\numpy\\core\\_methods.py:170: RuntimeWarning: invalid value encountered in double_scalars\n",
      "  ret = ret.dtype.type(ret / rcount)\n"
     ]
    },
    {
     "name": "stdout",
     "output_type": "stream",
     "text": [
      "Finished 4100/20072\n"
     ]
    },
    {
     "name": "stderr",
     "output_type": "stream",
     "text": [
      "C:\\Users\\antre\\Documents\\mlp2_project\\src\\segmentation.py:66: RuntimeWarning: divide by zero encountered in double_scalars\n",
      "  SNR = 0 if (RMS_signal==0 or np.isnan(RMS_noise)) else 20*np.log10(RMS_signal/RMS_noise)\n",
      "C:\\Users\\antre\\Documents\\mlp2_project\\src\\segmentation.py:66: RuntimeWarning: divide by zero encountered in double_scalars\n",
      "  SNR = 0 if (RMS_signal==0 or np.isnan(RMS_noise)) else 20*np.log10(RMS_signal/RMS_noise)\n"
     ]
    },
    {
     "name": "stdout",
     "output_type": "stream",
     "text": [
      "Finished 4200/20072\n",
      "Finished 4300/20072\n"
     ]
    },
    {
     "name": "stderr",
     "output_type": "stream",
     "text": [
      "C:\\Users\\antre\\Documents\\mlp2_project\\src\\feature_class.py:134: RuntimeWarning: invalid value encountered in double_scalars\n",
      "  spec_centroid = np.sum(magnitudes*freqs) / sum_mag\n",
      "C:\\Users\\antre\\Documents\\mlp2_project\\src\\feature_class.py:167: RuntimeWarning: divide by zero encountered in double_scalars\n",
      "  SF = gmean/amean\n",
      "C:\\Users\\antre\\Documents\\mlp2_project\\src\\feature_class.py:218: RuntimeWarning: invalid value encountered in true_divide\n",
      "  return np.ones((1,1))*peak/RMS, ['Crest_Factor']\n",
      "C:\\Users\\antre\\Documents\\mlp2_project\\src\\feature_class.py:237: RuntimeWarning: invalid value encountered in double_scalars\n",
      "  feat.append(band_power/total_power)\n",
      "C:\\Users\\antre\\Documents\\mlp2_project\\src\\feature_class.py:237: RuntimeWarning: invalid value encountered in float_scalars\n",
      "  feat.append(band_power/total_power)\n",
      "C:\\Users\\antre\\Documents\\mlp2_project\\src\\segmentation.py:66: RuntimeWarning: divide by zero encountered in double_scalars\n",
      "  SNR = 0 if (RMS_signal==0 or np.isnan(RMS_noise)) else 20*np.log10(RMS_signal/RMS_noise)\n"
     ]
    },
    {
     "name": "stdout",
     "output_type": "stream",
     "text": [
      "Finished 4400/20072\n"
     ]
    },
    {
     "name": "stderr",
     "output_type": "stream",
     "text": [
      "C:\\Users\\antre\\Anaconda3\\envs\\coughvid_public\\lib\\site-packages\\numpy\\core\\fromnumeric.py:3372: RuntimeWarning: Mean of empty slice.\n",
      "  return _methods._mean(a, axis=axis, dtype=dtype,\n",
      "C:\\Users\\antre\\Anaconda3\\envs\\coughvid_public\\lib\\site-packages\\numpy\\core\\_methods.py:170: RuntimeWarning: invalid value encountered in double_scalars\n",
      "  ret = ret.dtype.type(ret / rcount)\n",
      "C:\\Users\\antre\\Documents\\mlp2_project\\src\\segmentation.py:66: RuntimeWarning: divide by zero encountered in double_scalars\n",
      "  SNR = 0 if (RMS_signal==0 or np.isnan(RMS_noise)) else 20*np.log10(RMS_signal/RMS_noise)\n",
      "C:\\Users\\antre\\Documents\\mlp2_project\\src\\segmentation.py:66: RuntimeWarning: divide by zero encountered in double_scalars\n",
      "  SNR = 0 if (RMS_signal==0 or np.isnan(RMS_noise)) else 20*np.log10(RMS_signal/RMS_noise)\n",
      "C:\\Users\\antre\\Documents\\mlp2_project\\src\\segmentation.py:66: RuntimeWarning: divide by zero encountered in double_scalars\n",
      "  SNR = 0 if (RMS_signal==0 or np.isnan(RMS_noise)) else 20*np.log10(RMS_signal/RMS_noise)\n",
      "C:\\Users\\antre\\Anaconda3\\envs\\coughvid_public\\lib\\site-packages\\numpy\\core\\fromnumeric.py:3372: RuntimeWarning: Mean of empty slice.\n",
      "  return _methods._mean(a, axis=axis, dtype=dtype,\n",
      "C:\\Users\\antre\\Anaconda3\\envs\\coughvid_public\\lib\\site-packages\\numpy\\core\\_methods.py:170: RuntimeWarning: invalid value encountered in double_scalars\n",
      "  ret = ret.dtype.type(ret / rcount)\n"
     ]
    },
    {
     "name": "stdout",
     "output_type": "stream",
     "text": [
      "Finished 4500/20072\n"
     ]
    },
    {
     "name": "stderr",
     "output_type": "stream",
     "text": [
      "C:\\Users\\antre\\Documents\\mlp2_project\\src\\segmentation.py:66: RuntimeWarning: divide by zero encountered in double_scalars\n",
      "  SNR = 0 if (RMS_signal==0 or np.isnan(RMS_noise)) else 20*np.log10(RMS_signal/RMS_noise)\n",
      "C:\\Users\\antre\\Documents\\mlp2_project\\src\\segmentation.py:66: RuntimeWarning: divide by zero encountered in double_scalars\n",
      "  SNR = 0 if (RMS_signal==0 or np.isnan(RMS_noise)) else 20*np.log10(RMS_signal/RMS_noise)\n",
      "C:\\Users\\antre\\Documents\\mlp2_project\\src\\segmentation.py:65: RuntimeWarning: invalid value encountered in sqrt\n",
      "  RMS_noise = np.sqrt(np.mean(np.square(x[~cough_mask])))\n"
     ]
    },
    {
     "name": "stdout",
     "output_type": "stream",
     "text": [
      "Finished 4600/20072\n"
     ]
    },
    {
     "name": "stderr",
     "output_type": "stream",
     "text": [
      "C:\\Users\\antre\\Anaconda3\\envs\\coughvid_public\\lib\\site-packages\\numpy\\core\\fromnumeric.py:3372: RuntimeWarning: Mean of empty slice.\n",
      "  return _methods._mean(a, axis=axis, dtype=dtype,\n",
      "C:\\Users\\antre\\Anaconda3\\envs\\coughvid_public\\lib\\site-packages\\numpy\\core\\_methods.py:170: RuntimeWarning: invalid value encountered in double_scalars\n",
      "  ret = ret.dtype.type(ret / rcount)\n",
      "C:\\Users\\antre\\Documents\\mlp2_project\\src\\segmentation.py:66: RuntimeWarning: divide by zero encountered in double_scalars\n",
      "  SNR = 0 if (RMS_signal==0 or np.isnan(RMS_noise)) else 20*np.log10(RMS_signal/RMS_noise)\n"
     ]
    },
    {
     "name": "stdout",
     "output_type": "stream",
     "text": [
      "Finished 4700/20072\n"
     ]
    },
    {
     "name": "stderr",
     "output_type": "stream",
     "text": [
      "C:\\Users\\antre\\Documents\\mlp2_project\\src\\segmentation.py:66: RuntimeWarning: divide by zero encountered in double_scalars\n",
      "  SNR = 0 if (RMS_signal==0 or np.isnan(RMS_noise)) else 20*np.log10(RMS_signal/RMS_noise)\n",
      "C:\\Users\\antre\\Documents\\mlp2_project\\src\\segmentation.py:66: RuntimeWarning: divide by zero encountered in double_scalars\n",
      "  SNR = 0 if (RMS_signal==0 or np.isnan(RMS_noise)) else 20*np.log10(RMS_signal/RMS_noise)\n",
      "C:\\Users\\antre\\Documents\\mlp2_project\\src\\segmentation.py:66: RuntimeWarning: divide by zero encountered in double_scalars\n",
      "  SNR = 0 if (RMS_signal==0 or np.isnan(RMS_noise)) else 20*np.log10(RMS_signal/RMS_noise)\n",
      "C:\\Users\\antre\\Documents\\mlp2_project\\src\\segmentation.py:66: RuntimeWarning: divide by zero encountered in double_scalars\n",
      "  SNR = 0 if (RMS_signal==0 or np.isnan(RMS_noise)) else 20*np.log10(RMS_signal/RMS_noise)\n",
      "C:\\Users\\antre\\Documents\\mlp2_project\\src\\segmentation.py:66: RuntimeWarning: divide by zero encountered in double_scalars\n",
      "  SNR = 0 if (RMS_signal==0 or np.isnan(RMS_noise)) else 20*np.log10(RMS_signal/RMS_noise)\n",
      "C:\\Users\\antre\\Documents\\mlp2_project\\src\\segmentation.py:66: RuntimeWarning: divide by zero encountered in double_scalars\n",
      "  SNR = 0 if (RMS_signal==0 or np.isnan(RMS_noise)) else 20*np.log10(RMS_signal/RMS_noise)\n",
      "C:\\Users\\antre\\Documents\\mlp2_project\\src\\segmentation.py:66: RuntimeWarning: divide by zero encountered in double_scalars\n",
      "  SNR = 0 if (RMS_signal==0 or np.isnan(RMS_noise)) else 20*np.log10(RMS_signal/RMS_noise)\n",
      "C:\\Users\\antre\\Documents\\mlp2_project\\src\\segmentation.py:66: RuntimeWarning: divide by zero encountered in double_scalars\n",
      "  SNR = 0 if (RMS_signal==0 or np.isnan(RMS_noise)) else 20*np.log10(RMS_signal/RMS_noise)\n"
     ]
    },
    {
     "name": "stdout",
     "output_type": "stream",
     "text": [
      "Finished 4800/20072\n"
     ]
    },
    {
     "name": "stderr",
     "output_type": "stream",
     "text": [
      "C:\\Users\\antre\\Documents\\mlp2_project\\src\\segmentation.py:66: RuntimeWarning: divide by zero encountered in double_scalars\n",
      "  SNR = 0 if (RMS_signal==0 or np.isnan(RMS_noise)) else 20*np.log10(RMS_signal/RMS_noise)\n",
      "C:\\Users\\antre\\Documents\\mlp2_project\\src\\segmentation.py:66: RuntimeWarning: divide by zero encountered in double_scalars\n",
      "  SNR = 0 if (RMS_signal==0 or np.isnan(RMS_noise)) else 20*np.log10(RMS_signal/RMS_noise)\n",
      "C:\\Users\\antre\\Documents\\mlp2_project\\src\\segmentation.py:66: RuntimeWarning: divide by zero encountered in double_scalars\n",
      "  SNR = 0 if (RMS_signal==0 or np.isnan(RMS_noise)) else 20*np.log10(RMS_signal/RMS_noise)\n",
      "C:\\Users\\antre\\Documents\\mlp2_project\\src\\segmentation.py:66: RuntimeWarning: divide by zero encountered in double_scalars\n",
      "  SNR = 0 if (RMS_signal==0 or np.isnan(RMS_noise)) else 20*np.log10(RMS_signal/RMS_noise)\n",
      "C:\\Users\\antre\\Documents\\mlp2_project\\src\\segmentation.py:66: RuntimeWarning: divide by zero encountered in double_scalars\n",
      "  SNR = 0 if (RMS_signal==0 or np.isnan(RMS_noise)) else 20*np.log10(RMS_signal/RMS_noise)\n"
     ]
    },
    {
     "name": "stdout",
     "output_type": "stream",
     "text": [
      "Finished 4900/20072\n"
     ]
    },
    {
     "name": "stderr",
     "output_type": "stream",
     "text": [
      "C:\\Users\\antre\\Documents\\mlp2_project\\src\\segmentation.py:66: RuntimeWarning: divide by zero encountered in double_scalars\n",
      "  SNR = 0 if (RMS_signal==0 or np.isnan(RMS_noise)) else 20*np.log10(RMS_signal/RMS_noise)\n",
      "C:\\Users\\antre\\Documents\\mlp2_project\\src\\segmentation.py:65: RuntimeWarning: invalid value encountered in sqrt\n",
      "  RMS_noise = np.sqrt(np.mean(np.square(x[~cough_mask])))\n"
     ]
    },
    {
     "name": "stdout",
     "output_type": "stream",
     "text": [
      "Finished 5000/20072\n"
     ]
    },
    {
     "name": "stderr",
     "output_type": "stream",
     "text": [
      "C:\\Users\\antre\\Anaconda3\\envs\\coughvid_public\\lib\\site-packages\\numpy\\core\\fromnumeric.py:3372: RuntimeWarning: Mean of empty slice.\n",
      "  return _methods._mean(a, axis=axis, dtype=dtype,\n",
      "C:\\Users\\antre\\Anaconda3\\envs\\coughvid_public\\lib\\site-packages\\numpy\\core\\_methods.py:170: RuntimeWarning: invalid value encountered in double_scalars\n",
      "  ret = ret.dtype.type(ret / rcount)\n"
     ]
    },
    {
     "name": "stdout",
     "output_type": "stream",
     "text": [
      "Finished 5100/20072\n"
     ]
    },
    {
     "name": "stderr",
     "output_type": "stream",
     "text": [
      "C:\\Users\\antre\\Documents\\mlp2_project\\src\\segmentation.py:66: RuntimeWarning: divide by zero encountered in double_scalars\n",
      "  SNR = 0 if (RMS_signal==0 or np.isnan(RMS_noise)) else 20*np.log10(RMS_signal/RMS_noise)\n",
      "C:\\Users\\antre\\Documents\\mlp2_project\\src\\segmentation.py:66: RuntimeWarning: divide by zero encountered in double_scalars\n",
      "  SNR = 0 if (RMS_signal==0 or np.isnan(RMS_noise)) else 20*np.log10(RMS_signal/RMS_noise)\n",
      "C:\\Users\\antre\\Documents\\mlp2_project\\src\\segmentation.py:66: RuntimeWarning: divide by zero encountered in double_scalars\n",
      "  SNR = 0 if (RMS_signal==0 or np.isnan(RMS_noise)) else 20*np.log10(RMS_signal/RMS_noise)\n",
      "C:\\Users\\antre\\Documents\\mlp2_project\\src\\segmentation.py:66: RuntimeWarning: divide by zero encountered in double_scalars\n",
      "  SNR = 0 if (RMS_signal==0 or np.isnan(RMS_noise)) else 20*np.log10(RMS_signal/RMS_noise)\n",
      "C:\\Users\\antre\\Documents\\mlp2_project\\src\\segmentation.py:66: RuntimeWarning: divide by zero encountered in double_scalars\n",
      "  SNR = 0 if (RMS_signal==0 or np.isnan(RMS_noise)) else 20*np.log10(RMS_signal/RMS_noise)\n"
     ]
    },
    {
     "name": "stdout",
     "output_type": "stream",
     "text": [
      "Finished 5200/20072\n"
     ]
    },
    {
     "name": "stderr",
     "output_type": "stream",
     "text": [
      "C:\\Users\\antre\\Documents\\mlp2_project\\src\\segmentation.py:66: RuntimeWarning: divide by zero encountered in double_scalars\n",
      "  SNR = 0 if (RMS_signal==0 or np.isnan(RMS_noise)) else 20*np.log10(RMS_signal/RMS_noise)\n",
      "C:\\Users\\antre\\Documents\\mlp2_project\\src\\segmentation.py:66: RuntimeWarning: divide by zero encountered in double_scalars\n",
      "  SNR = 0 if (RMS_signal==0 or np.isnan(RMS_noise)) else 20*np.log10(RMS_signal/RMS_noise)\n",
      "C:\\Users\\antre\\Documents\\mlp2_project\\src\\segmentation.py:66: RuntimeWarning: divide by zero encountered in double_scalars\n",
      "  SNR = 0 if (RMS_signal==0 or np.isnan(RMS_noise)) else 20*np.log10(RMS_signal/RMS_noise)\n",
      "C:\\Users\\antre\\Anaconda3\\envs\\coughvid_public\\lib\\site-packages\\numpy\\core\\fromnumeric.py:3372: RuntimeWarning: Mean of empty slice.\n",
      "  return _methods._mean(a, axis=axis, dtype=dtype,\n",
      "C:\\Users\\antre\\Anaconda3\\envs\\coughvid_public\\lib\\site-packages\\numpy\\core\\_methods.py:170: RuntimeWarning: invalid value encountered in double_scalars\n",
      "  ret = ret.dtype.type(ret / rcount)\n",
      "C:\\Users\\antre\\Documents\\mlp2_project\\src\\segmentation.py:66: RuntimeWarning: divide by zero encountered in double_scalars\n",
      "  SNR = 0 if (RMS_signal==0 or np.isnan(RMS_noise)) else 20*np.log10(RMS_signal/RMS_noise)\n",
      "C:\\Users\\antre\\Documents\\mlp2_project\\src\\segmentation.py:66: RuntimeWarning: divide by zero encountered in double_scalars\n",
      "  SNR = 0 if (RMS_signal==0 or np.isnan(RMS_noise)) else 20*np.log10(RMS_signal/RMS_noise)\n"
     ]
    },
    {
     "name": "stdout",
     "output_type": "stream",
     "text": [
      "Finished 5300/20072\n"
     ]
    },
    {
     "name": "stderr",
     "output_type": "stream",
     "text": [
      "C:\\Users\\antre\\Documents\\mlp2_project\\src\\feature_class.py:134: RuntimeWarning: invalid value encountered in double_scalars\n",
      "  spec_centroid = np.sum(magnitudes*freqs) / sum_mag\n",
      "C:\\Users\\antre\\Documents\\mlp2_project\\src\\feature_class.py:167: RuntimeWarning: divide by zero encountered in double_scalars\n",
      "  SF = gmean/amean\n",
      "C:\\Users\\antre\\Documents\\mlp2_project\\src\\feature_class.py:218: RuntimeWarning: invalid value encountered in true_divide\n",
      "  return np.ones((1,1))*peak/RMS, ['Crest_Factor']\n",
      "C:\\Users\\antre\\Documents\\mlp2_project\\src\\feature_class.py:237: RuntimeWarning: invalid value encountered in double_scalars\n",
      "  feat.append(band_power/total_power)\n",
      "C:\\Users\\antre\\Documents\\mlp2_project\\src\\feature_class.py:237: RuntimeWarning: invalid value encountered in float_scalars\n",
      "  feat.append(band_power/total_power)\n",
      "C:\\Users\\antre\\Anaconda3\\envs\\coughvid_public\\lib\\site-packages\\numpy\\core\\fromnumeric.py:3372: RuntimeWarning: Mean of empty slice.\n",
      "  return _methods._mean(a, axis=axis, dtype=dtype,\n",
      "C:\\Users\\antre\\Anaconda3\\envs\\coughvid_public\\lib\\site-packages\\numpy\\core\\_methods.py:170: RuntimeWarning: invalid value encountered in double_scalars\n",
      "  ret = ret.dtype.type(ret / rcount)\n",
      "C:\\Users\\antre\\Documents\\mlp2_project\\src\\segmentation.py:66: RuntimeWarning: divide by zero encountered in double_scalars\n",
      "  SNR = 0 if (RMS_signal==0 or np.isnan(RMS_noise)) else 20*np.log10(RMS_signal/RMS_noise)\n",
      "C:\\Users\\antre\\Documents\\mlp2_project\\src\\segmentation.py:66: RuntimeWarning: divide by zero encountered in double_scalars\n",
      "  SNR = 0 if (RMS_signal==0 or np.isnan(RMS_noise)) else 20*np.log10(RMS_signal/RMS_noise)\n"
     ]
    },
    {
     "name": "stdout",
     "output_type": "stream",
     "text": [
      "Finished 5400/20072\n"
     ]
    },
    {
     "name": "stderr",
     "output_type": "stream",
     "text": [
      "C:\\Users\\antre\\Documents\\mlp2_project\\src\\segmentation.py:66: RuntimeWarning: divide by zero encountered in double_scalars\n",
      "  SNR = 0 if (RMS_signal==0 or np.isnan(RMS_noise)) else 20*np.log10(RMS_signal/RMS_noise)\n",
      "C:\\Users\\antre\\Documents\\mlp2_project\\src\\segmentation.py:66: RuntimeWarning: divide by zero encountered in double_scalars\n",
      "  SNR = 0 if (RMS_signal==0 or np.isnan(RMS_noise)) else 20*np.log10(RMS_signal/RMS_noise)\n",
      "C:\\Users\\antre\\Documents\\mlp2_project\\src\\segmentation.py:66: RuntimeWarning: divide by zero encountered in double_scalars\n",
      "  SNR = 0 if (RMS_signal==0 or np.isnan(RMS_noise)) else 20*np.log10(RMS_signal/RMS_noise)\n",
      "C:\\Users\\antre\\Anaconda3\\envs\\coughvid_public\\lib\\site-packages\\numpy\\core\\fromnumeric.py:3372: RuntimeWarning: Mean of empty slice.\n",
      "  return _methods._mean(a, axis=axis, dtype=dtype,\n",
      "C:\\Users\\antre\\Anaconda3\\envs\\coughvid_public\\lib\\site-packages\\numpy\\core\\_methods.py:170: RuntimeWarning: invalid value encountered in double_scalars\n",
      "  ret = ret.dtype.type(ret / rcount)\n"
     ]
    },
    {
     "name": "stdout",
     "output_type": "stream",
     "text": [
      "Finished 5500/20072\n"
     ]
    },
    {
     "name": "stderr",
     "output_type": "stream",
     "text": [
      "C:\\Users\\antre\\Documents\\mlp2_project\\src\\segmentation.py:66: RuntimeWarning: divide by zero encountered in double_scalars\n",
      "  SNR = 0 if (RMS_signal==0 or np.isnan(RMS_noise)) else 20*np.log10(RMS_signal/RMS_noise)\n",
      "C:\\Users\\antre\\Documents\\mlp2_project\\src\\segmentation.py:66: RuntimeWarning: divide by zero encountered in double_scalars\n",
      "  SNR = 0 if (RMS_signal==0 or np.isnan(RMS_noise)) else 20*np.log10(RMS_signal/RMS_noise)\n"
     ]
    },
    {
     "name": "stdout",
     "output_type": "stream",
     "text": [
      "Finished 5600/20072\n"
     ]
    },
    {
     "name": "stderr",
     "output_type": "stream",
     "text": [
      "C:\\Users\\antre\\Documents\\mlp2_project\\src\\segmentation.py:66: RuntimeWarning: divide by zero encountered in double_scalars\n",
      "  SNR = 0 if (RMS_signal==0 or np.isnan(RMS_noise)) else 20*np.log10(RMS_signal/RMS_noise)\n",
      "C:\\Users\\antre\\Documents\\mlp2_project\\src\\segmentation.py:66: RuntimeWarning: divide by zero encountered in double_scalars\n",
      "  SNR = 0 if (RMS_signal==0 or np.isnan(RMS_noise)) else 20*np.log10(RMS_signal/RMS_noise)\n",
      "C:\\Users\\antre\\Documents\\mlp2_project\\src\\segmentation.py:66: RuntimeWarning: divide by zero encountered in double_scalars\n",
      "  SNR = 0 if (RMS_signal==0 or np.isnan(RMS_noise)) else 20*np.log10(RMS_signal/RMS_noise)\n"
     ]
    },
    {
     "name": "stdout",
     "output_type": "stream",
     "text": [
      "Finished 5700/20072\n"
     ]
    },
    {
     "name": "stderr",
     "output_type": "stream",
     "text": [
      "C:\\Users\\antre\\Documents\\mlp2_project\\src\\segmentation.py:66: RuntimeWarning: divide by zero encountered in double_scalars\n",
      "  SNR = 0 if (RMS_signal==0 or np.isnan(RMS_noise)) else 20*np.log10(RMS_signal/RMS_noise)\n",
      "C:\\Users\\antre\\Documents\\mlp2_project\\src\\segmentation.py:66: RuntimeWarning: divide by zero encountered in double_scalars\n",
      "  SNR = 0 if (RMS_signal==0 or np.isnan(RMS_noise)) else 20*np.log10(RMS_signal/RMS_noise)\n",
      "C:\\Users\\antre\\Documents\\mlp2_project\\src\\segmentation.py:66: RuntimeWarning: divide by zero encountered in double_scalars\n",
      "  SNR = 0 if (RMS_signal==0 or np.isnan(RMS_noise)) else 20*np.log10(RMS_signal/RMS_noise)\n",
      "C:\\Users\\antre\\Documents\\mlp2_project\\src\\segmentation.py:66: RuntimeWarning: divide by zero encountered in double_scalars\n",
      "  SNR = 0 if (RMS_signal==0 or np.isnan(RMS_noise)) else 20*np.log10(RMS_signal/RMS_noise)\n",
      "C:\\Users\\antre\\Anaconda3\\envs\\coughvid_public\\lib\\site-packages\\numpy\\core\\fromnumeric.py:3372: RuntimeWarning: Mean of empty slice.\n",
      "  return _methods._mean(a, axis=axis, dtype=dtype,\n",
      "C:\\Users\\antre\\Anaconda3\\envs\\coughvid_public\\lib\\site-packages\\numpy\\core\\_methods.py:170: RuntimeWarning: invalid value encountered in double_scalars\n",
      "  ret = ret.dtype.type(ret / rcount)\n",
      "C:\\Users\\antre\\Documents\\mlp2_project\\src\\segmentation.py:66: RuntimeWarning: divide by zero encountered in double_scalars\n",
      "  SNR = 0 if (RMS_signal==0 or np.isnan(RMS_noise)) else 20*np.log10(RMS_signal/RMS_noise)\n",
      "C:\\Users\\antre\\Anaconda3\\envs\\coughvid_public\\lib\\site-packages\\numpy\\core\\fromnumeric.py:3372: RuntimeWarning: Mean of empty slice.\n",
      "  return _methods._mean(a, axis=axis, dtype=dtype,\n",
      "C:\\Users\\antre\\Anaconda3\\envs\\coughvid_public\\lib\\site-packages\\numpy\\core\\_methods.py:170: RuntimeWarning: invalid value encountered in double_scalars\n",
      "  ret = ret.dtype.type(ret / rcount)\n",
      "C:\\Users\\antre\\Documents\\mlp2_project\\src\\segmentation.py:66: RuntimeWarning: divide by zero encountered in double_scalars\n",
      "  SNR = 0 if (RMS_signal==0 or np.isnan(RMS_noise)) else 20*np.log10(RMS_signal/RMS_noise)\n"
     ]
    },
    {
     "name": "stdout",
     "output_type": "stream",
     "text": [
      "Finished 5800/20072\n",
      "Finished 5900/20072\n"
     ]
    },
    {
     "name": "stderr",
     "output_type": "stream",
     "text": [
      "C:\\Users\\antre\\Documents\\mlp2_project\\src\\segmentation.py:66: RuntimeWarning: divide by zero encountered in double_scalars\n",
      "  SNR = 0 if (RMS_signal==0 or np.isnan(RMS_noise)) else 20*np.log10(RMS_signal/RMS_noise)\n",
      "C:\\Users\\antre\\Documents\\mlp2_project\\src\\segmentation.py:66: RuntimeWarning: divide by zero encountered in double_scalars\n",
      "  SNR = 0 if (RMS_signal==0 or np.isnan(RMS_noise)) else 20*np.log10(RMS_signal/RMS_noise)\n",
      "C:\\Users\\antre\\Anaconda3\\envs\\coughvid_public\\lib\\site-packages\\numpy\\core\\fromnumeric.py:3372: RuntimeWarning: Mean of empty slice.\n",
      "  return _methods._mean(a, axis=axis, dtype=dtype,\n",
      "C:\\Users\\antre\\Anaconda3\\envs\\coughvid_public\\lib\\site-packages\\numpy\\core\\_methods.py:170: RuntimeWarning: invalid value encountered in double_scalars\n",
      "  ret = ret.dtype.type(ret / rcount)\n",
      "C:\\Users\\antre\\Documents\\mlp2_project\\src\\segmentation.py:66: RuntimeWarning: divide by zero encountered in double_scalars\n",
      "  SNR = 0 if (RMS_signal==0 or np.isnan(RMS_noise)) else 20*np.log10(RMS_signal/RMS_noise)\n",
      "C:\\Users\\antre\\Documents\\mlp2_project\\src\\segmentation.py:66: RuntimeWarning: divide by zero encountered in double_scalars\n",
      "  SNR = 0 if (RMS_signal==0 or np.isnan(RMS_noise)) else 20*np.log10(RMS_signal/RMS_noise)\n",
      "C:\\Users\\antre\\Anaconda3\\envs\\coughvid_public\\lib\\site-packages\\numpy\\core\\fromnumeric.py:3372: RuntimeWarning: Mean of empty slice.\n",
      "  return _methods._mean(a, axis=axis, dtype=dtype,\n",
      "C:\\Users\\antre\\Anaconda3\\envs\\coughvid_public\\lib\\site-packages\\numpy\\core\\_methods.py:170: RuntimeWarning: invalid value encountered in double_scalars\n",
      "  ret = ret.dtype.type(ret / rcount)\n"
     ]
    },
    {
     "name": "stdout",
     "output_type": "stream",
     "text": [
      "Finished 6000/20072\n"
     ]
    },
    {
     "name": "stderr",
     "output_type": "stream",
     "text": [
      "C:\\Users\\antre\\Documents\\mlp2_project\\src\\segmentation.py:66: RuntimeWarning: divide by zero encountered in double_scalars\n",
      "  SNR = 0 if (RMS_signal==0 or np.isnan(RMS_noise)) else 20*np.log10(RMS_signal/RMS_noise)\n",
      "C:\\Users\\antre\\Documents\\mlp2_project\\src\\segmentation.py:66: RuntimeWarning: divide by zero encountered in double_scalars\n",
      "  SNR = 0 if (RMS_signal==0 or np.isnan(RMS_noise)) else 20*np.log10(RMS_signal/RMS_noise)\n",
      "C:\\Users\\antre\\Documents\\mlp2_project\\src\\segmentation.py:66: RuntimeWarning: divide by zero encountered in double_scalars\n",
      "  SNR = 0 if (RMS_signal==0 or np.isnan(RMS_noise)) else 20*np.log10(RMS_signal/RMS_noise)\n"
     ]
    },
    {
     "name": "stdout",
     "output_type": "stream",
     "text": [
      "Finished 6100/20072\n"
     ]
    },
    {
     "name": "stderr",
     "output_type": "stream",
     "text": [
      "C:\\Users\\antre\\Documents\\mlp2_project\\src\\segmentation.py:66: RuntimeWarning: divide by zero encountered in double_scalars\n",
      "  SNR = 0 if (RMS_signal==0 or np.isnan(RMS_noise)) else 20*np.log10(RMS_signal/RMS_noise)\n",
      "C:\\Users\\antre\\Documents\\mlp2_project\\src\\segmentation.py:66: RuntimeWarning: divide by zero encountered in double_scalars\n",
      "  SNR = 0 if (RMS_signal==0 or np.isnan(RMS_noise)) else 20*np.log10(RMS_signal/RMS_noise)\n",
      "C:\\Users\\antre\\Documents\\mlp2_project\\src\\segmentation.py:66: RuntimeWarning: divide by zero encountered in double_scalars\n",
      "  SNR = 0 if (RMS_signal==0 or np.isnan(RMS_noise)) else 20*np.log10(RMS_signal/RMS_noise)\n",
      "C:\\Users\\antre\\Documents\\mlp2_project\\src\\segmentation.py:66: RuntimeWarning: divide by zero encountered in double_scalars\n",
      "  SNR = 0 if (RMS_signal==0 or np.isnan(RMS_noise)) else 20*np.log10(RMS_signal/RMS_noise)\n"
     ]
    },
    {
     "name": "stdout",
     "output_type": "stream",
     "text": [
      "Finished 6200/20072\n"
     ]
    },
    {
     "name": "stderr",
     "output_type": "stream",
     "text": [
      "C:\\Users\\antre\\Documents\\mlp2_project\\src\\segmentation.py:66: RuntimeWarning: divide by zero encountered in double_scalars\n",
      "  SNR = 0 if (RMS_signal==0 or np.isnan(RMS_noise)) else 20*np.log10(RMS_signal/RMS_noise)\n",
      "C:\\Users\\antre\\Documents\\mlp2_project\\src\\segmentation.py:66: RuntimeWarning: divide by zero encountered in double_scalars\n",
      "  SNR = 0 if (RMS_signal==0 or np.isnan(RMS_noise)) else 20*np.log10(RMS_signal/RMS_noise)\n",
      "C:\\Users\\antre\\Anaconda3\\envs\\coughvid_public\\lib\\site-packages\\numpy\\core\\fromnumeric.py:3372: RuntimeWarning: Mean of empty slice.\n",
      "  return _methods._mean(a, axis=axis, dtype=dtype,\n",
      "C:\\Users\\antre\\Anaconda3\\envs\\coughvid_public\\lib\\site-packages\\numpy\\core\\_methods.py:170: RuntimeWarning: invalid value encountered in double_scalars\n",
      "  ret = ret.dtype.type(ret / rcount)\n",
      "C:\\Users\\antre\\Anaconda3\\envs\\coughvid_public\\lib\\site-packages\\numpy\\core\\fromnumeric.py:3372: RuntimeWarning: Mean of empty slice.\n",
      "  return _methods._mean(a, axis=axis, dtype=dtype,\n",
      "C:\\Users\\antre\\Anaconda3\\envs\\coughvid_public\\lib\\site-packages\\numpy\\core\\_methods.py:170: RuntimeWarning: invalid value encountered in double_scalars\n",
      "  ret = ret.dtype.type(ret / rcount)\n"
     ]
    },
    {
     "name": "stdout",
     "output_type": "stream",
     "text": [
      "Finished 6300/20072\n"
     ]
    },
    {
     "name": "stderr",
     "output_type": "stream",
     "text": [
      "C:\\Users\\antre\\Documents\\mlp2_project\\src\\segmentation.py:66: RuntimeWarning: divide by zero encountered in double_scalars\n",
      "  SNR = 0 if (RMS_signal==0 or np.isnan(RMS_noise)) else 20*np.log10(RMS_signal/RMS_noise)\n",
      "C:\\Users\\antre\\Documents\\mlp2_project\\src\\segmentation.py:66: RuntimeWarning: divide by zero encountered in double_scalars\n",
      "  SNR = 0 if (RMS_signal==0 or np.isnan(RMS_noise)) else 20*np.log10(RMS_signal/RMS_noise)\n"
     ]
    },
    {
     "name": "stdout",
     "output_type": "stream",
     "text": [
      "Finished 6400/20072\n"
     ]
    },
    {
     "name": "stderr",
     "output_type": "stream",
     "text": [
      "C:\\Users\\antre\\Anaconda3\\envs\\coughvid_public\\lib\\site-packages\\numpy\\core\\fromnumeric.py:3372: RuntimeWarning: Mean of empty slice.\n",
      "  return _methods._mean(a, axis=axis, dtype=dtype,\n",
      "C:\\Users\\antre\\Anaconda3\\envs\\coughvid_public\\lib\\site-packages\\numpy\\core\\_methods.py:170: RuntimeWarning: invalid value encountered in double_scalars\n",
      "  ret = ret.dtype.type(ret / rcount)\n",
      "C:\\Users\\antre\\Documents\\mlp2_project\\src\\segmentation.py:66: RuntimeWarning: divide by zero encountered in double_scalars\n",
      "  SNR = 0 if (RMS_signal==0 or np.isnan(RMS_noise)) else 20*np.log10(RMS_signal/RMS_noise)\n"
     ]
    },
    {
     "name": "stdout",
     "output_type": "stream",
     "text": [
      "Finished 6500/20072\n"
     ]
    },
    {
     "name": "stderr",
     "output_type": "stream",
     "text": [
      "C:\\Users\\antre\\Documents\\mlp2_project\\src\\segmentation.py:66: RuntimeWarning: divide by zero encountered in double_scalars\n",
      "  SNR = 0 if (RMS_signal==0 or np.isnan(RMS_noise)) else 20*np.log10(RMS_signal/RMS_noise)\n",
      "C:\\Users\\antre\\Documents\\mlp2_project\\src\\feature_class.py:134: RuntimeWarning: invalid value encountered in double_scalars\n",
      "  spec_centroid = np.sum(magnitudes*freqs) / sum_mag\n",
      "C:\\Users\\antre\\Documents\\mlp2_project\\src\\feature_class.py:167: RuntimeWarning: divide by zero encountered in double_scalars\n",
      "  SF = gmean/amean\n",
      "C:\\Users\\antre\\Documents\\mlp2_project\\src\\feature_class.py:218: RuntimeWarning: invalid value encountered in true_divide\n",
      "  return np.ones((1,1))*peak/RMS, ['Crest_Factor']\n",
      "C:\\Users\\antre\\Documents\\mlp2_project\\src\\feature_class.py:237: RuntimeWarning: invalid value encountered in double_scalars\n",
      "  feat.append(band_power/total_power)\n",
      "C:\\Users\\antre\\Documents\\mlp2_project\\src\\feature_class.py:237: RuntimeWarning: invalid value encountered in float_scalars\n",
      "  feat.append(band_power/total_power)\n",
      "C:\\Users\\antre\\Documents\\mlp2_project\\src\\segmentation.py:66: RuntimeWarning: divide by zero encountered in double_scalars\n",
      "  SNR = 0 if (RMS_signal==0 or np.isnan(RMS_noise)) else 20*np.log10(RMS_signal/RMS_noise)\n"
     ]
    },
    {
     "name": "stdout",
     "output_type": "stream",
     "text": [
      "Finished 6600/20072\n"
     ]
    },
    {
     "name": "stderr",
     "output_type": "stream",
     "text": [
      "C:\\Users\\antre\\Documents\\mlp2_project\\src\\segmentation.py:66: RuntimeWarning: divide by zero encountered in double_scalars\n",
      "  SNR = 0 if (RMS_signal==0 or np.isnan(RMS_noise)) else 20*np.log10(RMS_signal/RMS_noise)\n"
     ]
    },
    {
     "name": "stdout",
     "output_type": "stream",
     "text": [
      "Finished 6700/20072\n"
     ]
    },
    {
     "name": "stderr",
     "output_type": "stream",
     "text": [
      "C:\\Users\\antre\\Documents\\mlp2_project\\src\\segmentation.py:66: RuntimeWarning: divide by zero encountered in double_scalars\n",
      "  SNR = 0 if (RMS_signal==0 or np.isnan(RMS_noise)) else 20*np.log10(RMS_signal/RMS_noise)\n",
      "C:\\Users\\antre\\Documents\\mlp2_project\\src\\segmentation.py:66: RuntimeWarning: divide by zero encountered in double_scalars\n",
      "  SNR = 0 if (RMS_signal==0 or np.isnan(RMS_noise)) else 20*np.log10(RMS_signal/RMS_noise)\n",
      "C:\\Users\\antre\\Anaconda3\\envs\\coughvid_public\\lib\\site-packages\\numpy\\core\\fromnumeric.py:3372: RuntimeWarning: Mean of empty slice.\n",
      "  return _methods._mean(a, axis=axis, dtype=dtype,\n",
      "C:\\Users\\antre\\Anaconda3\\envs\\coughvid_public\\lib\\site-packages\\numpy\\core\\_methods.py:170: RuntimeWarning: invalid value encountered in double_scalars\n",
      "  ret = ret.dtype.type(ret / rcount)\n",
      "C:\\Users\\antre\\Documents\\mlp2_project\\src\\segmentation.py:66: RuntimeWarning: divide by zero encountered in double_scalars\n",
      "  SNR = 0 if (RMS_signal==0 or np.isnan(RMS_noise)) else 20*np.log10(RMS_signal/RMS_noise)\n"
     ]
    },
    {
     "name": "stdout",
     "output_type": "stream",
     "text": [
      "Finished 6800/20072\n"
     ]
    },
    {
     "name": "stderr",
     "output_type": "stream",
     "text": [
      "C:\\Users\\antre\\Anaconda3\\envs\\coughvid_public\\lib\\site-packages\\numpy\\core\\fromnumeric.py:3372: RuntimeWarning: Mean of empty slice.\n",
      "  return _methods._mean(a, axis=axis, dtype=dtype,\n",
      "C:\\Users\\antre\\Anaconda3\\envs\\coughvid_public\\lib\\site-packages\\numpy\\core\\_methods.py:170: RuntimeWarning: invalid value encountered in double_scalars\n",
      "  ret = ret.dtype.type(ret / rcount)\n",
      "C:\\Users\\antre\\Documents\\mlp2_project\\src\\segmentation.py:66: RuntimeWarning: divide by zero encountered in double_scalars\n",
      "  SNR = 0 if (RMS_signal==0 or np.isnan(RMS_noise)) else 20*np.log10(RMS_signal/RMS_noise)\n",
      "C:\\Users\\antre\\Documents\\mlp2_project\\src\\segmentation.py:66: RuntimeWarning: divide by zero encountered in double_scalars\n",
      "  SNR = 0 if (RMS_signal==0 or np.isnan(RMS_noise)) else 20*np.log10(RMS_signal/RMS_noise)\n",
      "C:\\Users\\antre\\Anaconda3\\envs\\coughvid_public\\lib\\site-packages\\numpy\\core\\fromnumeric.py:3372: RuntimeWarning: Mean of empty slice.\n",
      "  return _methods._mean(a, axis=axis, dtype=dtype,\n",
      "C:\\Users\\antre\\Anaconda3\\envs\\coughvid_public\\lib\\site-packages\\numpy\\core\\_methods.py:170: RuntimeWarning: invalid value encountered in double_scalars\n",
      "  ret = ret.dtype.type(ret / rcount)\n",
      "C:\\Users\\antre\\Anaconda3\\envs\\coughvid_public\\lib\\site-packages\\numpy\\core\\fromnumeric.py:3372: RuntimeWarning: Mean of empty slice.\n",
      "  return _methods._mean(a, axis=axis, dtype=dtype,\n",
      "C:\\Users\\antre\\Anaconda3\\envs\\coughvid_public\\lib\\site-packages\\numpy\\core\\_methods.py:170: RuntimeWarning: invalid value encountered in double_scalars\n",
      "  ret = ret.dtype.type(ret / rcount)\n",
      "C:\\Users\\antre\\Documents\\mlp2_project\\src\\segmentation.py:66: RuntimeWarning: divide by zero encountered in double_scalars\n",
      "  SNR = 0 if (RMS_signal==0 or np.isnan(RMS_noise)) else 20*np.log10(RMS_signal/RMS_noise)\n",
      "C:\\Users\\antre\\Documents\\mlp2_project\\src\\segmentation.py:66: RuntimeWarning: divide by zero encountered in double_scalars\n",
      "  SNR = 0 if (RMS_signal==0 or np.isnan(RMS_noise)) else 20*np.log10(RMS_signal/RMS_noise)\n",
      "C:\\Users\\antre\\Documents\\mlp2_project\\src\\segmentation.py:66: RuntimeWarning: divide by zero encountered in double_scalars\n",
      "  SNR = 0 if (RMS_signal==0 or np.isnan(RMS_noise)) else 20*np.log10(RMS_signal/RMS_noise)\n"
     ]
    },
    {
     "name": "stdout",
     "output_type": "stream",
     "text": [
      "Finished 6900/20072\n"
     ]
    },
    {
     "name": "stderr",
     "output_type": "stream",
     "text": [
      "C:\\Users\\antre\\Documents\\mlp2_project\\src\\segmentation.py:23: RuntimeWarning: invalid value encountered in sqrt\n",
      "  rms = np.sqrt(np.mean(np.square(x)))\n",
      "C:\\Users\\antre\\Documents\\mlp2_project\\src\\segmentation.py:65: RuntimeWarning: invalid value encountered in sqrt\n",
      "  RMS_noise = np.sqrt(np.mean(np.square(x[~cough_mask])))\n",
      "C:\\Users\\antre\\Documents\\mlp2_project\\src\\segmentation.py:66: RuntimeWarning: divide by zero encountered in double_scalars\n",
      "  SNR = 0 if (RMS_signal==0 or np.isnan(RMS_noise)) else 20*np.log10(RMS_signal/RMS_noise)\n",
      "C:\\Users\\antre\\Documents\\mlp2_project\\src\\segmentation.py:66: RuntimeWarning: divide by zero encountered in double_scalars\n",
      "  SNR = 0 if (RMS_signal==0 or np.isnan(RMS_noise)) else 20*np.log10(RMS_signal/RMS_noise)\n"
     ]
    },
    {
     "name": "stdout",
     "output_type": "stream",
     "text": [
      "Finished 7000/20072\n"
     ]
    },
    {
     "name": "stderr",
     "output_type": "stream",
     "text": [
      "C:\\Users\\antre\\Documents\\mlp2_project\\src\\segmentation.py:66: RuntimeWarning: divide by zero encountered in double_scalars\n",
      "  SNR = 0 if (RMS_signal==0 or np.isnan(RMS_noise)) else 20*np.log10(RMS_signal/RMS_noise)\n",
      "C:\\Users\\antre\\Anaconda3\\envs\\coughvid_public\\lib\\site-packages\\numpy\\core\\fromnumeric.py:3372: RuntimeWarning: Mean of empty slice.\n",
      "  return _methods._mean(a, axis=axis, dtype=dtype,\n",
      "C:\\Users\\antre\\Anaconda3\\envs\\coughvid_public\\lib\\site-packages\\numpy\\core\\_methods.py:170: RuntimeWarning: invalid value encountered in double_scalars\n",
      "  ret = ret.dtype.type(ret / rcount)\n",
      "C:\\Users\\antre\\Anaconda3\\envs\\coughvid_public\\lib\\site-packages\\numpy\\core\\fromnumeric.py:3372: RuntimeWarning: Mean of empty slice.\n",
      "  return _methods._mean(a, axis=axis, dtype=dtype,\n",
      "C:\\Users\\antre\\Anaconda3\\envs\\coughvid_public\\lib\\site-packages\\numpy\\core\\_methods.py:170: RuntimeWarning: invalid value encountered in double_scalars\n",
      "  ret = ret.dtype.type(ret / rcount)\n",
      "C:\\Users\\antre\\Documents\\mlp2_project\\src\\segmentation.py:66: RuntimeWarning: divide by zero encountered in double_scalars\n",
      "  SNR = 0 if (RMS_signal==0 or np.isnan(RMS_noise)) else 20*np.log10(RMS_signal/RMS_noise)\n"
     ]
    },
    {
     "name": "stdout",
     "output_type": "stream",
     "text": [
      "Finished 7100/20072\n"
     ]
    },
    {
     "name": "stderr",
     "output_type": "stream",
     "text": [
      "C:\\Users\\antre\\Documents\\mlp2_project\\src\\segmentation.py:66: RuntimeWarning: divide by zero encountered in double_scalars\n",
      "  SNR = 0 if (RMS_signal==0 or np.isnan(RMS_noise)) else 20*np.log10(RMS_signal/RMS_noise)\n",
      "C:\\Users\\antre\\Documents\\mlp2_project\\src\\segmentation.py:66: RuntimeWarning: divide by zero encountered in double_scalars\n",
      "  SNR = 0 if (RMS_signal==0 or np.isnan(RMS_noise)) else 20*np.log10(RMS_signal/RMS_noise)\n",
      "C:\\Users\\antre\\Anaconda3\\envs\\coughvid_public\\lib\\site-packages\\numpy\\core\\fromnumeric.py:3372: RuntimeWarning: Mean of empty slice.\n",
      "  return _methods._mean(a, axis=axis, dtype=dtype,\n",
      "C:\\Users\\antre\\Anaconda3\\envs\\coughvid_public\\lib\\site-packages\\numpy\\core\\_methods.py:170: RuntimeWarning: invalid value encountered in double_scalars\n",
      "  ret = ret.dtype.type(ret / rcount)\n"
     ]
    },
    {
     "name": "stdout",
     "output_type": "stream",
     "text": [
      "Finished 7200/20072\n"
     ]
    },
    {
     "name": "stderr",
     "output_type": "stream",
     "text": [
      "C:\\Users\\antre\\Documents\\mlp2_project\\src\\segmentation.py:66: RuntimeWarning: divide by zero encountered in double_scalars\n",
      "  SNR = 0 if (RMS_signal==0 or np.isnan(RMS_noise)) else 20*np.log10(RMS_signal/RMS_noise)\n",
      "C:\\Users\\antre\\Documents\\mlp2_project\\src\\segmentation.py:66: RuntimeWarning: divide by zero encountered in double_scalars\n",
      "  SNR = 0 if (RMS_signal==0 or np.isnan(RMS_noise)) else 20*np.log10(RMS_signal/RMS_noise)\n"
     ]
    },
    {
     "name": "stdout",
     "output_type": "stream",
     "text": [
      "Finished 7300/20072\n"
     ]
    },
    {
     "name": "stderr",
     "output_type": "stream",
     "text": [
      "C:\\Users\\antre\\Anaconda3\\envs\\coughvid_public\\lib\\site-packages\\numpy\\core\\fromnumeric.py:3372: RuntimeWarning: Mean of empty slice.\n",
      "  return _methods._mean(a, axis=axis, dtype=dtype,\n",
      "C:\\Users\\antre\\Anaconda3\\envs\\coughvid_public\\lib\\site-packages\\numpy\\core\\_methods.py:170: RuntimeWarning: invalid value encountered in double_scalars\n",
      "  ret = ret.dtype.type(ret / rcount)\n",
      "C:\\Users\\antre\\Documents\\mlp2_project\\src\\segmentation.py:66: RuntimeWarning: divide by zero encountered in double_scalars\n",
      "  SNR = 0 if (RMS_signal==0 or np.isnan(RMS_noise)) else 20*np.log10(RMS_signal/RMS_noise)\n",
      "C:\\Users\\antre\\Anaconda3\\envs\\coughvid_public\\lib\\site-packages\\numpy\\core\\fromnumeric.py:3372: RuntimeWarning: Mean of empty slice.\n",
      "  return _methods._mean(a, axis=axis, dtype=dtype,\n",
      "C:\\Users\\antre\\Anaconda3\\envs\\coughvid_public\\lib\\site-packages\\numpy\\core\\_methods.py:170: RuntimeWarning: invalid value encountered in double_scalars\n",
      "  ret = ret.dtype.type(ret / rcount)\n",
      "C:\\Users\\antre\\Anaconda3\\envs\\coughvid_public\\lib\\site-packages\\numpy\\core\\fromnumeric.py:3372: RuntimeWarning: Mean of empty slice.\n",
      "  return _methods._mean(a, axis=axis, dtype=dtype,\n",
      "C:\\Users\\antre\\Anaconda3\\envs\\coughvid_public\\lib\\site-packages\\numpy\\core\\_methods.py:170: RuntimeWarning: invalid value encountered in double_scalars\n",
      "  ret = ret.dtype.type(ret / rcount)\n"
     ]
    },
    {
     "name": "stdout",
     "output_type": "stream",
     "text": [
      "Finished 7400/20072\n"
     ]
    },
    {
     "name": "stderr",
     "output_type": "stream",
     "text": [
      "C:\\Users\\antre\\Anaconda3\\envs\\coughvid_public\\lib\\site-packages\\numpy\\core\\fromnumeric.py:3372: RuntimeWarning: Mean of empty slice.\n",
      "  return _methods._mean(a, axis=axis, dtype=dtype,\n",
      "C:\\Users\\antre\\Anaconda3\\envs\\coughvid_public\\lib\\site-packages\\numpy\\core\\_methods.py:170: RuntimeWarning: invalid value encountered in double_scalars\n",
      "  ret = ret.dtype.type(ret / rcount)\n",
      "C:\\Users\\antre\\Documents\\mlp2_project\\src\\segmentation.py:66: RuntimeWarning: divide by zero encountered in double_scalars\n",
      "  SNR = 0 if (RMS_signal==0 or np.isnan(RMS_noise)) else 20*np.log10(RMS_signal/RMS_noise)\n",
      "C:\\Users\\antre\\Documents\\mlp2_project\\src\\segmentation.py:66: RuntimeWarning: divide by zero encountered in double_scalars\n",
      "  SNR = 0 if (RMS_signal==0 or np.isnan(RMS_noise)) else 20*np.log10(RMS_signal/RMS_noise)\n",
      "C:\\Users\\antre\\Anaconda3\\envs\\coughvid_public\\lib\\site-packages\\numpy\\core\\fromnumeric.py:3372: RuntimeWarning: Mean of empty slice.\n",
      "  return _methods._mean(a, axis=axis, dtype=dtype,\n",
      "C:\\Users\\antre\\Anaconda3\\envs\\coughvid_public\\lib\\site-packages\\numpy\\core\\_methods.py:170: RuntimeWarning: invalid value encountered in double_scalars\n",
      "  ret = ret.dtype.type(ret / rcount)\n",
      "C:\\Users\\antre\\Documents\\mlp2_project\\src\\segmentation.py:66: RuntimeWarning: divide by zero encountered in double_scalars\n",
      "  SNR = 0 if (RMS_signal==0 or np.isnan(RMS_noise)) else 20*np.log10(RMS_signal/RMS_noise)\n",
      "C:\\Users\\antre\\Documents\\mlp2_project\\src\\segmentation.py:66: RuntimeWarning: divide by zero encountered in double_scalars\n",
      "  SNR = 0 if (RMS_signal==0 or np.isnan(RMS_noise)) else 20*np.log10(RMS_signal/RMS_noise)\n"
     ]
    },
    {
     "name": "stdout",
     "output_type": "stream",
     "text": [
      "Finished 7500/20072\n"
     ]
    },
    {
     "name": "stderr",
     "output_type": "stream",
     "text": [
      "C:\\Users\\antre\\Documents\\mlp2_project\\src\\segmentation.py:66: RuntimeWarning: divide by zero encountered in double_scalars\n",
      "  SNR = 0 if (RMS_signal==0 or np.isnan(RMS_noise)) else 20*np.log10(RMS_signal/RMS_noise)\n",
      "C:\\Users\\antre\\Documents\\mlp2_project\\src\\segmentation.py:66: RuntimeWarning: divide by zero encountered in double_scalars\n",
      "  SNR = 0 if (RMS_signal==0 or np.isnan(RMS_noise)) else 20*np.log10(RMS_signal/RMS_noise)\n",
      "C:\\Users\\antre\\Documents\\mlp2_project\\src\\segmentation.py:66: RuntimeWarning: divide by zero encountered in double_scalars\n",
      "  SNR = 0 if (RMS_signal==0 or np.isnan(RMS_noise)) else 20*np.log10(RMS_signal/RMS_noise)\n"
     ]
    },
    {
     "name": "stdout",
     "output_type": "stream",
     "text": [
      "Finished 7600/20072\n"
     ]
    },
    {
     "name": "stderr",
     "output_type": "stream",
     "text": [
      "C:\\Users\\antre\\Documents\\mlp2_project\\src\\segmentation.py:66: RuntimeWarning: divide by zero encountered in double_scalars\n",
      "  SNR = 0 if (RMS_signal==0 or np.isnan(RMS_noise)) else 20*np.log10(RMS_signal/RMS_noise)\n",
      "C:\\Users\\antre\\Anaconda3\\envs\\coughvid_public\\lib\\site-packages\\numpy\\core\\fromnumeric.py:3372: RuntimeWarning: Mean of empty slice.\n",
      "  return _methods._mean(a, axis=axis, dtype=dtype,\n",
      "C:\\Users\\antre\\Anaconda3\\envs\\coughvid_public\\lib\\site-packages\\numpy\\core\\_methods.py:170: RuntimeWarning: invalid value encountered in double_scalars\n",
      "  ret = ret.dtype.type(ret / rcount)\n",
      "C:\\Users\\antre\\Documents\\mlp2_project\\src\\segmentation.py:66: RuntimeWarning: divide by zero encountered in double_scalars\n",
      "  SNR = 0 if (RMS_signal==0 or np.isnan(RMS_noise)) else 20*np.log10(RMS_signal/RMS_noise)\n",
      "C:\\Users\\antre\\Documents\\mlp2_project\\src\\segmentation.py:66: RuntimeWarning: divide by zero encountered in double_scalars\n",
      "  SNR = 0 if (RMS_signal==0 or np.isnan(RMS_noise)) else 20*np.log10(RMS_signal/RMS_noise)\n"
     ]
    },
    {
     "name": "stdout",
     "output_type": "stream",
     "text": [
      "Finished 7700/20072\n"
     ]
    },
    {
     "name": "stderr",
     "output_type": "stream",
     "text": [
      "C:\\Users\\antre\\Documents\\mlp2_project\\src\\segmentation.py:66: RuntimeWarning: divide by zero encountered in double_scalars\n",
      "  SNR = 0 if (RMS_signal==0 or np.isnan(RMS_noise)) else 20*np.log10(RMS_signal/RMS_noise)\n",
      "C:\\Users\\antre\\Documents\\mlp2_project\\src\\feature_class.py:134: RuntimeWarning: invalid value encountered in double_scalars\n",
      "  spec_centroid = np.sum(magnitudes*freqs) / sum_mag\n",
      "C:\\Users\\antre\\Documents\\mlp2_project\\src\\feature_class.py:167: RuntimeWarning: divide by zero encountered in double_scalars\n",
      "  SF = gmean/amean\n",
      "C:\\Users\\antre\\Documents\\mlp2_project\\src\\feature_class.py:218: RuntimeWarning: invalid value encountered in true_divide\n",
      "  return np.ones((1,1))*peak/RMS, ['Crest_Factor']\n",
      "C:\\Users\\antre\\Documents\\mlp2_project\\src\\feature_class.py:237: RuntimeWarning: invalid value encountered in double_scalars\n",
      "  feat.append(band_power/total_power)\n",
      "C:\\Users\\antre\\Documents\\mlp2_project\\src\\feature_class.py:237: RuntimeWarning: invalid value encountered in float_scalars\n",
      "  feat.append(band_power/total_power)\n",
      "C:\\Users\\antre\\Documents\\mlp2_project\\src\\segmentation.py:66: RuntimeWarning: divide by zero encountered in double_scalars\n",
      "  SNR = 0 if (RMS_signal==0 or np.isnan(RMS_noise)) else 20*np.log10(RMS_signal/RMS_noise)\n"
     ]
    },
    {
     "name": "stdout",
     "output_type": "stream",
     "text": [
      "Finished 7800/20072\n"
     ]
    },
    {
     "name": "stderr",
     "output_type": "stream",
     "text": [
      "C:\\Users\\antre\\Anaconda3\\envs\\coughvid_public\\lib\\site-packages\\numpy\\core\\fromnumeric.py:3372: RuntimeWarning: Mean of empty slice.\n",
      "  return _methods._mean(a, axis=axis, dtype=dtype,\n",
      "C:\\Users\\antre\\Anaconda3\\envs\\coughvid_public\\lib\\site-packages\\numpy\\core\\_methods.py:170: RuntimeWarning: invalid value encountered in double_scalars\n",
      "  ret = ret.dtype.type(ret / rcount)\n",
      "C:\\Users\\antre\\Anaconda3\\envs\\coughvid_public\\lib\\site-packages\\numpy\\core\\fromnumeric.py:3372: RuntimeWarning: Mean of empty slice.\n",
      "  return _methods._mean(a, axis=axis, dtype=dtype,\n",
      "C:\\Users\\antre\\Anaconda3\\envs\\coughvid_public\\lib\\site-packages\\numpy\\core\\_methods.py:170: RuntimeWarning: invalid value encountered in double_scalars\n",
      "  ret = ret.dtype.type(ret / rcount)\n",
      "C:\\Users\\antre\\Documents\\mlp2_project\\src\\segmentation.py:66: RuntimeWarning: divide by zero encountered in double_scalars\n",
      "  SNR = 0 if (RMS_signal==0 or np.isnan(RMS_noise)) else 20*np.log10(RMS_signal/RMS_noise)\n"
     ]
    },
    {
     "name": "stdout",
     "output_type": "stream",
     "text": [
      "Finished 7900/20072\n"
     ]
    },
    {
     "name": "stderr",
     "output_type": "stream",
     "text": [
      "C:\\Users\\antre\\Documents\\mlp2_project\\src\\segmentation.py:66: RuntimeWarning: divide by zero encountered in double_scalars\n",
      "  SNR = 0 if (RMS_signal==0 or np.isnan(RMS_noise)) else 20*np.log10(RMS_signal/RMS_noise)\n",
      "C:\\Users\\antre\\Documents\\mlp2_project\\src\\feature_class.py:134: RuntimeWarning: invalid value encountered in double_scalars\n",
      "  spec_centroid = np.sum(magnitudes*freqs) / sum_mag\n",
      "C:\\Users\\antre\\Documents\\mlp2_project\\src\\feature_class.py:167: RuntimeWarning: divide by zero encountered in double_scalars\n",
      "  SF = gmean/amean\n",
      "C:\\Users\\antre\\Documents\\mlp2_project\\src\\feature_class.py:218: RuntimeWarning: invalid value encountered in true_divide\n",
      "  return np.ones((1,1))*peak/RMS, ['Crest_Factor']\n",
      "C:\\Users\\antre\\Documents\\mlp2_project\\src\\feature_class.py:237: RuntimeWarning: invalid value encountered in double_scalars\n",
      "  feat.append(band_power/total_power)\n",
      "C:\\Users\\antre\\Documents\\mlp2_project\\src\\feature_class.py:237: RuntimeWarning: invalid value encountered in float_scalars\n",
      "  feat.append(band_power/total_power)\n",
      "C:\\Users\\antre\\Documents\\mlp2_project\\src\\segmentation.py:66: RuntimeWarning: divide by zero encountered in double_scalars\n",
      "  SNR = 0 if (RMS_signal==0 or np.isnan(RMS_noise)) else 20*np.log10(RMS_signal/RMS_noise)\n",
      "C:\\Users\\antre\\Documents\\mlp2_project\\src\\segmentation.py:66: RuntimeWarning: divide by zero encountered in double_scalars\n",
      "  SNR = 0 if (RMS_signal==0 or np.isnan(RMS_noise)) else 20*np.log10(RMS_signal/RMS_noise)\n"
     ]
    },
    {
     "name": "stdout",
     "output_type": "stream",
     "text": [
      "Finished 8000/20072\n"
     ]
    },
    {
     "name": "stderr",
     "output_type": "stream",
     "text": [
      "C:\\Users\\antre\\Documents\\mlp2_project\\src\\feature_class.py:134: RuntimeWarning: invalid value encountered in double_scalars\n",
      "  spec_centroid = np.sum(magnitudes*freqs) / sum_mag\n",
      "C:\\Users\\antre\\Documents\\mlp2_project\\src\\feature_class.py:167: RuntimeWarning: divide by zero encountered in double_scalars\n",
      "  SF = gmean/amean\n",
      "C:\\Users\\antre\\Documents\\mlp2_project\\src\\feature_class.py:218: RuntimeWarning: invalid value encountered in true_divide\n",
      "  return np.ones((1,1))*peak/RMS, ['Crest_Factor']\n",
      "C:\\Users\\antre\\Documents\\mlp2_project\\src\\feature_class.py:237: RuntimeWarning: invalid value encountered in double_scalars\n",
      "  feat.append(band_power/total_power)\n",
      "C:\\Users\\antre\\Documents\\mlp2_project\\src\\feature_class.py:237: RuntimeWarning: invalid value encountered in float_scalars\n",
      "  feat.append(band_power/total_power)\n",
      "C:\\Users\\antre\\Documents\\mlp2_project\\src\\segmentation.py:66: RuntimeWarning: divide by zero encountered in double_scalars\n",
      "  SNR = 0 if (RMS_signal==0 or np.isnan(RMS_noise)) else 20*np.log10(RMS_signal/RMS_noise)\n",
      "C:\\Users\\antre\\Documents\\mlp2_project\\src\\segmentation.py:66: RuntimeWarning: divide by zero encountered in double_scalars\n",
      "  SNR = 0 if (RMS_signal==0 or np.isnan(RMS_noise)) else 20*np.log10(RMS_signal/RMS_noise)\n",
      "C:\\Users\\antre\\Anaconda3\\envs\\coughvid_public\\lib\\site-packages\\numpy\\core\\fromnumeric.py:3372: RuntimeWarning: Mean of empty slice.\n",
      "  return _methods._mean(a, axis=axis, dtype=dtype,\n",
      "C:\\Users\\antre\\Anaconda3\\envs\\coughvid_public\\lib\\site-packages\\numpy\\core\\_methods.py:170: RuntimeWarning: invalid value encountered in double_scalars\n",
      "  ret = ret.dtype.type(ret / rcount)\n",
      "C:\\Users\\antre\\Documents\\mlp2_project\\src\\segmentation.py:66: RuntimeWarning: divide by zero encountered in double_scalars\n",
      "  SNR = 0 if (RMS_signal==0 or np.isnan(RMS_noise)) else 20*np.log10(RMS_signal/RMS_noise)\n",
      "C:\\Users\\antre\\Documents\\mlp2_project\\src\\segmentation.py:66: RuntimeWarning: divide by zero encountered in double_scalars\n",
      "  SNR = 0 if (RMS_signal==0 or np.isnan(RMS_noise)) else 20*np.log10(RMS_signal/RMS_noise)\n"
     ]
    },
    {
     "name": "stdout",
     "output_type": "stream",
     "text": [
      "Finished 8100/20072\n"
     ]
    },
    {
     "name": "stderr",
     "output_type": "stream",
     "text": [
      "C:\\Users\\antre\\Documents\\mlp2_project\\src\\segmentation.py:66: RuntimeWarning: divide by zero encountered in double_scalars\n",
      "  SNR = 0 if (RMS_signal==0 or np.isnan(RMS_noise)) else 20*np.log10(RMS_signal/RMS_noise)\n",
      "C:\\Users\\antre\\Anaconda3\\envs\\coughvid_public\\lib\\site-packages\\numpy\\core\\fromnumeric.py:3372: RuntimeWarning: Mean of empty slice.\n",
      "  return _methods._mean(a, axis=axis, dtype=dtype,\n",
      "C:\\Users\\antre\\Anaconda3\\envs\\coughvid_public\\lib\\site-packages\\numpy\\core\\_methods.py:170: RuntimeWarning: invalid value encountered in double_scalars\n",
      "  ret = ret.dtype.type(ret / rcount)\n",
      "C:\\Users\\antre\\Documents\\mlp2_project\\src\\segmentation.py:66: RuntimeWarning: divide by zero encountered in double_scalars\n",
      "  SNR = 0 if (RMS_signal==0 or np.isnan(RMS_noise)) else 20*np.log10(RMS_signal/RMS_noise)\n"
     ]
    },
    {
     "name": "stdout",
     "output_type": "stream",
     "text": [
      "Finished 8200/20072\n"
     ]
    },
    {
     "name": "stderr",
     "output_type": "stream",
     "text": [
      "C:\\Users\\antre\\Documents\\mlp2_project\\src\\segmentation.py:66: RuntimeWarning: divide by zero encountered in double_scalars\n",
      "  SNR = 0 if (RMS_signal==0 or np.isnan(RMS_noise)) else 20*np.log10(RMS_signal/RMS_noise)\n",
      "C:\\Users\\antre\\Documents\\mlp2_project\\src\\segmentation.py:66: RuntimeWarning: divide by zero encountered in double_scalars\n",
      "  SNR = 0 if (RMS_signal==0 or np.isnan(RMS_noise)) else 20*np.log10(RMS_signal/RMS_noise)\n",
      "C:\\Users\\antre\\Documents\\mlp2_project\\src\\segmentation.py:66: RuntimeWarning: divide by zero encountered in double_scalars\n",
      "  SNR = 0 if (RMS_signal==0 or np.isnan(RMS_noise)) else 20*np.log10(RMS_signal/RMS_noise)\n"
     ]
    },
    {
     "name": "stdout",
     "output_type": "stream",
     "text": [
      "Finished 8300/20072\n"
     ]
    },
    {
     "name": "stderr",
     "output_type": "stream",
     "text": [
      "C:\\Users\\antre\\Documents\\mlp2_project\\src\\segmentation.py:66: RuntimeWarning: divide by zero encountered in double_scalars\n",
      "  SNR = 0 if (RMS_signal==0 or np.isnan(RMS_noise)) else 20*np.log10(RMS_signal/RMS_noise)\n",
      "C:\\Users\\antre\\Documents\\mlp2_project\\src\\segmentation.py:66: RuntimeWarning: divide by zero encountered in double_scalars\n",
      "  SNR = 0 if (RMS_signal==0 or np.isnan(RMS_noise)) else 20*np.log10(RMS_signal/RMS_noise)\n",
      "C:\\Users\\antre\\Documents\\mlp2_project\\src\\segmentation.py:66: RuntimeWarning: divide by zero encountered in double_scalars\n",
      "  SNR = 0 if (RMS_signal==0 or np.isnan(RMS_noise)) else 20*np.log10(RMS_signal/RMS_noise)\n",
      "C:\\Users\\antre\\Documents\\mlp2_project\\src\\segmentation.py:66: RuntimeWarning: divide by zero encountered in double_scalars\n",
      "  SNR = 0 if (RMS_signal==0 or np.isnan(RMS_noise)) else 20*np.log10(RMS_signal/RMS_noise)\n",
      "C:\\Users\\antre\\Documents\\mlp2_project\\src\\segmentation.py:66: RuntimeWarning: divide by zero encountered in double_scalars\n",
      "  SNR = 0 if (RMS_signal==0 or np.isnan(RMS_noise)) else 20*np.log10(RMS_signal/RMS_noise)\n"
     ]
    },
    {
     "name": "stdout",
     "output_type": "stream",
     "text": [
      "Finished 8400/20072\n"
     ]
    },
    {
     "name": "stderr",
     "output_type": "stream",
     "text": [
      "C:\\Users\\antre\\Documents\\mlp2_project\\src\\segmentation.py:66: RuntimeWarning: divide by zero encountered in double_scalars\n",
      "  SNR = 0 if (RMS_signal==0 or np.isnan(RMS_noise)) else 20*np.log10(RMS_signal/RMS_noise)\n",
      "C:\\Users\\antre\\Documents\\mlp2_project\\src\\segmentation.py:66: RuntimeWarning: divide by zero encountered in double_scalars\n",
      "  SNR = 0 if (RMS_signal==0 or np.isnan(RMS_noise)) else 20*np.log10(RMS_signal/RMS_noise)\n"
     ]
    },
    {
     "name": "stdout",
     "output_type": "stream",
     "text": [
      "Finished 8500/20072\n"
     ]
    },
    {
     "name": "stderr",
     "output_type": "stream",
     "text": [
      "C:\\Users\\antre\\Documents\\mlp2_project\\src\\segmentation.py:66: RuntimeWarning: divide by zero encountered in double_scalars\n",
      "  SNR = 0 if (RMS_signal==0 or np.isnan(RMS_noise)) else 20*np.log10(RMS_signal/RMS_noise)\n",
      "C:\\Users\\antre\\Anaconda3\\envs\\coughvid_public\\lib\\site-packages\\numpy\\core\\fromnumeric.py:3372: RuntimeWarning: Mean of empty slice.\n",
      "  return _methods._mean(a, axis=axis, dtype=dtype,\n",
      "C:\\Users\\antre\\Anaconda3\\envs\\coughvid_public\\lib\\site-packages\\numpy\\core\\_methods.py:170: RuntimeWarning: invalid value encountered in double_scalars\n",
      "  ret = ret.dtype.type(ret / rcount)\n"
     ]
    },
    {
     "name": "stdout",
     "output_type": "stream",
     "text": [
      "Finished 8600/20072\n",
      "Finished 8700/20072\n"
     ]
    },
    {
     "name": "stderr",
     "output_type": "stream",
     "text": [
      "C:\\Users\\antre\\Documents\\mlp2_project\\src\\segmentation.py:66: RuntimeWarning: divide by zero encountered in double_scalars\n",
      "  SNR = 0 if (RMS_signal==0 or np.isnan(RMS_noise)) else 20*np.log10(RMS_signal/RMS_noise)\n",
      "C:\\Users\\antre\\Documents\\mlp2_project\\src\\segmentation.py:66: RuntimeWarning: divide by zero encountered in double_scalars\n",
      "  SNR = 0 if (RMS_signal==0 or np.isnan(RMS_noise)) else 20*np.log10(RMS_signal/RMS_noise)\n",
      "C:\\Users\\antre\\Documents\\mlp2_project\\src\\segmentation.py:66: RuntimeWarning: divide by zero encountered in double_scalars\n",
      "  SNR = 0 if (RMS_signal==0 or np.isnan(RMS_noise)) else 20*np.log10(RMS_signal/RMS_noise)\n"
     ]
    },
    {
     "name": "stdout",
     "output_type": "stream",
     "text": [
      "Finished 8800/20072\n"
     ]
    },
    {
     "name": "stderr",
     "output_type": "stream",
     "text": [
      "C:\\Users\\antre\\Documents\\mlp2_project\\src\\segmentation.py:66: RuntimeWarning: divide by zero encountered in double_scalars\n",
      "  SNR = 0 if (RMS_signal==0 or np.isnan(RMS_noise)) else 20*np.log10(RMS_signal/RMS_noise)\n",
      "C:\\Users\\antre\\Documents\\mlp2_project\\src\\segmentation.py:66: RuntimeWarning: divide by zero encountered in double_scalars\n",
      "  SNR = 0 if (RMS_signal==0 or np.isnan(RMS_noise)) else 20*np.log10(RMS_signal/RMS_noise)\n",
      "C:\\Users\\antre\\Documents\\mlp2_project\\src\\segmentation.py:66: RuntimeWarning: divide by zero encountered in double_scalars\n",
      "  SNR = 0 if (RMS_signal==0 or np.isnan(RMS_noise)) else 20*np.log10(RMS_signal/RMS_noise)\n",
      "C:\\Users\\antre\\Anaconda3\\envs\\coughvid_public\\lib\\site-packages\\numpy\\core\\fromnumeric.py:3372: RuntimeWarning: Mean of empty slice.\n",
      "  return _methods._mean(a, axis=axis, dtype=dtype,\n",
      "C:\\Users\\antre\\Anaconda3\\envs\\coughvid_public\\lib\\site-packages\\numpy\\core\\_methods.py:170: RuntimeWarning: invalid value encountered in double_scalars\n",
      "  ret = ret.dtype.type(ret / rcount)\n",
      "C:\\Users\\antre\\Documents\\mlp2_project\\src\\segmentation.py:66: RuntimeWarning: divide by zero encountered in double_scalars\n",
      "  SNR = 0 if (RMS_signal==0 or np.isnan(RMS_noise)) else 20*np.log10(RMS_signal/RMS_noise)\n",
      "C:\\Users\\antre\\Documents\\mlp2_project\\src\\segmentation.py:66: RuntimeWarning: divide by zero encountered in double_scalars\n",
      "  SNR = 0 if (RMS_signal==0 or np.isnan(RMS_noise)) else 20*np.log10(RMS_signal/RMS_noise)\n",
      "C:\\Users\\antre\\Documents\\mlp2_project\\src\\segmentation.py:66: RuntimeWarning: divide by zero encountered in double_scalars\n",
      "  SNR = 0 if (RMS_signal==0 or np.isnan(RMS_noise)) else 20*np.log10(RMS_signal/RMS_noise)\n",
      "C:\\Users\\antre\\Documents\\mlp2_project\\src\\segmentation.py:66: RuntimeWarning: divide by zero encountered in double_scalars\n",
      "  SNR = 0 if (RMS_signal==0 or np.isnan(RMS_noise)) else 20*np.log10(RMS_signal/RMS_noise)\n"
     ]
    },
    {
     "name": "stdout",
     "output_type": "stream",
     "text": [
      "Finished 8900/20072\n"
     ]
    },
    {
     "name": "stderr",
     "output_type": "stream",
     "text": [
      "C:\\Users\\antre\\Documents\\mlp2_project\\src\\segmentation.py:66: RuntimeWarning: divide by zero encountered in double_scalars\n",
      "  SNR = 0 if (RMS_signal==0 or np.isnan(RMS_noise)) else 20*np.log10(RMS_signal/RMS_noise)\n",
      "C:\\Users\\antre\\Documents\\mlp2_project\\src\\segmentation.py:66: RuntimeWarning: divide by zero encountered in double_scalars\n",
      "  SNR = 0 if (RMS_signal==0 or np.isnan(RMS_noise)) else 20*np.log10(RMS_signal/RMS_noise)\n"
     ]
    },
    {
     "name": "stdout",
     "output_type": "stream",
     "text": [
      "Finished 9000/20072\n"
     ]
    },
    {
     "name": "stderr",
     "output_type": "stream",
     "text": [
      "C:\\Users\\antre\\Documents\\mlp2_project\\src\\segmentation.py:66: RuntimeWarning: divide by zero encountered in double_scalars\n",
      "  SNR = 0 if (RMS_signal==0 or np.isnan(RMS_noise)) else 20*np.log10(RMS_signal/RMS_noise)\n",
      "C:\\Users\\antre\\Documents\\mlp2_project\\src\\segmentation.py:66: RuntimeWarning: divide by zero encountered in double_scalars\n",
      "  SNR = 0 if (RMS_signal==0 or np.isnan(RMS_noise)) else 20*np.log10(RMS_signal/RMS_noise)\n",
      "C:\\Users\\antre\\Documents\\mlp2_project\\src\\segmentation.py:65: RuntimeWarning: invalid value encountered in sqrt\n",
      "  RMS_noise = np.sqrt(np.mean(np.square(x[~cough_mask])))\n",
      "C:\\Users\\antre\\Documents\\mlp2_project\\src\\segmentation.py:66: RuntimeWarning: divide by zero encountered in double_scalars\n",
      "  SNR = 0 if (RMS_signal==0 or np.isnan(RMS_noise)) else 20*np.log10(RMS_signal/RMS_noise)\n",
      "C:\\Users\\antre\\Documents\\mlp2_project\\src\\segmentation.py:66: RuntimeWarning: divide by zero encountered in double_scalars\n",
      "  SNR = 0 if (RMS_signal==0 or np.isnan(RMS_noise)) else 20*np.log10(RMS_signal/RMS_noise)\n",
      "C:\\Users\\antre\\Documents\\mlp2_project\\src\\segmentation.py:66: RuntimeWarning: divide by zero encountered in double_scalars\n",
      "  SNR = 0 if (RMS_signal==0 or np.isnan(RMS_noise)) else 20*np.log10(RMS_signal/RMS_noise)\n",
      "C:\\Users\\antre\\Documents\\mlp2_project\\src\\segmentation.py:66: RuntimeWarning: divide by zero encountered in double_scalars\n",
      "  SNR = 0 if (RMS_signal==0 or np.isnan(RMS_noise)) else 20*np.log10(RMS_signal/RMS_noise)\n",
      "C:\\Users\\antre\\Documents\\mlp2_project\\src\\segmentation.py:66: RuntimeWarning: divide by zero encountered in double_scalars\n",
      "  SNR = 0 if (RMS_signal==0 or np.isnan(RMS_noise)) else 20*np.log10(RMS_signal/RMS_noise)\n",
      "C:\\Users\\antre\\Anaconda3\\envs\\coughvid_public\\lib\\site-packages\\numpy\\core\\fromnumeric.py:3372: RuntimeWarning: Mean of empty slice.\n",
      "  return _methods._mean(a, axis=axis, dtype=dtype,\n",
      "C:\\Users\\antre\\Anaconda3\\envs\\coughvid_public\\lib\\site-packages\\numpy\\core\\_methods.py:170: RuntimeWarning: invalid value encountered in double_scalars\n",
      "  ret = ret.dtype.type(ret / rcount)\n"
     ]
    },
    {
     "name": "stdout",
     "output_type": "stream",
     "text": [
      "Finished 9100/20072\n"
     ]
    },
    {
     "name": "stderr",
     "output_type": "stream",
     "text": [
      "C:\\Users\\antre\\Documents\\mlp2_project\\src\\segmentation.py:66: RuntimeWarning: divide by zero encountered in double_scalars\n",
      "  SNR = 0 if (RMS_signal==0 or np.isnan(RMS_noise)) else 20*np.log10(RMS_signal/RMS_noise)\n"
     ]
    },
    {
     "name": "stdout",
     "output_type": "stream",
     "text": [
      "Finished 9200/20072\n"
     ]
    },
    {
     "name": "stderr",
     "output_type": "stream",
     "text": [
      "C:\\Users\\antre\\Documents\\mlp2_project\\src\\segmentation.py:66: RuntimeWarning: divide by zero encountered in double_scalars\n",
      "  SNR = 0 if (RMS_signal==0 or np.isnan(RMS_noise)) else 20*np.log10(RMS_signal/RMS_noise)\n",
      "C:\\Users\\antre\\Documents\\mlp2_project\\src\\segmentation.py:66: RuntimeWarning: divide by zero encountered in double_scalars\n",
      "  SNR = 0 if (RMS_signal==0 or np.isnan(RMS_noise)) else 20*np.log10(RMS_signal/RMS_noise)\n"
     ]
    },
    {
     "name": "stdout",
     "output_type": "stream",
     "text": [
      "Finished 9300/20072\n"
     ]
    },
    {
     "name": "stderr",
     "output_type": "stream",
     "text": [
      "C:\\Users\\antre\\Documents\\mlp2_project\\src\\segmentation.py:66: RuntimeWarning: divide by zero encountered in double_scalars\n",
      "  SNR = 0 if (RMS_signal==0 or np.isnan(RMS_noise)) else 20*np.log10(RMS_signal/RMS_noise)\n",
      "C:\\Users\\antre\\Anaconda3\\envs\\coughvid_public\\lib\\site-packages\\numpy\\core\\fromnumeric.py:3372: RuntimeWarning: Mean of empty slice.\n",
      "  return _methods._mean(a, axis=axis, dtype=dtype,\n",
      "C:\\Users\\antre\\Anaconda3\\envs\\coughvid_public\\lib\\site-packages\\numpy\\core\\_methods.py:170: RuntimeWarning: invalid value encountered in double_scalars\n",
      "  ret = ret.dtype.type(ret / rcount)\n",
      "C:\\Users\\antre\\Documents\\mlp2_project\\src\\segmentation.py:66: RuntimeWarning: divide by zero encountered in double_scalars\n",
      "  SNR = 0 if (RMS_signal==0 or np.isnan(RMS_noise)) else 20*np.log10(RMS_signal/RMS_noise)\n",
      "C:\\Users\\antre\\Anaconda3\\envs\\coughvid_public\\lib\\site-packages\\numpy\\core\\fromnumeric.py:3372: RuntimeWarning: Mean of empty slice.\n",
      "  return _methods._mean(a, axis=axis, dtype=dtype,\n",
      "C:\\Users\\antre\\Anaconda3\\envs\\coughvid_public\\lib\\site-packages\\numpy\\core\\_methods.py:170: RuntimeWarning: invalid value encountered in double_scalars\n",
      "  ret = ret.dtype.type(ret / rcount)\n",
      "C:\\Users\\antre\\Documents\\mlp2_project\\src\\segmentation.py:66: RuntimeWarning: divide by zero encountered in double_scalars\n",
      "  SNR = 0 if (RMS_signal==0 or np.isnan(RMS_noise)) else 20*np.log10(RMS_signal/RMS_noise)\n",
      "C:\\Users\\antre\\Anaconda3\\envs\\coughvid_public\\lib\\site-packages\\numpy\\core\\fromnumeric.py:3372: RuntimeWarning: Mean of empty slice.\n",
      "  return _methods._mean(a, axis=axis, dtype=dtype,\n",
      "C:\\Users\\antre\\Anaconda3\\envs\\coughvid_public\\lib\\site-packages\\numpy\\core\\_methods.py:170: RuntimeWarning: invalid value encountered in double_scalars\n",
      "  ret = ret.dtype.type(ret / rcount)\n"
     ]
    },
    {
     "name": "stdout",
     "output_type": "stream",
     "text": [
      "Finished 9400/20072\n"
     ]
    },
    {
     "name": "stderr",
     "output_type": "stream",
     "text": [
      "C:\\Users\\antre\\Documents\\mlp2_project\\src\\segmentation.py:66: RuntimeWarning: divide by zero encountered in double_scalars\n",
      "  SNR = 0 if (RMS_signal==0 or np.isnan(RMS_noise)) else 20*np.log10(RMS_signal/RMS_noise)\n",
      "C:\\Users\\antre\\Documents\\mlp2_project\\src\\segmentation.py:66: RuntimeWarning: divide by zero encountered in double_scalars\n",
      "  SNR = 0 if (RMS_signal==0 or np.isnan(RMS_noise)) else 20*np.log10(RMS_signal/RMS_noise)\n",
      "C:\\Users\\antre\\Anaconda3\\envs\\coughvid_public\\lib\\site-packages\\numpy\\core\\fromnumeric.py:3372: RuntimeWarning: Mean of empty slice.\n",
      "  return _methods._mean(a, axis=axis, dtype=dtype,\n",
      "C:\\Users\\antre\\Anaconda3\\envs\\coughvid_public\\lib\\site-packages\\numpy\\core\\_methods.py:170: RuntimeWarning: invalid value encountered in double_scalars\n",
      "  ret = ret.dtype.type(ret / rcount)\n",
      "C:\\Users\\antre\\Documents\\mlp2_project\\src\\segmentation.py:66: RuntimeWarning: divide by zero encountered in double_scalars\n",
      "  SNR = 0 if (RMS_signal==0 or np.isnan(RMS_noise)) else 20*np.log10(RMS_signal/RMS_noise)\n",
      "C:\\Users\\antre\\Documents\\mlp2_project\\src\\segmentation.py:66: RuntimeWarning: divide by zero encountered in double_scalars\n",
      "  SNR = 0 if (RMS_signal==0 or np.isnan(RMS_noise)) else 20*np.log10(RMS_signal/RMS_noise)\n",
      "C:\\Users\\antre\\Documents\\mlp2_project\\src\\segmentation.py:66: RuntimeWarning: divide by zero encountered in double_scalars\n",
      "  SNR = 0 if (RMS_signal==0 or np.isnan(RMS_noise)) else 20*np.log10(RMS_signal/RMS_noise)\n"
     ]
    },
    {
     "name": "stdout",
     "output_type": "stream",
     "text": [
      "Finished 9500/20072\n"
     ]
    },
    {
     "name": "stderr",
     "output_type": "stream",
     "text": [
      "C:\\Users\\antre\\Documents\\mlp2_project\\src\\segmentation.py:66: RuntimeWarning: divide by zero encountered in double_scalars\n",
      "  SNR = 0 if (RMS_signal==0 or np.isnan(RMS_noise)) else 20*np.log10(RMS_signal/RMS_noise)\n",
      "C:\\Users\\antre\\Anaconda3\\envs\\coughvid_public\\lib\\site-packages\\numpy\\core\\fromnumeric.py:3372: RuntimeWarning: Mean of empty slice.\n",
      "  return _methods._mean(a, axis=axis, dtype=dtype,\n",
      "C:\\Users\\antre\\Anaconda3\\envs\\coughvid_public\\lib\\site-packages\\numpy\\core\\_methods.py:170: RuntimeWarning: invalid value encountered in double_scalars\n",
      "  ret = ret.dtype.type(ret / rcount)\n",
      "C:\\Users\\antre\\Documents\\mlp2_project\\src\\feature_class.py:134: RuntimeWarning: invalid value encountered in double_scalars\n",
      "  spec_centroid = np.sum(magnitudes*freqs) / sum_mag\n",
      "C:\\Users\\antre\\Documents\\mlp2_project\\src\\feature_class.py:167: RuntimeWarning: divide by zero encountered in double_scalars\n",
      "  SF = gmean/amean\n",
      "C:\\Users\\antre\\Documents\\mlp2_project\\src\\feature_class.py:218: RuntimeWarning: invalid value encountered in true_divide\n",
      "  return np.ones((1,1))*peak/RMS, ['Crest_Factor']\n",
      "C:\\Users\\antre\\Documents\\mlp2_project\\src\\feature_class.py:237: RuntimeWarning: invalid value encountered in double_scalars\n",
      "  feat.append(band_power/total_power)\n",
      "C:\\Users\\antre\\Documents\\mlp2_project\\src\\feature_class.py:237: RuntimeWarning: invalid value encountered in float_scalars\n",
      "  feat.append(band_power/total_power)\n",
      "C:\\Users\\antre\\Documents\\mlp2_project\\src\\segmentation.py:66: RuntimeWarning: divide by zero encountered in double_scalars\n",
      "  SNR = 0 if (RMS_signal==0 or np.isnan(RMS_noise)) else 20*np.log10(RMS_signal/RMS_noise)\n",
      "C:\\Users\\antre\\Anaconda3\\envs\\coughvid_public\\lib\\site-packages\\numpy\\core\\fromnumeric.py:3372: RuntimeWarning: Mean of empty slice.\n",
      "  return _methods._mean(a, axis=axis, dtype=dtype,\n",
      "C:\\Users\\antre\\Anaconda3\\envs\\coughvid_public\\lib\\site-packages\\numpy\\core\\_methods.py:170: RuntimeWarning: invalid value encountered in double_scalars\n",
      "  ret = ret.dtype.type(ret / rcount)\n",
      "C:\\Users\\antre\\Documents\\mlp2_project\\src\\feature_class.py:134: RuntimeWarning: invalid value encountered in double_scalars\n",
      "  spec_centroid = np.sum(magnitudes*freqs) / sum_mag\n",
      "C:\\Users\\antre\\Documents\\mlp2_project\\src\\feature_class.py:167: RuntimeWarning: divide by zero encountered in double_scalars\n",
      "  SF = gmean/amean\n",
      "C:\\Users\\antre\\Documents\\mlp2_project\\src\\feature_class.py:218: RuntimeWarning: invalid value encountered in true_divide\n",
      "  return np.ones((1,1))*peak/RMS, ['Crest_Factor']\n",
      "C:\\Users\\antre\\Documents\\mlp2_project\\src\\feature_class.py:237: RuntimeWarning: invalid value encountered in double_scalars\n",
      "  feat.append(band_power/total_power)\n",
      "C:\\Users\\antre\\Documents\\mlp2_project\\src\\feature_class.py:237: RuntimeWarning: invalid value encountered in float_scalars\n",
      "  feat.append(band_power/total_power)\n"
     ]
    },
    {
     "name": "stdout",
     "output_type": "stream",
     "text": [
      "Finished 9600/20072\n"
     ]
    },
    {
     "name": "stderr",
     "output_type": "stream",
     "text": [
      "C:\\Users\\antre\\Documents\\mlp2_project\\src\\segmentation.py:66: RuntimeWarning: divide by zero encountered in double_scalars\n",
      "  SNR = 0 if (RMS_signal==0 or np.isnan(RMS_noise)) else 20*np.log10(RMS_signal/RMS_noise)\n",
      "C:\\Users\\antre\\Documents\\mlp2_project\\src\\segmentation.py:66: RuntimeWarning: divide by zero encountered in double_scalars\n",
      "  SNR = 0 if (RMS_signal==0 or np.isnan(RMS_noise)) else 20*np.log10(RMS_signal/RMS_noise)\n",
      "C:\\Users\\antre\\Documents\\mlp2_project\\src\\segmentation.py:66: RuntimeWarning: divide by zero encountered in double_scalars\n",
      "  SNR = 0 if (RMS_signal==0 or np.isnan(RMS_noise)) else 20*np.log10(RMS_signal/RMS_noise)\n",
      "C:\\Users\\antre\\Anaconda3\\envs\\coughvid_public\\lib\\site-packages\\numpy\\core\\fromnumeric.py:3372: RuntimeWarning: Mean of empty slice.\n",
      "  return _methods._mean(a, axis=axis, dtype=dtype,\n",
      "C:\\Users\\antre\\Anaconda3\\envs\\coughvid_public\\lib\\site-packages\\numpy\\core\\_methods.py:170: RuntimeWarning: invalid value encountered in double_scalars\n",
      "  ret = ret.dtype.type(ret / rcount)\n",
      "C:\\Users\\antre\\Documents\\mlp2_project\\src\\segmentation.py:66: RuntimeWarning: divide by zero encountered in double_scalars\n",
      "  SNR = 0 if (RMS_signal==0 or np.isnan(RMS_noise)) else 20*np.log10(RMS_signal/RMS_noise)\n"
     ]
    },
    {
     "name": "stdout",
     "output_type": "stream",
     "text": [
      "Finished 9700/20072\n"
     ]
    },
    {
     "name": "stderr",
     "output_type": "stream",
     "text": [
      "C:\\Users\\antre\\Documents\\mlp2_project\\src\\segmentation.py:66: RuntimeWarning: divide by zero encountered in double_scalars\n",
      "  SNR = 0 if (RMS_signal==0 or np.isnan(RMS_noise)) else 20*np.log10(RMS_signal/RMS_noise)\n",
      "C:\\Users\\antre\\Documents\\mlp2_project\\src\\segmentation.py:66: RuntimeWarning: divide by zero encountered in double_scalars\n",
      "  SNR = 0 if (RMS_signal==0 or np.isnan(RMS_noise)) else 20*np.log10(RMS_signal/RMS_noise)\n",
      "C:\\Users\\antre\\Documents\\mlp2_project\\src\\segmentation.py:66: RuntimeWarning: divide by zero encountered in double_scalars\n",
      "  SNR = 0 if (RMS_signal==0 or np.isnan(RMS_noise)) else 20*np.log10(RMS_signal/RMS_noise)\n"
     ]
    },
    {
     "name": "stdout",
     "output_type": "stream",
     "text": [
      "Finished 9800/20072\n"
     ]
    },
    {
     "name": "stderr",
     "output_type": "stream",
     "text": [
      "C:\\Users\\antre\\Documents\\mlp2_project\\src\\segmentation.py:66: RuntimeWarning: divide by zero encountered in double_scalars\n",
      "  SNR = 0 if (RMS_signal==0 or np.isnan(RMS_noise)) else 20*np.log10(RMS_signal/RMS_noise)\n",
      "C:\\Users\\antre\\Documents\\mlp2_project\\src\\segmentation.py:66: RuntimeWarning: divide by zero encountered in double_scalars\n",
      "  SNR = 0 if (RMS_signal==0 or np.isnan(RMS_noise)) else 20*np.log10(RMS_signal/RMS_noise)\n",
      "C:\\Users\\antre\\Documents\\mlp2_project\\src\\segmentation.py:66: RuntimeWarning: divide by zero encountered in double_scalars\n",
      "  SNR = 0 if (RMS_signal==0 or np.isnan(RMS_noise)) else 20*np.log10(RMS_signal/RMS_noise)\n",
      "C:\\Users\\antre\\Documents\\mlp2_project\\src\\segmentation.py:66: RuntimeWarning: divide by zero encountered in double_scalars\n",
      "  SNR = 0 if (RMS_signal==0 or np.isnan(RMS_noise)) else 20*np.log10(RMS_signal/RMS_noise)\n"
     ]
    },
    {
     "name": "stdout",
     "output_type": "stream",
     "text": [
      "Finished 9900/20072\n"
     ]
    },
    {
     "name": "stderr",
     "output_type": "stream",
     "text": [
      "C:\\Users\\antre\\Documents\\mlp2_project\\src\\segmentation.py:66: RuntimeWarning: divide by zero encountered in double_scalars\n",
      "  SNR = 0 if (RMS_signal==0 or np.isnan(RMS_noise)) else 20*np.log10(RMS_signal/RMS_noise)\n",
      "C:\\Users\\antre\\Documents\\mlp2_project\\src\\segmentation.py:66: RuntimeWarning: divide by zero encountered in double_scalars\n",
      "  SNR = 0 if (RMS_signal==0 or np.isnan(RMS_noise)) else 20*np.log10(RMS_signal/RMS_noise)\n",
      "C:\\Users\\antre\\Documents\\mlp2_project\\src\\segmentation.py:66: RuntimeWarning: divide by zero encountered in double_scalars\n",
      "  SNR = 0 if (RMS_signal==0 or np.isnan(RMS_noise)) else 20*np.log10(RMS_signal/RMS_noise)\n"
     ]
    },
    {
     "name": "stdout",
     "output_type": "stream",
     "text": [
      "Finished 10000/20072\n"
     ]
    },
    {
     "name": "stderr",
     "output_type": "stream",
     "text": [
      "C:\\Users\\antre\\Documents\\mlp2_project\\src\\segmentation.py:66: RuntimeWarning: divide by zero encountered in double_scalars\n",
      "  SNR = 0 if (RMS_signal==0 or np.isnan(RMS_noise)) else 20*np.log10(RMS_signal/RMS_noise)\n"
     ]
    },
    {
     "name": "stdout",
     "output_type": "stream",
     "text": [
      "Finished 10100/20072\n"
     ]
    },
    {
     "name": "stderr",
     "output_type": "stream",
     "text": [
      "C:\\Users\\antre\\Anaconda3\\envs\\coughvid_public\\lib\\site-packages\\numpy\\core\\fromnumeric.py:3372: RuntimeWarning: Mean of empty slice.\n",
      "  return _methods._mean(a, axis=axis, dtype=dtype,\n",
      "C:\\Users\\antre\\Anaconda3\\envs\\coughvid_public\\lib\\site-packages\\numpy\\core\\_methods.py:170: RuntimeWarning: invalid value encountered in double_scalars\n",
      "  ret = ret.dtype.type(ret / rcount)\n",
      "C:\\Users\\antre\\Documents\\mlp2_project\\src\\feature_class.py:134: RuntimeWarning: invalid value encountered in double_scalars\n",
      "  spec_centroid = np.sum(magnitudes*freqs) / sum_mag\n",
      "C:\\Users\\antre\\Documents\\mlp2_project\\src\\feature_class.py:167: RuntimeWarning: divide by zero encountered in double_scalars\n",
      "  SF = gmean/amean\n",
      "C:\\Users\\antre\\Documents\\mlp2_project\\src\\feature_class.py:218: RuntimeWarning: invalid value encountered in true_divide\n",
      "  return np.ones((1,1))*peak/RMS, ['Crest_Factor']\n",
      "C:\\Users\\antre\\Documents\\mlp2_project\\src\\feature_class.py:237: RuntimeWarning: invalid value encountered in double_scalars\n",
      "  feat.append(band_power/total_power)\n",
      "C:\\Users\\antre\\Documents\\mlp2_project\\src\\feature_class.py:237: RuntimeWarning: invalid value encountered in float_scalars\n",
      "  feat.append(band_power/total_power)\n",
      "C:\\Users\\antre\\Documents\\mlp2_project\\src\\segmentation.py:66: RuntimeWarning: divide by zero encountered in double_scalars\n",
      "  SNR = 0 if (RMS_signal==0 or np.isnan(RMS_noise)) else 20*np.log10(RMS_signal/RMS_noise)\n",
      "C:\\Users\\antre\\Documents\\mlp2_project\\src\\segmentation.py:66: RuntimeWarning: divide by zero encountered in double_scalars\n",
      "  SNR = 0 if (RMS_signal==0 or np.isnan(RMS_noise)) else 20*np.log10(RMS_signal/RMS_noise)\n",
      "C:\\Users\\antre\\Documents\\mlp2_project\\src\\segmentation.py:66: RuntimeWarning: divide by zero encountered in double_scalars\n",
      "  SNR = 0 if (RMS_signal==0 or np.isnan(RMS_noise)) else 20*np.log10(RMS_signal/RMS_noise)\n"
     ]
    },
    {
     "name": "stdout",
     "output_type": "stream",
     "text": [
      "Finished 10200/20072\n",
      "Finished 10300/20072\n"
     ]
    },
    {
     "name": "stderr",
     "output_type": "stream",
     "text": [
      "C:\\Users\\antre\\Documents\\mlp2_project\\src\\segmentation.py:66: RuntimeWarning: divide by zero encountered in double_scalars\n",
      "  SNR = 0 if (RMS_signal==0 or np.isnan(RMS_noise)) else 20*np.log10(RMS_signal/RMS_noise)\n",
      "C:\\Users\\antre\\Documents\\mlp2_project\\src\\segmentation.py:66: RuntimeWarning: divide by zero encountered in double_scalars\n",
      "  SNR = 0 if (RMS_signal==0 or np.isnan(RMS_noise)) else 20*np.log10(RMS_signal/RMS_noise)\n",
      "C:\\Users\\antre\\Documents\\mlp2_project\\src\\segmentation.py:66: RuntimeWarning: divide by zero encountered in double_scalars\n",
      "  SNR = 0 if (RMS_signal==0 or np.isnan(RMS_noise)) else 20*np.log10(RMS_signal/RMS_noise)\n",
      "C:\\Users\\antre\\Documents\\mlp2_project\\src\\segmentation.py:66: RuntimeWarning: divide by zero encountered in double_scalars\n",
      "  SNR = 0 if (RMS_signal==0 or np.isnan(RMS_noise)) else 20*np.log10(RMS_signal/RMS_noise)\n",
      "C:\\Users\\antre\\Documents\\mlp2_project\\src\\segmentation.py:66: RuntimeWarning: divide by zero encountered in double_scalars\n",
      "  SNR = 0 if (RMS_signal==0 or np.isnan(RMS_noise)) else 20*np.log10(RMS_signal/RMS_noise)\n"
     ]
    },
    {
     "name": "stdout",
     "output_type": "stream",
     "text": [
      "Finished 10400/20072\n"
     ]
    },
    {
     "name": "stderr",
     "output_type": "stream",
     "text": [
      "C:\\Users\\antre\\Documents\\mlp2_project\\src\\segmentation.py:66: RuntimeWarning: divide by zero encountered in double_scalars\n",
      "  SNR = 0 if (RMS_signal==0 or np.isnan(RMS_noise)) else 20*np.log10(RMS_signal/RMS_noise)\n",
      "C:\\Users\\antre\\Documents\\mlp2_project\\src\\segmentation.py:66: RuntimeWarning: divide by zero encountered in double_scalars\n",
      "  SNR = 0 if (RMS_signal==0 or np.isnan(RMS_noise)) else 20*np.log10(RMS_signal/RMS_noise)\n",
      "C:\\Users\\antre\\Documents\\mlp2_project\\src\\segmentation.py:66: RuntimeWarning: divide by zero encountered in double_scalars\n",
      "  SNR = 0 if (RMS_signal==0 or np.isnan(RMS_noise)) else 20*np.log10(RMS_signal/RMS_noise)\n"
     ]
    },
    {
     "name": "stdout",
     "output_type": "stream",
     "text": [
      "Finished 10500/20072\n"
     ]
    },
    {
     "name": "stderr",
     "output_type": "stream",
     "text": [
      "C:\\Users\\antre\\Documents\\mlp2_project\\src\\segmentation.py:66: RuntimeWarning: divide by zero encountered in double_scalars\n",
      "  SNR = 0 if (RMS_signal==0 or np.isnan(RMS_noise)) else 20*np.log10(RMS_signal/RMS_noise)\n",
      "C:\\Users\\antre\\Documents\\mlp2_project\\src\\segmentation.py:66: RuntimeWarning: divide by zero encountered in double_scalars\n",
      "  SNR = 0 if (RMS_signal==0 or np.isnan(RMS_noise)) else 20*np.log10(RMS_signal/RMS_noise)\n",
      "C:\\Users\\antre\\Documents\\mlp2_project\\src\\segmentation.py:66: RuntimeWarning: divide by zero encountered in double_scalars\n",
      "  SNR = 0 if (RMS_signal==0 or np.isnan(RMS_noise)) else 20*np.log10(RMS_signal/RMS_noise)\n",
      "C:\\Users\\antre\\Anaconda3\\envs\\coughvid_public\\lib\\site-packages\\numpy\\core\\fromnumeric.py:3372: RuntimeWarning: Mean of empty slice.\n",
      "  return _methods._mean(a, axis=axis, dtype=dtype,\n",
      "C:\\Users\\antre\\Anaconda3\\envs\\coughvid_public\\lib\\site-packages\\numpy\\core\\_methods.py:170: RuntimeWarning: invalid value encountered in double_scalars\n",
      "  ret = ret.dtype.type(ret / rcount)\n"
     ]
    },
    {
     "name": "stdout",
     "output_type": "stream",
     "text": [
      "Finished 10600/20072\n"
     ]
    },
    {
     "name": "stderr",
     "output_type": "stream",
     "text": [
      "C:\\Users\\antre\\Documents\\mlp2_project\\src\\segmentation.py:66: RuntimeWarning: divide by zero encountered in double_scalars\n",
      "  SNR = 0 if (RMS_signal==0 or np.isnan(RMS_noise)) else 20*np.log10(RMS_signal/RMS_noise)\n"
     ]
    },
    {
     "name": "stdout",
     "output_type": "stream",
     "text": [
      "Finished 10700/20072\n"
     ]
    },
    {
     "name": "stderr",
     "output_type": "stream",
     "text": [
      "C:\\Users\\antre\\Documents\\mlp2_project\\src\\segmentation.py:66: RuntimeWarning: divide by zero encountered in double_scalars\n",
      "  SNR = 0 if (RMS_signal==0 or np.isnan(RMS_noise)) else 20*np.log10(RMS_signal/RMS_noise)\n",
      "C:\\Users\\antre\\Documents\\mlp2_project\\src\\segmentation.py:66: RuntimeWarning: divide by zero encountered in double_scalars\n",
      "  SNR = 0 if (RMS_signal==0 or np.isnan(RMS_noise)) else 20*np.log10(RMS_signal/RMS_noise)\n",
      "C:\\Users\\antre\\Anaconda3\\envs\\coughvid_public\\lib\\site-packages\\numpy\\core\\fromnumeric.py:3372: RuntimeWarning: Mean of empty slice.\n",
      "  return _methods._mean(a, axis=axis, dtype=dtype,\n",
      "C:\\Users\\antre\\Anaconda3\\envs\\coughvid_public\\lib\\site-packages\\numpy\\core\\_methods.py:170: RuntimeWarning: invalid value encountered in double_scalars\n",
      "  ret = ret.dtype.type(ret / rcount)\n"
     ]
    },
    {
     "name": "stdout",
     "output_type": "stream",
     "text": [
      "Finished 10800/20072\n"
     ]
    },
    {
     "name": "stderr",
     "output_type": "stream",
     "text": [
      "C:\\Users\\antre\\Anaconda3\\envs\\coughvid_public\\lib\\site-packages\\numpy\\core\\fromnumeric.py:3372: RuntimeWarning: Mean of empty slice.\n",
      "  return _methods._mean(a, axis=axis, dtype=dtype,\n",
      "C:\\Users\\antre\\Anaconda3\\envs\\coughvid_public\\lib\\site-packages\\numpy\\core\\_methods.py:170: RuntimeWarning: invalid value encountered in double_scalars\n",
      "  ret = ret.dtype.type(ret / rcount)\n",
      "C:\\Users\\antre\\Documents\\mlp2_project\\src\\segmentation.py:66: RuntimeWarning: divide by zero encountered in double_scalars\n",
      "  SNR = 0 if (RMS_signal==0 or np.isnan(RMS_noise)) else 20*np.log10(RMS_signal/RMS_noise)\n",
      "C:\\Users\\antre\\Documents\\mlp2_project\\src\\segmentation.py:66: RuntimeWarning: divide by zero encountered in double_scalars\n",
      "  SNR = 0 if (RMS_signal==0 or np.isnan(RMS_noise)) else 20*np.log10(RMS_signal/RMS_noise)\n",
      "C:\\Users\\antre\\Documents\\mlp2_project\\src\\segmentation.py:66: RuntimeWarning: divide by zero encountered in double_scalars\n",
      "  SNR = 0 if (RMS_signal==0 or np.isnan(RMS_noise)) else 20*np.log10(RMS_signal/RMS_noise)\n"
     ]
    },
    {
     "name": "stdout",
     "output_type": "stream",
     "text": [
      "Finished 10900/20072\n"
     ]
    },
    {
     "name": "stderr",
     "output_type": "stream",
     "text": [
      "C:\\Users\\antre\\Documents\\mlp2_project\\src\\segmentation.py:66: RuntimeWarning: divide by zero encountered in double_scalars\n",
      "  SNR = 0 if (RMS_signal==0 or np.isnan(RMS_noise)) else 20*np.log10(RMS_signal/RMS_noise)\n",
      "C:\\Users\\antre\\Documents\\mlp2_project\\src\\segmentation.py:66: RuntimeWarning: divide by zero encountered in double_scalars\n",
      "  SNR = 0 if (RMS_signal==0 or np.isnan(RMS_noise)) else 20*np.log10(RMS_signal/RMS_noise)\n",
      "C:\\Users\\antre\\Anaconda3\\envs\\coughvid_public\\lib\\site-packages\\numpy\\core\\fromnumeric.py:3372: RuntimeWarning: Mean of empty slice.\n",
      "  return _methods._mean(a, axis=axis, dtype=dtype,\n",
      "C:\\Users\\antre\\Anaconda3\\envs\\coughvid_public\\lib\\site-packages\\numpy\\core\\_methods.py:170: RuntimeWarning: invalid value encountered in double_scalars\n",
      "  ret = ret.dtype.type(ret / rcount)\n"
     ]
    },
    {
     "name": "stdout",
     "output_type": "stream",
     "text": [
      "Finished 11000/20072\n"
     ]
    },
    {
     "name": "stderr",
     "output_type": "stream",
     "text": [
      "C:\\Users\\antre\\Documents\\mlp2_project\\src\\segmentation.py:66: RuntimeWarning: divide by zero encountered in double_scalars\n",
      "  SNR = 0 if (RMS_signal==0 or np.isnan(RMS_noise)) else 20*np.log10(RMS_signal/RMS_noise)\n",
      "C:\\Users\\antre\\Documents\\mlp2_project\\src\\segmentation.py:66: RuntimeWarning: divide by zero encountered in double_scalars\n",
      "  SNR = 0 if (RMS_signal==0 or np.isnan(RMS_noise)) else 20*np.log10(RMS_signal/RMS_noise)\n",
      "C:\\Users\\antre\\Documents\\mlp2_project\\src\\segmentation.py:66: RuntimeWarning: divide by zero encountered in double_scalars\n",
      "  SNR = 0 if (RMS_signal==0 or np.isnan(RMS_noise)) else 20*np.log10(RMS_signal/RMS_noise)\n",
      "C:\\Users\\antre\\Documents\\mlp2_project\\src\\segmentation.py:66: RuntimeWarning: divide by zero encountered in double_scalars\n",
      "  SNR = 0 if (RMS_signal==0 or np.isnan(RMS_noise)) else 20*np.log10(RMS_signal/RMS_noise)\n"
     ]
    },
    {
     "name": "stdout",
     "output_type": "stream",
     "text": [
      "Finished 11100/20072\n"
     ]
    },
    {
     "name": "stderr",
     "output_type": "stream",
     "text": [
      "C:\\Users\\antre\\Documents\\mlp2_project\\src\\segmentation.py:66: RuntimeWarning: divide by zero encountered in double_scalars\n",
      "  SNR = 0 if (RMS_signal==0 or np.isnan(RMS_noise)) else 20*np.log10(RMS_signal/RMS_noise)\n",
      "C:\\Users\\antre\\Documents\\mlp2_project\\src\\segmentation.py:66: RuntimeWarning: divide by zero encountered in double_scalars\n",
      "  SNR = 0 if (RMS_signal==0 or np.isnan(RMS_noise)) else 20*np.log10(RMS_signal/RMS_noise)\n",
      "C:\\Users\\antre\\Documents\\mlp2_project\\src\\segmentation.py:66: RuntimeWarning: divide by zero encountered in double_scalars\n",
      "  SNR = 0 if (RMS_signal==0 or np.isnan(RMS_noise)) else 20*np.log10(RMS_signal/RMS_noise)\n",
      "C:\\Users\\antre\\Documents\\mlp2_project\\src\\segmentation.py:66: RuntimeWarning: divide by zero encountered in double_scalars\n",
      "  SNR = 0 if (RMS_signal==0 or np.isnan(RMS_noise)) else 20*np.log10(RMS_signal/RMS_noise)\n",
      "C:\\Users\\antre\\Anaconda3\\envs\\coughvid_public\\lib\\site-packages\\numpy\\core\\fromnumeric.py:3372: RuntimeWarning: Mean of empty slice.\n",
      "  return _methods._mean(a, axis=axis, dtype=dtype,\n",
      "C:\\Users\\antre\\Anaconda3\\envs\\coughvid_public\\lib\\site-packages\\numpy\\core\\_methods.py:170: RuntimeWarning: invalid value encountered in double_scalars\n",
      "  ret = ret.dtype.type(ret / rcount)\n"
     ]
    },
    {
     "name": "stdout",
     "output_type": "stream",
     "text": [
      "Finished 11200/20072\n"
     ]
    },
    {
     "name": "stderr",
     "output_type": "stream",
     "text": [
      "C:\\Users\\antre\\Documents\\mlp2_project\\src\\segmentation.py:66: RuntimeWarning: divide by zero encountered in double_scalars\n",
      "  SNR = 0 if (RMS_signal==0 or np.isnan(RMS_noise)) else 20*np.log10(RMS_signal/RMS_noise)\n",
      "C:\\Users\\antre\\Documents\\mlp2_project\\src\\segmentation.py:66: RuntimeWarning: divide by zero encountered in double_scalars\n",
      "  SNR = 0 if (RMS_signal==0 or np.isnan(RMS_noise)) else 20*np.log10(RMS_signal/RMS_noise)\n"
     ]
    },
    {
     "name": "stdout",
     "output_type": "stream",
     "text": [
      "Finished 11300/20072\n",
      "Finished 11400/20072\n"
     ]
    },
    {
     "name": "stderr",
     "output_type": "stream",
     "text": [
      "C:\\Users\\antre\\Documents\\mlp2_project\\src\\segmentation.py:66: RuntimeWarning: divide by zero encountered in double_scalars\n",
      "  SNR = 0 if (RMS_signal==0 or np.isnan(RMS_noise)) else 20*np.log10(RMS_signal/RMS_noise)\n",
      "C:\\Users\\antre\\Anaconda3\\envs\\coughvid_public\\lib\\site-packages\\numpy\\core\\fromnumeric.py:3372: RuntimeWarning: Mean of empty slice.\n",
      "  return _methods._mean(a, axis=axis, dtype=dtype,\n",
      "C:\\Users\\antre\\Anaconda3\\envs\\coughvid_public\\lib\\site-packages\\numpy\\core\\_methods.py:170: RuntimeWarning: invalid value encountered in double_scalars\n",
      "  ret = ret.dtype.type(ret / rcount)\n",
      "C:\\Users\\antre\\Documents\\mlp2_project\\src\\segmentation.py:66: RuntimeWarning: divide by zero encountered in double_scalars\n",
      "  SNR = 0 if (RMS_signal==0 or np.isnan(RMS_noise)) else 20*np.log10(RMS_signal/RMS_noise)\n"
     ]
    },
    {
     "name": "stdout",
     "output_type": "stream",
     "text": [
      "Finished 11500/20072\n"
     ]
    },
    {
     "name": "stderr",
     "output_type": "stream",
     "text": [
      "C:\\Users\\antre\\Anaconda3\\envs\\coughvid_public\\lib\\site-packages\\numpy\\core\\fromnumeric.py:3372: RuntimeWarning: Mean of empty slice.\n",
      "  return _methods._mean(a, axis=axis, dtype=dtype,\n",
      "C:\\Users\\antre\\Anaconda3\\envs\\coughvid_public\\lib\\site-packages\\numpy\\core\\_methods.py:170: RuntimeWarning: invalid value encountered in double_scalars\n",
      "  ret = ret.dtype.type(ret / rcount)\n",
      "C:\\Users\\antre\\Documents\\mlp2_project\\src\\segmentation.py:66: RuntimeWarning: divide by zero encountered in double_scalars\n",
      "  SNR = 0 if (RMS_signal==0 or np.isnan(RMS_noise)) else 20*np.log10(RMS_signal/RMS_noise)\n"
     ]
    },
    {
     "name": "stdout",
     "output_type": "stream",
     "text": [
      "Finished 11600/20072\n"
     ]
    },
    {
     "name": "stderr",
     "output_type": "stream",
     "text": [
      "C:\\Users\\antre\\Documents\\mlp2_project\\src\\segmentation.py:66: RuntimeWarning: divide by zero encountered in double_scalars\n",
      "  SNR = 0 if (RMS_signal==0 or np.isnan(RMS_noise)) else 20*np.log10(RMS_signal/RMS_noise)\n",
      "C:\\Users\\antre\\Documents\\mlp2_project\\src\\segmentation.py:66: RuntimeWarning: divide by zero encountered in double_scalars\n",
      "  SNR = 0 if (RMS_signal==0 or np.isnan(RMS_noise)) else 20*np.log10(RMS_signal/RMS_noise)\n",
      "C:\\Users\\antre\\Documents\\mlp2_project\\src\\segmentation.py:66: RuntimeWarning: divide by zero encountered in double_scalars\n",
      "  SNR = 0 if (RMS_signal==0 or np.isnan(RMS_noise)) else 20*np.log10(RMS_signal/RMS_noise)\n",
      "C:\\Users\\antre\\Documents\\mlp2_project\\src\\segmentation.py:66: RuntimeWarning: divide by zero encountered in double_scalars\n",
      "  SNR = 0 if (RMS_signal==0 or np.isnan(RMS_noise)) else 20*np.log10(RMS_signal/RMS_noise)\n"
     ]
    },
    {
     "name": "stdout",
     "output_type": "stream",
     "text": [
      "Finished 11700/20072\n"
     ]
    },
    {
     "name": "stderr",
     "output_type": "stream",
     "text": [
      "C:\\Users\\antre\\Documents\\mlp2_project\\src\\segmentation.py:66: RuntimeWarning: divide by zero encountered in double_scalars\n",
      "  SNR = 0 if (RMS_signal==0 or np.isnan(RMS_noise)) else 20*np.log10(RMS_signal/RMS_noise)\n",
      "C:\\Users\\antre\\Anaconda3\\envs\\coughvid_public\\lib\\site-packages\\numpy\\core\\fromnumeric.py:3372: RuntimeWarning: Mean of empty slice.\n",
      "  return _methods._mean(a, axis=axis, dtype=dtype,\n",
      "C:\\Users\\antre\\Anaconda3\\envs\\coughvid_public\\lib\\site-packages\\numpy\\core\\_methods.py:170: RuntimeWarning: invalid value encountered in double_scalars\n",
      "  ret = ret.dtype.type(ret / rcount)\n"
     ]
    },
    {
     "name": "stdout",
     "output_type": "stream",
     "text": [
      "Finished 11800/20072\n"
     ]
    },
    {
     "name": "stderr",
     "output_type": "stream",
     "text": [
      "C:\\Users\\antre\\Documents\\mlp2_project\\src\\segmentation.py:66: RuntimeWarning: divide by zero encountered in double_scalars\n",
      "  SNR = 0 if (RMS_signal==0 or np.isnan(RMS_noise)) else 20*np.log10(RMS_signal/RMS_noise)\n",
      "C:\\Users\\antre\\Documents\\mlp2_project\\src\\segmentation.py:66: RuntimeWarning: divide by zero encountered in double_scalars\n",
      "  SNR = 0 if (RMS_signal==0 or np.isnan(RMS_noise)) else 20*np.log10(RMS_signal/RMS_noise)\n"
     ]
    },
    {
     "name": "stdout",
     "output_type": "stream",
     "text": [
      "Finished 11900/20072\n"
     ]
    },
    {
     "name": "stderr",
     "output_type": "stream",
     "text": [
      "C:\\Users\\antre\\Documents\\mlp2_project\\src\\segmentation.py:66: RuntimeWarning: divide by zero encountered in double_scalars\n",
      "  SNR = 0 if (RMS_signal==0 or np.isnan(RMS_noise)) else 20*np.log10(RMS_signal/RMS_noise)\n",
      "C:\\Users\\antre\\Documents\\mlp2_project\\src\\segmentation.py:66: RuntimeWarning: divide by zero encountered in double_scalars\n",
      "  SNR = 0 if (RMS_signal==0 or np.isnan(RMS_noise)) else 20*np.log10(RMS_signal/RMS_noise)\n",
      "C:\\Users\\antre\\Documents\\mlp2_project\\src\\feature_class.py:134: RuntimeWarning: invalid value encountered in double_scalars\n",
      "  spec_centroid = np.sum(magnitudes*freqs) / sum_mag\n",
      "C:\\Users\\antre\\Documents\\mlp2_project\\src\\feature_class.py:167: RuntimeWarning: divide by zero encountered in double_scalars\n",
      "  SF = gmean/amean\n",
      "C:\\Users\\antre\\Documents\\mlp2_project\\src\\feature_class.py:218: RuntimeWarning: invalid value encountered in true_divide\n",
      "  return np.ones((1,1))*peak/RMS, ['Crest_Factor']\n",
      "C:\\Users\\antre\\Documents\\mlp2_project\\src\\feature_class.py:237: RuntimeWarning: invalid value encountered in double_scalars\n",
      "  feat.append(band_power/total_power)\n",
      "C:\\Users\\antre\\Documents\\mlp2_project\\src\\feature_class.py:237: RuntimeWarning: invalid value encountered in float_scalars\n",
      "  feat.append(band_power/total_power)\n",
      "C:\\Users\\antre\\Documents\\mlp2_project\\src\\segmentation.py:66: RuntimeWarning: divide by zero encountered in double_scalars\n",
      "  SNR = 0 if (RMS_signal==0 or np.isnan(RMS_noise)) else 20*np.log10(RMS_signal/RMS_noise)\n"
     ]
    },
    {
     "name": "stdout",
     "output_type": "stream",
     "text": [
      "Finished 12000/20072\n"
     ]
    },
    {
     "name": "stderr",
     "output_type": "stream",
     "text": [
      "C:\\Users\\antre\\Documents\\mlp2_project\\src\\segmentation.py:66: RuntimeWarning: divide by zero encountered in double_scalars\n",
      "  SNR = 0 if (RMS_signal==0 or np.isnan(RMS_noise)) else 20*np.log10(RMS_signal/RMS_noise)\n",
      "C:\\Users\\antre\\Documents\\mlp2_project\\src\\segmentation.py:66: RuntimeWarning: divide by zero encountered in double_scalars\n",
      "  SNR = 0 if (RMS_signal==0 or np.isnan(RMS_noise)) else 20*np.log10(RMS_signal/RMS_noise)\n",
      "C:\\Users\\antre\\Anaconda3\\envs\\coughvid_public\\lib\\site-packages\\numpy\\core\\fromnumeric.py:3372: RuntimeWarning: Mean of empty slice.\n",
      "  return _methods._mean(a, axis=axis, dtype=dtype,\n",
      "C:\\Users\\antre\\Anaconda3\\envs\\coughvid_public\\lib\\site-packages\\numpy\\core\\_methods.py:170: RuntimeWarning: invalid value encountered in double_scalars\n",
      "  ret = ret.dtype.type(ret / rcount)\n"
     ]
    },
    {
     "name": "stdout",
     "output_type": "stream",
     "text": [
      "Finished 12100/20072\n",
      "Finished 12200/20072\n"
     ]
    },
    {
     "name": "stderr",
     "output_type": "stream",
     "text": [
      "C:\\Users\\antre\\Documents\\mlp2_project\\src\\segmentation.py:66: RuntimeWarning: divide by zero encountered in double_scalars\n",
      "  SNR = 0 if (RMS_signal==0 or np.isnan(RMS_noise)) else 20*np.log10(RMS_signal/RMS_noise)\n"
     ]
    },
    {
     "name": "stdout",
     "output_type": "stream",
     "text": [
      "Finished 12300/20072\n"
     ]
    },
    {
     "name": "stderr",
     "output_type": "stream",
     "text": [
      "C:\\Users\\antre\\Anaconda3\\envs\\coughvid_public\\lib\\site-packages\\numpy\\core\\fromnumeric.py:3372: RuntimeWarning: Mean of empty slice.\n",
      "  return _methods._mean(a, axis=axis, dtype=dtype,\n",
      "C:\\Users\\antre\\Anaconda3\\envs\\coughvid_public\\lib\\site-packages\\numpy\\core\\_methods.py:170: RuntimeWarning: invalid value encountered in double_scalars\n",
      "  ret = ret.dtype.type(ret / rcount)\n",
      "C:\\Users\\antre\\Documents\\mlp2_project\\src\\segmentation.py:66: RuntimeWarning: divide by zero encountered in double_scalars\n",
      "  SNR = 0 if (RMS_signal==0 or np.isnan(RMS_noise)) else 20*np.log10(RMS_signal/RMS_noise)\n"
     ]
    },
    {
     "name": "stdout",
     "output_type": "stream",
     "text": [
      "Finished 12400/20072\n"
     ]
    },
    {
     "name": "stderr",
     "output_type": "stream",
     "text": [
      "C:\\Users\\antre\\Documents\\mlp2_project\\src\\segmentation.py:66: RuntimeWarning: divide by zero encountered in double_scalars\n",
      "  SNR = 0 if (RMS_signal==0 or np.isnan(RMS_noise)) else 20*np.log10(RMS_signal/RMS_noise)\n",
      "C:\\Users\\antre\\Documents\\mlp2_project\\src\\segmentation.py:66: RuntimeWarning: divide by zero encountered in double_scalars\n",
      "  SNR = 0 if (RMS_signal==0 or np.isnan(RMS_noise)) else 20*np.log10(RMS_signal/RMS_noise)\n",
      "C:\\Users\\antre\\Documents\\mlp2_project\\src\\segmentation.py:66: RuntimeWarning: divide by zero encountered in double_scalars\n",
      "  SNR = 0 if (RMS_signal==0 or np.isnan(RMS_noise)) else 20*np.log10(RMS_signal/RMS_noise)\n",
      "C:\\Users\\antre\\Documents\\mlp2_project\\src\\segmentation.py:66: RuntimeWarning: divide by zero encountered in double_scalars\n",
      "  SNR = 0 if (RMS_signal==0 or np.isnan(RMS_noise)) else 20*np.log10(RMS_signal/RMS_noise)\n",
      "C:\\Users\\antre\\Anaconda3\\envs\\coughvid_public\\lib\\site-packages\\numpy\\core\\fromnumeric.py:3372: RuntimeWarning: Mean of empty slice.\n",
      "  return _methods._mean(a, axis=axis, dtype=dtype,\n",
      "C:\\Users\\antre\\Anaconda3\\envs\\coughvid_public\\lib\\site-packages\\numpy\\core\\_methods.py:170: RuntimeWarning: invalid value encountered in double_scalars\n",
      "  ret = ret.dtype.type(ret / rcount)\n",
      "C:\\Users\\antre\\Documents\\mlp2_project\\src\\segmentation.py:66: RuntimeWarning: divide by zero encountered in double_scalars\n",
      "  SNR = 0 if (RMS_signal==0 or np.isnan(RMS_noise)) else 20*np.log10(RMS_signal/RMS_noise)\n",
      "C:\\Users\\antre\\Documents\\mlp2_project\\src\\segmentation.py:66: RuntimeWarning: divide by zero encountered in double_scalars\n",
      "  SNR = 0 if (RMS_signal==0 or np.isnan(RMS_noise)) else 20*np.log10(RMS_signal/RMS_noise)\n",
      "C:\\Users\\antre\\Documents\\mlp2_project\\src\\segmentation.py:66: RuntimeWarning: divide by zero encountered in double_scalars\n",
      "  SNR = 0 if (RMS_signal==0 or np.isnan(RMS_noise)) else 20*np.log10(RMS_signal/RMS_noise)\n"
     ]
    },
    {
     "name": "stdout",
     "output_type": "stream",
     "text": [
      "Finished 12500/20072\n"
     ]
    },
    {
     "name": "stderr",
     "output_type": "stream",
     "text": [
      "C:\\Users\\antre\\Documents\\mlp2_project\\src\\feature_class.py:134: RuntimeWarning: invalid value encountered in double_scalars\n",
      "  spec_centroid = np.sum(magnitudes*freqs) / sum_mag\n",
      "C:\\Users\\antre\\Documents\\mlp2_project\\src\\feature_class.py:167: RuntimeWarning: divide by zero encountered in double_scalars\n",
      "  SF = gmean/amean\n",
      "C:\\Users\\antre\\Documents\\mlp2_project\\src\\feature_class.py:218: RuntimeWarning: invalid value encountered in true_divide\n",
      "  return np.ones((1,1))*peak/RMS, ['Crest_Factor']\n",
      "C:\\Users\\antre\\Documents\\mlp2_project\\src\\feature_class.py:237: RuntimeWarning: invalid value encountered in double_scalars\n",
      "  feat.append(band_power/total_power)\n",
      "C:\\Users\\antre\\Documents\\mlp2_project\\src\\feature_class.py:237: RuntimeWarning: invalid value encountered in float_scalars\n",
      "  feat.append(band_power/total_power)\n",
      "C:\\Users\\antre\\Documents\\mlp2_project\\src\\segmentation.py:66: RuntimeWarning: divide by zero encountered in double_scalars\n",
      "  SNR = 0 if (RMS_signal==0 or np.isnan(RMS_noise)) else 20*np.log10(RMS_signal/RMS_noise)\n"
     ]
    },
    {
     "name": "stdout",
     "output_type": "stream",
     "text": [
      "Finished 12600/20072\n"
     ]
    },
    {
     "name": "stderr",
     "output_type": "stream",
     "text": [
      "C:\\Users\\antre\\Anaconda3\\envs\\coughvid_public\\lib\\site-packages\\numpy\\core\\fromnumeric.py:3372: RuntimeWarning: Mean of empty slice.\n",
      "  return _methods._mean(a, axis=axis, dtype=dtype,\n",
      "C:\\Users\\antre\\Anaconda3\\envs\\coughvid_public\\lib\\site-packages\\numpy\\core\\_methods.py:170: RuntimeWarning: invalid value encountered in double_scalars\n",
      "  ret = ret.dtype.type(ret / rcount)\n",
      "C:\\Users\\antre\\Anaconda3\\envs\\coughvid_public\\lib\\site-packages\\numpy\\core\\fromnumeric.py:3372: RuntimeWarning: Mean of empty slice.\n",
      "  return _methods._mean(a, axis=axis, dtype=dtype,\n",
      "C:\\Users\\antre\\Anaconda3\\envs\\coughvid_public\\lib\\site-packages\\numpy\\core\\_methods.py:170: RuntimeWarning: invalid value encountered in double_scalars\n",
      "  ret = ret.dtype.type(ret / rcount)\n",
      "C:\\Users\\antre\\Documents\\mlp2_project\\src\\segmentation.py:66: RuntimeWarning: divide by zero encountered in double_scalars\n",
      "  SNR = 0 if (RMS_signal==0 or np.isnan(RMS_noise)) else 20*np.log10(RMS_signal/RMS_noise)\n"
     ]
    },
    {
     "name": "stdout",
     "output_type": "stream",
     "text": [
      "Finished 12700/20072\n"
     ]
    },
    {
     "name": "stderr",
     "output_type": "stream",
     "text": [
      "C:\\Users\\antre\\Documents\\mlp2_project\\src\\segmentation.py:66: RuntimeWarning: divide by zero encountered in double_scalars\n",
      "  SNR = 0 if (RMS_signal==0 or np.isnan(RMS_noise)) else 20*np.log10(RMS_signal/RMS_noise)\n",
      "C:\\Users\\antre\\Documents\\mlp2_project\\src\\segmentation.py:66: RuntimeWarning: divide by zero encountered in double_scalars\n",
      "  SNR = 0 if (RMS_signal==0 or np.isnan(RMS_noise)) else 20*np.log10(RMS_signal/RMS_noise)\n"
     ]
    },
    {
     "name": "stdout",
     "output_type": "stream",
     "text": [
      "Finished 12800/20072\n"
     ]
    },
    {
     "name": "stderr",
     "output_type": "stream",
     "text": [
      "C:\\Users\\antre\\Documents\\mlp2_project\\src\\segmentation.py:66: RuntimeWarning: divide by zero encountered in double_scalars\n",
      "  SNR = 0 if (RMS_signal==0 or np.isnan(RMS_noise)) else 20*np.log10(RMS_signal/RMS_noise)\n",
      "C:\\Users\\antre\\Documents\\mlp2_project\\src\\segmentation.py:66: RuntimeWarning: divide by zero encountered in double_scalars\n",
      "  SNR = 0 if (RMS_signal==0 or np.isnan(RMS_noise)) else 20*np.log10(RMS_signal/RMS_noise)\n",
      "C:\\Users\\antre\\Documents\\mlp2_project\\src\\segmentation.py:66: RuntimeWarning: divide by zero encountered in double_scalars\n",
      "  SNR = 0 if (RMS_signal==0 or np.isnan(RMS_noise)) else 20*np.log10(RMS_signal/RMS_noise)\n",
      "C:\\Users\\antre\\Documents\\mlp2_project\\src\\segmentation.py:66: RuntimeWarning: divide by zero encountered in double_scalars\n",
      "  SNR = 0 if (RMS_signal==0 or np.isnan(RMS_noise)) else 20*np.log10(RMS_signal/RMS_noise)\n"
     ]
    },
    {
     "name": "stdout",
     "output_type": "stream",
     "text": [
      "Finished 12900/20072\n"
     ]
    },
    {
     "name": "stderr",
     "output_type": "stream",
     "text": [
      "C:\\Users\\antre\\Documents\\mlp2_project\\src\\segmentation.py:66: RuntimeWarning: divide by zero encountered in double_scalars\n",
      "  SNR = 0 if (RMS_signal==0 or np.isnan(RMS_noise)) else 20*np.log10(RMS_signal/RMS_noise)\n",
      "C:\\Users\\antre\\Anaconda3\\envs\\coughvid_public\\lib\\site-packages\\numpy\\core\\fromnumeric.py:3372: RuntimeWarning: Mean of empty slice.\n",
      "  return _methods._mean(a, axis=axis, dtype=dtype,\n",
      "C:\\Users\\antre\\Anaconda3\\envs\\coughvid_public\\lib\\site-packages\\numpy\\core\\_methods.py:170: RuntimeWarning: invalid value encountered in double_scalars\n",
      "  ret = ret.dtype.type(ret / rcount)\n",
      "C:\\Users\\antre\\Documents\\mlp2_project\\src\\segmentation.py:66: RuntimeWarning: divide by zero encountered in double_scalars\n",
      "  SNR = 0 if (RMS_signal==0 or np.isnan(RMS_noise)) else 20*np.log10(RMS_signal/RMS_noise)\n",
      "C:\\Users\\antre\\Anaconda3\\envs\\coughvid_public\\lib\\site-packages\\numpy\\core\\fromnumeric.py:3372: RuntimeWarning: Mean of empty slice.\n",
      "  return _methods._mean(a, axis=axis, dtype=dtype,\n",
      "C:\\Users\\antre\\Anaconda3\\envs\\coughvid_public\\lib\\site-packages\\numpy\\core\\_methods.py:170: RuntimeWarning: invalid value encountered in double_scalars\n",
      "  ret = ret.dtype.type(ret / rcount)\n",
      "C:\\Users\\antre\\Anaconda3\\envs\\coughvid_public\\lib\\site-packages\\numpy\\core\\fromnumeric.py:3372: RuntimeWarning: Mean of empty slice.\n",
      "  return _methods._mean(a, axis=axis, dtype=dtype,\n",
      "C:\\Users\\antre\\Anaconda3\\envs\\coughvid_public\\lib\\site-packages\\numpy\\core\\_methods.py:170: RuntimeWarning: invalid value encountered in double_scalars\n",
      "  ret = ret.dtype.type(ret / rcount)\n"
     ]
    },
    {
     "name": "stdout",
     "output_type": "stream",
     "text": [
      "Finished 13000/20072\n"
     ]
    },
    {
     "name": "stderr",
     "output_type": "stream",
     "text": [
      "C:\\Users\\antre\\Documents\\mlp2_project\\src\\segmentation.py:66: RuntimeWarning: divide by zero encountered in double_scalars\n",
      "  SNR = 0 if (RMS_signal==0 or np.isnan(RMS_noise)) else 20*np.log10(RMS_signal/RMS_noise)\n",
      "C:\\Users\\antre\\Anaconda3\\envs\\coughvid_public\\lib\\site-packages\\numpy\\core\\fromnumeric.py:3372: RuntimeWarning: Mean of empty slice.\n",
      "  return _methods._mean(a, axis=axis, dtype=dtype,\n",
      "C:\\Users\\antre\\Anaconda3\\envs\\coughvid_public\\lib\\site-packages\\numpy\\core\\_methods.py:170: RuntimeWarning: invalid value encountered in double_scalars\n",
      "  ret = ret.dtype.type(ret / rcount)\n"
     ]
    },
    {
     "name": "stdout",
     "output_type": "stream",
     "text": [
      "Finished 13100/20072\n"
     ]
    },
    {
     "name": "stderr",
     "output_type": "stream",
     "text": [
      "C:\\Users\\antre\\Anaconda3\\envs\\coughvid_public\\lib\\site-packages\\numpy\\core\\fromnumeric.py:3372: RuntimeWarning: Mean of empty slice.\n",
      "  return _methods._mean(a, axis=axis, dtype=dtype,\n",
      "C:\\Users\\antre\\Anaconda3\\envs\\coughvid_public\\lib\\site-packages\\numpy\\core\\_methods.py:170: RuntimeWarning: invalid value encountered in double_scalars\n",
      "  ret = ret.dtype.type(ret / rcount)\n",
      "C:\\Users\\antre\\Documents\\mlp2_project\\src\\segmentation.py:66: RuntimeWarning: divide by zero encountered in double_scalars\n",
      "  SNR = 0 if (RMS_signal==0 or np.isnan(RMS_noise)) else 20*np.log10(RMS_signal/RMS_noise)\n",
      "C:\\Users\\antre\\Documents\\mlp2_project\\src\\segmentation.py:66: RuntimeWarning: divide by zero encountered in double_scalars\n",
      "  SNR = 0 if (RMS_signal==0 or np.isnan(RMS_noise)) else 20*np.log10(RMS_signal/RMS_noise)\n",
      "C:\\Users\\antre\\Anaconda3\\envs\\coughvid_public\\lib\\site-packages\\numpy\\core\\fromnumeric.py:3372: RuntimeWarning: Mean of empty slice.\n",
      "  return _methods._mean(a, axis=axis, dtype=dtype,\n",
      "C:\\Users\\antre\\Anaconda3\\envs\\coughvid_public\\lib\\site-packages\\numpy\\core\\_methods.py:170: RuntimeWarning: invalid value encountered in double_scalars\n",
      "  ret = ret.dtype.type(ret / rcount)\n",
      "C:\\Users\\antre\\Documents\\mlp2_project\\src\\segmentation.py:66: RuntimeWarning: divide by zero encountered in double_scalars\n",
      "  SNR = 0 if (RMS_signal==0 or np.isnan(RMS_noise)) else 20*np.log10(RMS_signal/RMS_noise)\n"
     ]
    },
    {
     "name": "stdout",
     "output_type": "stream",
     "text": [
      "Finished 13200/20072\n"
     ]
    },
    {
     "name": "stderr",
     "output_type": "stream",
     "text": [
      "C:\\Users\\antre\\Documents\\mlp2_project\\src\\segmentation.py:66: RuntimeWarning: divide by zero encountered in double_scalars\n",
      "  SNR = 0 if (RMS_signal==0 or np.isnan(RMS_noise)) else 20*np.log10(RMS_signal/RMS_noise)\n",
      "C:\\Users\\antre\\Documents\\mlp2_project\\src\\segmentation.py:66: RuntimeWarning: divide by zero encountered in double_scalars\n",
      "  SNR = 0 if (RMS_signal==0 or np.isnan(RMS_noise)) else 20*np.log10(RMS_signal/RMS_noise)\n",
      "C:\\Users\\antre\\Documents\\mlp2_project\\src\\segmentation.py:66: RuntimeWarning: divide by zero encountered in double_scalars\n",
      "  SNR = 0 if (RMS_signal==0 or np.isnan(RMS_noise)) else 20*np.log10(RMS_signal/RMS_noise)\n"
     ]
    },
    {
     "name": "stdout",
     "output_type": "stream",
     "text": [
      "Finished 13300/20072\n"
     ]
    },
    {
     "name": "stderr",
     "output_type": "stream",
     "text": [
      "C:\\Users\\antre\\Documents\\mlp2_project\\src\\segmentation.py:66: RuntimeWarning: divide by zero encountered in double_scalars\n",
      "  SNR = 0 if (RMS_signal==0 or np.isnan(RMS_noise)) else 20*np.log10(RMS_signal/RMS_noise)\n",
      "C:\\Users\\antre\\Documents\\mlp2_project\\src\\segmentation.py:66: RuntimeWarning: divide by zero encountered in double_scalars\n",
      "  SNR = 0 if (RMS_signal==0 or np.isnan(RMS_noise)) else 20*np.log10(RMS_signal/RMS_noise)\n",
      "C:\\Users\\antre\\Documents\\mlp2_project\\src\\segmentation.py:66: RuntimeWarning: divide by zero encountered in double_scalars\n",
      "  SNR = 0 if (RMS_signal==0 or np.isnan(RMS_noise)) else 20*np.log10(RMS_signal/RMS_noise)\n"
     ]
    },
    {
     "name": "stdout",
     "output_type": "stream",
     "text": [
      "Finished 13400/20072\n"
     ]
    },
    {
     "name": "stderr",
     "output_type": "stream",
     "text": [
      "C:\\Users\\antre\\Documents\\mlp2_project\\src\\segmentation.py:66: RuntimeWarning: divide by zero encountered in double_scalars\n",
      "  SNR = 0 if (RMS_signal==0 or np.isnan(RMS_noise)) else 20*np.log10(RMS_signal/RMS_noise)\n",
      "C:\\Users\\antre\\Anaconda3\\envs\\coughvid_public\\lib\\site-packages\\numpy\\core\\fromnumeric.py:3372: RuntimeWarning: Mean of empty slice.\n",
      "  return _methods._mean(a, axis=axis, dtype=dtype,\n",
      "C:\\Users\\antre\\Anaconda3\\envs\\coughvid_public\\lib\\site-packages\\numpy\\core\\_methods.py:170: RuntimeWarning: invalid value encountered in double_scalars\n",
      "  ret = ret.dtype.type(ret / rcount)\n",
      "C:\\Users\\antre\\Anaconda3\\envs\\coughvid_public\\lib\\site-packages\\numpy\\core\\fromnumeric.py:3372: RuntimeWarning: Mean of empty slice.\n",
      "  return _methods._mean(a, axis=axis, dtype=dtype,\n",
      "C:\\Users\\antre\\Anaconda3\\envs\\coughvid_public\\lib\\site-packages\\numpy\\core\\_methods.py:170: RuntimeWarning: invalid value encountered in double_scalars\n",
      "  ret = ret.dtype.type(ret / rcount)\n",
      "C:\\Users\\antre\\Documents\\mlp2_project\\src\\segmentation.py:66: RuntimeWarning: divide by zero encountered in double_scalars\n",
      "  SNR = 0 if (RMS_signal==0 or np.isnan(RMS_noise)) else 20*np.log10(RMS_signal/RMS_noise)\n",
      "C:\\Users\\antre\\Documents\\mlp2_project\\src\\feature_class.py:134: RuntimeWarning: invalid value encountered in double_scalars\n",
      "  spec_centroid = np.sum(magnitudes*freqs) / sum_mag\n",
      "C:\\Users\\antre\\Documents\\mlp2_project\\src\\feature_class.py:167: RuntimeWarning: divide by zero encountered in double_scalars\n",
      "  SF = gmean/amean\n",
      "C:\\Users\\antre\\Documents\\mlp2_project\\src\\feature_class.py:218: RuntimeWarning: invalid value encountered in true_divide\n",
      "  return np.ones((1,1))*peak/RMS, ['Crest_Factor']\n",
      "C:\\Users\\antre\\Documents\\mlp2_project\\src\\feature_class.py:237: RuntimeWarning: invalid value encountered in double_scalars\n",
      "  feat.append(band_power/total_power)\n",
      "C:\\Users\\antre\\Documents\\mlp2_project\\src\\feature_class.py:237: RuntimeWarning: invalid value encountered in float_scalars\n",
      "  feat.append(band_power/total_power)\n",
      "C:\\Users\\antre\\Documents\\mlp2_project\\src\\segmentation.py:66: RuntimeWarning: divide by zero encountered in double_scalars\n",
      "  SNR = 0 if (RMS_signal==0 or np.isnan(RMS_noise)) else 20*np.log10(RMS_signal/RMS_noise)\n"
     ]
    },
    {
     "name": "stdout",
     "output_type": "stream",
     "text": [
      "Finished 13500/20072\n"
     ]
    },
    {
     "name": "stderr",
     "output_type": "stream",
     "text": [
      "C:\\Users\\antre\\Documents\\mlp2_project\\src\\segmentation.py:66: RuntimeWarning: divide by zero encountered in double_scalars\n",
      "  SNR = 0 if (RMS_signal==0 or np.isnan(RMS_noise)) else 20*np.log10(RMS_signal/RMS_noise)\n",
      "C:\\Users\\antre\\Documents\\mlp2_project\\src\\segmentation.py:66: RuntimeWarning: divide by zero encountered in double_scalars\n",
      "  SNR = 0 if (RMS_signal==0 or np.isnan(RMS_noise)) else 20*np.log10(RMS_signal/RMS_noise)\n"
     ]
    },
    {
     "name": "stdout",
     "output_type": "stream",
     "text": [
      "Finished 13600/20072\n"
     ]
    },
    {
     "name": "stderr",
     "output_type": "stream",
     "text": [
      "C:\\Users\\antre\\Documents\\mlp2_project\\src\\segmentation.py:66: RuntimeWarning: divide by zero encountered in double_scalars\n",
      "  SNR = 0 if (RMS_signal==0 or np.isnan(RMS_noise)) else 20*np.log10(RMS_signal/RMS_noise)\n",
      "C:\\Users\\antre\\Documents\\mlp2_project\\src\\segmentation.py:66: RuntimeWarning: divide by zero encountered in double_scalars\n",
      "  SNR = 0 if (RMS_signal==0 or np.isnan(RMS_noise)) else 20*np.log10(RMS_signal/RMS_noise)\n",
      "C:\\Users\\antre\\Anaconda3\\envs\\coughvid_public\\lib\\site-packages\\numpy\\core\\fromnumeric.py:3372: RuntimeWarning: Mean of empty slice.\n",
      "  return _methods._mean(a, axis=axis, dtype=dtype,\n",
      "C:\\Users\\antre\\Anaconda3\\envs\\coughvid_public\\lib\\site-packages\\numpy\\core\\_methods.py:170: RuntimeWarning: invalid value encountered in double_scalars\n",
      "  ret = ret.dtype.type(ret / rcount)\n"
     ]
    },
    {
     "name": "stdout",
     "output_type": "stream",
     "text": [
      "Finished 13700/20072\n",
      "Finished 13800/20072\n"
     ]
    },
    {
     "name": "stderr",
     "output_type": "stream",
     "text": [
      "C:\\Users\\antre\\Anaconda3\\envs\\coughvid_public\\lib\\site-packages\\numpy\\core\\fromnumeric.py:3372: RuntimeWarning: Mean of empty slice.\n",
      "  return _methods._mean(a, axis=axis, dtype=dtype,\n",
      "C:\\Users\\antre\\Anaconda3\\envs\\coughvid_public\\lib\\site-packages\\numpy\\core\\_methods.py:170: RuntimeWarning: invalid value encountered in double_scalars\n",
      "  ret = ret.dtype.type(ret / rcount)\n",
      "C:\\Users\\antre\\Documents\\mlp2_project\\src\\segmentation.py:66: RuntimeWarning: divide by zero encountered in double_scalars\n",
      "  SNR = 0 if (RMS_signal==0 or np.isnan(RMS_noise)) else 20*np.log10(RMS_signal/RMS_noise)\n",
      "C:\\Users\\antre\\Documents\\mlp2_project\\src\\segmentation.py:66: RuntimeWarning: divide by zero encountered in double_scalars\n",
      "  SNR = 0 if (RMS_signal==0 or np.isnan(RMS_noise)) else 20*np.log10(RMS_signal/RMS_noise)\n",
      "C:\\Users\\antre\\Documents\\mlp2_project\\src\\segmentation.py:66: RuntimeWarning: divide by zero encountered in double_scalars\n",
      "  SNR = 0 if (RMS_signal==0 or np.isnan(RMS_noise)) else 20*np.log10(RMS_signal/RMS_noise)\n",
      "C:\\Users\\antre\\Documents\\mlp2_project\\src\\segmentation.py:66: RuntimeWarning: divide by zero encountered in double_scalars\n",
      "  SNR = 0 if (RMS_signal==0 or np.isnan(RMS_noise)) else 20*np.log10(RMS_signal/RMS_noise)\n",
      "C:\\Users\\antre\\Documents\\mlp2_project\\src\\segmentation.py:66: RuntimeWarning: divide by zero encountered in double_scalars\n",
      "  SNR = 0 if (RMS_signal==0 or np.isnan(RMS_noise)) else 20*np.log10(RMS_signal/RMS_noise)\n",
      "C:\\Users\\antre\\Documents\\mlp2_project\\src\\segmentation.py:66: RuntimeWarning: divide by zero encountered in double_scalars\n",
      "  SNR = 0 if (RMS_signal==0 or np.isnan(RMS_noise)) else 20*np.log10(RMS_signal/RMS_noise)\n"
     ]
    },
    {
     "name": "stdout",
     "output_type": "stream",
     "text": [
      "Finished 13900/20072\n"
     ]
    },
    {
     "name": "stderr",
     "output_type": "stream",
     "text": [
      "C:\\Users\\antre\\Documents\\mlp2_project\\src\\segmentation.py:66: RuntimeWarning: divide by zero encountered in double_scalars\n",
      "  SNR = 0 if (RMS_signal==0 or np.isnan(RMS_noise)) else 20*np.log10(RMS_signal/RMS_noise)\n",
      "C:\\Users\\antre\\Documents\\mlp2_project\\src\\segmentation.py:66: RuntimeWarning: divide by zero encountered in double_scalars\n",
      "  SNR = 0 if (RMS_signal==0 or np.isnan(RMS_noise)) else 20*np.log10(RMS_signal/RMS_noise)\n"
     ]
    },
    {
     "name": "stdout",
     "output_type": "stream",
     "text": [
      "Finished 14000/20072\n"
     ]
    },
    {
     "name": "stderr",
     "output_type": "stream",
     "text": [
      "C:\\Users\\antre\\Documents\\mlp2_project\\src\\segmentation.py:66: RuntimeWarning: divide by zero encountered in double_scalars\n",
      "  SNR = 0 if (RMS_signal==0 or np.isnan(RMS_noise)) else 20*np.log10(RMS_signal/RMS_noise)\n",
      "C:\\Users\\antre\\Documents\\mlp2_project\\src\\segmentation.py:66: RuntimeWarning: divide by zero encountered in double_scalars\n",
      "  SNR = 0 if (RMS_signal==0 or np.isnan(RMS_noise)) else 20*np.log10(RMS_signal/RMS_noise)\n"
     ]
    },
    {
     "name": "stdout",
     "output_type": "stream",
     "text": [
      "Finished 14100/20072\n"
     ]
    },
    {
     "name": "stderr",
     "output_type": "stream",
     "text": [
      "C:\\Users\\antre\\Documents\\mlp2_project\\src\\segmentation.py:66: RuntimeWarning: divide by zero encountered in double_scalars\n",
      "  SNR = 0 if (RMS_signal==0 or np.isnan(RMS_noise)) else 20*np.log10(RMS_signal/RMS_noise)\n",
      "C:\\Users\\antre\\Anaconda3\\envs\\coughvid_public\\lib\\site-packages\\numpy\\core\\fromnumeric.py:3372: RuntimeWarning: Mean of empty slice.\n",
      "  return _methods._mean(a, axis=axis, dtype=dtype,\n",
      "C:\\Users\\antre\\Anaconda3\\envs\\coughvid_public\\lib\\site-packages\\numpy\\core\\_methods.py:170: RuntimeWarning: invalid value encountered in double_scalars\n",
      "  ret = ret.dtype.type(ret / rcount)\n"
     ]
    },
    {
     "name": "stdout",
     "output_type": "stream",
     "text": [
      "Finished 14200/20072\n"
     ]
    },
    {
     "name": "stderr",
     "output_type": "stream",
     "text": [
      "C:\\Users\\antre\\Documents\\mlp2_project\\src\\segmentation.py:66: RuntimeWarning: divide by zero encountered in double_scalars\n",
      "  SNR = 0 if (RMS_signal==0 or np.isnan(RMS_noise)) else 20*np.log10(RMS_signal/RMS_noise)\n",
      "C:\\Users\\antre\\Documents\\mlp2_project\\src\\segmentation.py:66: RuntimeWarning: divide by zero encountered in double_scalars\n",
      "  SNR = 0 if (RMS_signal==0 or np.isnan(RMS_noise)) else 20*np.log10(RMS_signal/RMS_noise)\n",
      "C:\\Users\\antre\\Documents\\mlp2_project\\src\\segmentation.py:66: RuntimeWarning: divide by zero encountered in double_scalars\n",
      "  SNR = 0 if (RMS_signal==0 or np.isnan(RMS_noise)) else 20*np.log10(RMS_signal/RMS_noise)\n"
     ]
    },
    {
     "name": "stdout",
     "output_type": "stream",
     "text": [
      "Finished 14300/20072\n"
     ]
    },
    {
     "name": "stderr",
     "output_type": "stream",
     "text": [
      "C:\\Users\\antre\\Documents\\mlp2_project\\src\\segmentation.py:66: RuntimeWarning: divide by zero encountered in double_scalars\n",
      "  SNR = 0 if (RMS_signal==0 or np.isnan(RMS_noise)) else 20*np.log10(RMS_signal/RMS_noise)\n",
      "C:\\Users\\antre\\Documents\\mlp2_project\\src\\segmentation.py:66: RuntimeWarning: divide by zero encountered in double_scalars\n",
      "  SNR = 0 if (RMS_signal==0 or np.isnan(RMS_noise)) else 20*np.log10(RMS_signal/RMS_noise)\n",
      "C:\\Users\\antre\\Anaconda3\\envs\\coughvid_public\\lib\\site-packages\\numpy\\core\\fromnumeric.py:3372: RuntimeWarning: Mean of empty slice.\n",
      "  return _methods._mean(a, axis=axis, dtype=dtype,\n",
      "C:\\Users\\antre\\Anaconda3\\envs\\coughvid_public\\lib\\site-packages\\numpy\\core\\_methods.py:170: RuntimeWarning: invalid value encountered in double_scalars\n",
      "  ret = ret.dtype.type(ret / rcount)\n"
     ]
    },
    {
     "name": "stdout",
     "output_type": "stream",
     "text": [
      "Finished 14400/20072\n"
     ]
    },
    {
     "name": "stderr",
     "output_type": "stream",
     "text": [
      "C:\\Users\\antre\\Documents\\mlp2_project\\src\\segmentation.py:66: RuntimeWarning: divide by zero encountered in double_scalars\n",
      "  SNR = 0 if (RMS_signal==0 or np.isnan(RMS_noise)) else 20*np.log10(RMS_signal/RMS_noise)\n",
      "C:\\Users\\antre\\Documents\\mlp2_project\\src\\segmentation.py:65: RuntimeWarning: invalid value encountered in sqrt\n",
      "  RMS_noise = np.sqrt(np.mean(np.square(x[~cough_mask])))\n"
     ]
    },
    {
     "name": "stdout",
     "output_type": "stream",
     "text": [
      "Finished 14500/20072\n"
     ]
    },
    {
     "name": "stderr",
     "output_type": "stream",
     "text": [
      "C:\\Users\\antre\\Documents\\mlp2_project\\src\\segmentation.py:65: RuntimeWarning: invalid value encountered in sqrt\n",
      "  RMS_noise = np.sqrt(np.mean(np.square(x[~cough_mask])))\n",
      "C:\\Users\\antre\\Anaconda3\\envs\\coughvid_public\\lib\\site-packages\\numpy\\core\\fromnumeric.py:3372: RuntimeWarning: Mean of empty slice.\n",
      "  return _methods._mean(a, axis=axis, dtype=dtype,\n",
      "C:\\Users\\antre\\Anaconda3\\envs\\coughvid_public\\lib\\site-packages\\numpy\\core\\_methods.py:170: RuntimeWarning: invalid value encountered in double_scalars\n",
      "  ret = ret.dtype.type(ret / rcount)\n",
      "C:\\Users\\antre\\Documents\\mlp2_project\\src\\segmentation.py:66: RuntimeWarning: divide by zero encountered in double_scalars\n",
      "  SNR = 0 if (RMS_signal==0 or np.isnan(RMS_noise)) else 20*np.log10(RMS_signal/RMS_noise)\n",
      "C:\\Users\\antre\\Documents\\mlp2_project\\src\\segmentation.py:66: RuntimeWarning: divide by zero encountered in double_scalars\n",
      "  SNR = 0 if (RMS_signal==0 or np.isnan(RMS_noise)) else 20*np.log10(RMS_signal/RMS_noise)\n",
      "C:\\Users\\antre\\Documents\\mlp2_project\\src\\segmentation.py:66: RuntimeWarning: divide by zero encountered in double_scalars\n",
      "  SNR = 0 if (RMS_signal==0 or np.isnan(RMS_noise)) else 20*np.log10(RMS_signal/RMS_noise)\n"
     ]
    },
    {
     "name": "stdout",
     "output_type": "stream",
     "text": [
      "Finished 14600/20072\n"
     ]
    },
    {
     "name": "stderr",
     "output_type": "stream",
     "text": [
      "C:\\Users\\antre\\Documents\\mlp2_project\\src\\feature_class.py:134: RuntimeWarning: invalid value encountered in double_scalars\n",
      "  spec_centroid = np.sum(magnitudes*freqs) / sum_mag\n",
      "C:\\Users\\antre\\Documents\\mlp2_project\\src\\feature_class.py:167: RuntimeWarning: divide by zero encountered in double_scalars\n",
      "  SF = gmean/amean\n",
      "C:\\Users\\antre\\Documents\\mlp2_project\\src\\feature_class.py:218: RuntimeWarning: invalid value encountered in true_divide\n",
      "  return np.ones((1,1))*peak/RMS, ['Crest_Factor']\n",
      "C:\\Users\\antre\\Documents\\mlp2_project\\src\\feature_class.py:237: RuntimeWarning: invalid value encountered in double_scalars\n",
      "  feat.append(band_power/total_power)\n",
      "C:\\Users\\antre\\Documents\\mlp2_project\\src\\feature_class.py:237: RuntimeWarning: invalid value encountered in float_scalars\n",
      "  feat.append(band_power/total_power)\n"
     ]
    },
    {
     "name": "stdout",
     "output_type": "stream",
     "text": [
      "Finished 14700/20072\n"
     ]
    },
    {
     "name": "stderr",
     "output_type": "stream",
     "text": [
      "C:\\Users\\antre\\Documents\\mlp2_project\\src\\segmentation.py:66: RuntimeWarning: divide by zero encountered in double_scalars\n",
      "  SNR = 0 if (RMS_signal==0 or np.isnan(RMS_noise)) else 20*np.log10(RMS_signal/RMS_noise)\n",
      "C:\\Users\\antre\\Documents\\mlp2_project\\src\\segmentation.py:66: RuntimeWarning: divide by zero encountered in double_scalars\n",
      "  SNR = 0 if (RMS_signal==0 or np.isnan(RMS_noise)) else 20*np.log10(RMS_signal/RMS_noise)\n",
      "C:\\Users\\antre\\Anaconda3\\envs\\coughvid_public\\lib\\site-packages\\numpy\\core\\fromnumeric.py:3372: RuntimeWarning: Mean of empty slice.\n",
      "  return _methods._mean(a, axis=axis, dtype=dtype,\n",
      "C:\\Users\\antre\\Anaconda3\\envs\\coughvid_public\\lib\\site-packages\\numpy\\core\\_methods.py:170: RuntimeWarning: invalid value encountered in double_scalars\n",
      "  ret = ret.dtype.type(ret / rcount)\n",
      "C:\\Users\\antre\\Documents\\mlp2_project\\src\\segmentation.py:66: RuntimeWarning: divide by zero encountered in double_scalars\n",
      "  SNR = 0 if (RMS_signal==0 or np.isnan(RMS_noise)) else 20*np.log10(RMS_signal/RMS_noise)\n",
      "C:\\Users\\antre\\Documents\\mlp2_project\\src\\feature_class.py:134: RuntimeWarning: invalid value encountered in double_scalars\n",
      "  spec_centroid = np.sum(magnitudes*freqs) / sum_mag\n",
      "C:\\Users\\antre\\Documents\\mlp2_project\\src\\feature_class.py:167: RuntimeWarning: divide by zero encountered in double_scalars\n",
      "  SF = gmean/amean\n",
      "C:\\Users\\antre\\Documents\\mlp2_project\\src\\feature_class.py:218: RuntimeWarning: invalid value encountered in true_divide\n",
      "  return np.ones((1,1))*peak/RMS, ['Crest_Factor']\n",
      "C:\\Users\\antre\\Documents\\mlp2_project\\src\\feature_class.py:237: RuntimeWarning: invalid value encountered in double_scalars\n",
      "  feat.append(band_power/total_power)\n",
      "C:\\Users\\antre\\Documents\\mlp2_project\\src\\feature_class.py:237: RuntimeWarning: invalid value encountered in float_scalars\n",
      "  feat.append(band_power/total_power)\n",
      "C:\\Users\\antre\\Documents\\mlp2_project\\src\\segmentation.py:66: RuntimeWarning: divide by zero encountered in double_scalars\n",
      "  SNR = 0 if (RMS_signal==0 or np.isnan(RMS_noise)) else 20*np.log10(RMS_signal/RMS_noise)\n",
      "C:\\Users\\antre\\Documents\\mlp2_project\\src\\segmentation.py:66: RuntimeWarning: divide by zero encountered in double_scalars\n",
      "  SNR = 0 if (RMS_signal==0 or np.isnan(RMS_noise)) else 20*np.log10(RMS_signal/RMS_noise)\n"
     ]
    },
    {
     "name": "stdout",
     "output_type": "stream",
     "text": [
      "Finished 14800/20072\n"
     ]
    },
    {
     "name": "stderr",
     "output_type": "stream",
     "text": [
      "C:\\Users\\antre\\Documents\\mlp2_project\\src\\segmentation.py:66: RuntimeWarning: divide by zero encountered in double_scalars\n",
      "  SNR = 0 if (RMS_signal==0 or np.isnan(RMS_noise)) else 20*np.log10(RMS_signal/RMS_noise)\n",
      "C:\\Users\\antre\\Documents\\mlp2_project\\src\\segmentation.py:66: RuntimeWarning: divide by zero encountered in double_scalars\n",
      "  SNR = 0 if (RMS_signal==0 or np.isnan(RMS_noise)) else 20*np.log10(RMS_signal/RMS_noise)\n",
      "C:\\Users\\antre\\Documents\\mlp2_project\\src\\segmentation.py:66: RuntimeWarning: divide by zero encountered in double_scalars\n",
      "  SNR = 0 if (RMS_signal==0 or np.isnan(RMS_noise)) else 20*np.log10(RMS_signal/RMS_noise)\n",
      "C:\\Users\\antre\\Anaconda3\\envs\\coughvid_public\\lib\\site-packages\\numpy\\core\\fromnumeric.py:3372: RuntimeWarning: Mean of empty slice.\n",
      "  return _methods._mean(a, axis=axis, dtype=dtype,\n",
      "C:\\Users\\antre\\Anaconda3\\envs\\coughvid_public\\lib\\site-packages\\numpy\\core\\_methods.py:170: RuntimeWarning: invalid value encountered in double_scalars\n",
      "  ret = ret.dtype.type(ret / rcount)\n",
      "C:\\Users\\antre\\Documents\\mlp2_project\\src\\segmentation.py:66: RuntimeWarning: divide by zero encountered in double_scalars\n",
      "  SNR = 0 if (RMS_signal==0 or np.isnan(RMS_noise)) else 20*np.log10(RMS_signal/RMS_noise)\n"
     ]
    },
    {
     "name": "stdout",
     "output_type": "stream",
     "text": [
      "Finished 14900/20072\n"
     ]
    },
    {
     "name": "stderr",
     "output_type": "stream",
     "text": [
      "C:\\Users\\antre\\Documents\\mlp2_project\\src\\segmentation.py:66: RuntimeWarning: divide by zero encountered in double_scalars\n",
      "  SNR = 0 if (RMS_signal==0 or np.isnan(RMS_noise)) else 20*np.log10(RMS_signal/RMS_noise)\n",
      "C:\\Users\\antre\\Documents\\mlp2_project\\src\\segmentation.py:66: RuntimeWarning: divide by zero encountered in double_scalars\n",
      "  SNR = 0 if (RMS_signal==0 or np.isnan(RMS_noise)) else 20*np.log10(RMS_signal/RMS_noise)\n",
      "C:\\Users\\antre\\Documents\\mlp2_project\\src\\segmentation.py:66: RuntimeWarning: divide by zero encountered in double_scalars\n",
      "  SNR = 0 if (RMS_signal==0 or np.isnan(RMS_noise)) else 20*np.log10(RMS_signal/RMS_noise)\n"
     ]
    },
    {
     "name": "stdout",
     "output_type": "stream",
     "text": [
      "Finished 15000/20072\n"
     ]
    },
    {
     "name": "stderr",
     "output_type": "stream",
     "text": [
      "C:\\Users\\antre\\Documents\\mlp2_project\\src\\segmentation.py:66: RuntimeWarning: divide by zero encountered in double_scalars\n",
      "  SNR = 0 if (RMS_signal==0 or np.isnan(RMS_noise)) else 20*np.log10(RMS_signal/RMS_noise)\n",
      "C:\\Users\\antre\\Anaconda3\\envs\\coughvid_public\\lib\\site-packages\\numpy\\core\\fromnumeric.py:3372: RuntimeWarning: Mean of empty slice.\n",
      "  return _methods._mean(a, axis=axis, dtype=dtype,\n",
      "C:\\Users\\antre\\Anaconda3\\envs\\coughvid_public\\lib\\site-packages\\numpy\\core\\_methods.py:170: RuntimeWarning: invalid value encountered in double_scalars\n",
      "  ret = ret.dtype.type(ret / rcount)\n",
      "C:\\Users\\antre\\Documents\\mlp2_project\\src\\segmentation.py:66: RuntimeWarning: divide by zero encountered in double_scalars\n",
      "  SNR = 0 if (RMS_signal==0 or np.isnan(RMS_noise)) else 20*np.log10(RMS_signal/RMS_noise)\n",
      "C:\\Users\\antre\\Documents\\mlp2_project\\src\\segmentation.py:66: RuntimeWarning: divide by zero encountered in double_scalars\n",
      "  SNR = 0 if (RMS_signal==0 or np.isnan(RMS_noise)) else 20*np.log10(RMS_signal/RMS_noise)\n"
     ]
    },
    {
     "name": "stdout",
     "output_type": "stream",
     "text": [
      "Finished 15100/20072\n"
     ]
    },
    {
     "name": "stderr",
     "output_type": "stream",
     "text": [
      "C:\\Users\\antre\\Documents\\mlp2_project\\src\\segmentation.py:66: RuntimeWarning: divide by zero encountered in double_scalars\n",
      "  SNR = 0 if (RMS_signal==0 or np.isnan(RMS_noise)) else 20*np.log10(RMS_signal/RMS_noise)\n"
     ]
    },
    {
     "name": "stdout",
     "output_type": "stream",
     "text": [
      "Finished 15200/20072\n"
     ]
    },
    {
     "name": "stderr",
     "output_type": "stream",
     "text": [
      "C:\\Users\\antre\\Documents\\mlp2_project\\src\\segmentation.py:66: RuntimeWarning: divide by zero encountered in double_scalars\n",
      "  SNR = 0 if (RMS_signal==0 or np.isnan(RMS_noise)) else 20*np.log10(RMS_signal/RMS_noise)\n",
      "C:\\Users\\antre\\Documents\\mlp2_project\\src\\segmentation.py:66: RuntimeWarning: divide by zero encountered in double_scalars\n",
      "  SNR = 0 if (RMS_signal==0 or np.isnan(RMS_noise)) else 20*np.log10(RMS_signal/RMS_noise)\n",
      "C:\\Users\\antre\\Anaconda3\\envs\\coughvid_public\\lib\\site-packages\\numpy\\core\\fromnumeric.py:3372: RuntimeWarning: Mean of empty slice.\n",
      "  return _methods._mean(a, axis=axis, dtype=dtype,\n",
      "C:\\Users\\antre\\Anaconda3\\envs\\coughvid_public\\lib\\site-packages\\numpy\\core\\_methods.py:170: RuntimeWarning: invalid value encountered in double_scalars\n",
      "  ret = ret.dtype.type(ret / rcount)\n",
      "C:\\Users\\antre\\Documents\\mlp2_project\\src\\segmentation.py:66: RuntimeWarning: divide by zero encountered in double_scalars\n",
      "  SNR = 0 if (RMS_signal==0 or np.isnan(RMS_noise)) else 20*np.log10(RMS_signal/RMS_noise)\n",
      "C:\\Users\\antre\\Documents\\mlp2_project\\src\\segmentation.py:66: RuntimeWarning: divide by zero encountered in double_scalars\n",
      "  SNR = 0 if (RMS_signal==0 or np.isnan(RMS_noise)) else 20*np.log10(RMS_signal/RMS_noise)\n"
     ]
    },
    {
     "name": "stdout",
     "output_type": "stream",
     "text": [
      "Finished 15300/20072\n"
     ]
    },
    {
     "name": "stderr",
     "output_type": "stream",
     "text": [
      "C:\\Users\\antre\\Anaconda3\\envs\\coughvid_public\\lib\\site-packages\\numpy\\core\\fromnumeric.py:3372: RuntimeWarning: Mean of empty slice.\n",
      "  return _methods._mean(a, axis=axis, dtype=dtype,\n",
      "C:\\Users\\antre\\Anaconda3\\envs\\coughvid_public\\lib\\site-packages\\numpy\\core\\_methods.py:170: RuntimeWarning: invalid value encountered in double_scalars\n",
      "  ret = ret.dtype.type(ret / rcount)\n",
      "C:\\Users\\antre\\Anaconda3\\envs\\coughvid_public\\lib\\site-packages\\numpy\\core\\fromnumeric.py:3372: RuntimeWarning: Mean of empty slice.\n",
      "  return _methods._mean(a, axis=axis, dtype=dtype,\n",
      "C:\\Users\\antre\\Anaconda3\\envs\\coughvid_public\\lib\\site-packages\\numpy\\core\\_methods.py:170: RuntimeWarning: invalid value encountered in double_scalars\n",
      "  ret = ret.dtype.type(ret / rcount)\n",
      "C:\\Users\\antre\\Documents\\mlp2_project\\src\\segmentation.py:66: RuntimeWarning: divide by zero encountered in double_scalars\n",
      "  SNR = 0 if (RMS_signal==0 or np.isnan(RMS_noise)) else 20*np.log10(RMS_signal/RMS_noise)\n",
      "C:\\Users\\antre\\Documents\\mlp2_project\\src\\segmentation.py:66: RuntimeWarning: divide by zero encountered in double_scalars\n",
      "  SNR = 0 if (RMS_signal==0 or np.isnan(RMS_noise)) else 20*np.log10(RMS_signal/RMS_noise)\n"
     ]
    },
    {
     "name": "stdout",
     "output_type": "stream",
     "text": [
      "Finished 15400/20072\n"
     ]
    },
    {
     "name": "stderr",
     "output_type": "stream",
     "text": [
      "C:\\Users\\antre\\Documents\\mlp2_project\\src\\segmentation.py:66: RuntimeWarning: divide by zero encountered in double_scalars\n",
      "  SNR = 0 if (RMS_signal==0 or np.isnan(RMS_noise)) else 20*np.log10(RMS_signal/RMS_noise)\n",
      "C:\\Users\\antre\\Documents\\mlp2_project\\src\\feature_class.py:134: RuntimeWarning: invalid value encountered in double_scalars\n",
      "  spec_centroid = np.sum(magnitudes*freqs) / sum_mag\n",
      "C:\\Users\\antre\\Documents\\mlp2_project\\src\\feature_class.py:167: RuntimeWarning: divide by zero encountered in double_scalars\n",
      "  SF = gmean/amean\n",
      "C:\\Users\\antre\\Documents\\mlp2_project\\src\\feature_class.py:218: RuntimeWarning: invalid value encountered in true_divide\n",
      "  return np.ones((1,1))*peak/RMS, ['Crest_Factor']\n",
      "C:\\Users\\antre\\Documents\\mlp2_project\\src\\feature_class.py:237: RuntimeWarning: invalid value encountered in double_scalars\n",
      "  feat.append(band_power/total_power)\n",
      "C:\\Users\\antre\\Documents\\mlp2_project\\src\\feature_class.py:237: RuntimeWarning: invalid value encountered in float_scalars\n",
      "  feat.append(band_power/total_power)\n",
      "C:\\Users\\antre\\Anaconda3\\envs\\coughvid_public\\lib\\site-packages\\numpy\\core\\fromnumeric.py:3372: RuntimeWarning: Mean of empty slice.\n",
      "  return _methods._mean(a, axis=axis, dtype=dtype,\n",
      "C:\\Users\\antre\\Anaconda3\\envs\\coughvid_public\\lib\\site-packages\\numpy\\core\\_methods.py:170: RuntimeWarning: invalid value encountered in double_scalars\n",
      "  ret = ret.dtype.type(ret / rcount)\n",
      "C:\\Users\\antre\\Documents\\mlp2_project\\src\\segmentation.py:66: RuntimeWarning: divide by zero encountered in double_scalars\n",
      "  SNR = 0 if (RMS_signal==0 or np.isnan(RMS_noise)) else 20*np.log10(RMS_signal/RMS_noise)\n"
     ]
    },
    {
     "name": "stdout",
     "output_type": "stream",
     "text": [
      "Finished 15500/20072\n"
     ]
    },
    {
     "name": "stderr",
     "output_type": "stream",
     "text": [
      "C:\\Users\\antre\\Documents\\mlp2_project\\src\\segmentation.py:66: RuntimeWarning: divide by zero encountered in double_scalars\n",
      "  SNR = 0 if (RMS_signal==0 or np.isnan(RMS_noise)) else 20*np.log10(RMS_signal/RMS_noise)\n",
      "C:\\Users\\antre\\Documents\\mlp2_project\\src\\segmentation.py:66: RuntimeWarning: divide by zero encountered in double_scalars\n",
      "  SNR = 0 if (RMS_signal==0 or np.isnan(RMS_noise)) else 20*np.log10(RMS_signal/RMS_noise)\n",
      "C:\\Users\\antre\\Anaconda3\\envs\\coughvid_public\\lib\\site-packages\\numpy\\core\\fromnumeric.py:3372: RuntimeWarning: Mean of empty slice.\n",
      "  return _methods._mean(a, axis=axis, dtype=dtype,\n",
      "C:\\Users\\antre\\Anaconda3\\envs\\coughvid_public\\lib\\site-packages\\numpy\\core\\_methods.py:170: RuntimeWarning: invalid value encountered in double_scalars\n",
      "  ret = ret.dtype.type(ret / rcount)\n",
      "C:\\Users\\antre\\Anaconda3\\envs\\coughvid_public\\lib\\site-packages\\numpy\\core\\fromnumeric.py:3372: RuntimeWarning: Mean of empty slice.\n",
      "  return _methods._mean(a, axis=axis, dtype=dtype,\n",
      "C:\\Users\\antre\\Anaconda3\\envs\\coughvid_public\\lib\\site-packages\\numpy\\core\\_methods.py:170: RuntimeWarning: invalid value encountered in double_scalars\n",
      "  ret = ret.dtype.type(ret / rcount)\n"
     ]
    },
    {
     "name": "stdout",
     "output_type": "stream",
     "text": [
      "Finished 15600/20072\n"
     ]
    },
    {
     "name": "stderr",
     "output_type": "stream",
     "text": [
      "C:\\Users\\antre\\Anaconda3\\envs\\coughvid_public\\lib\\site-packages\\numpy\\core\\fromnumeric.py:3372: RuntimeWarning: Mean of empty slice.\n",
      "  return _methods._mean(a, axis=axis, dtype=dtype,\n",
      "C:\\Users\\antre\\Anaconda3\\envs\\coughvid_public\\lib\\site-packages\\numpy\\core\\_methods.py:170: RuntimeWarning: invalid value encountered in double_scalars\n",
      "  ret = ret.dtype.type(ret / rcount)\n"
     ]
    },
    {
     "name": "stdout",
     "output_type": "stream",
     "text": [
      "Finished 15700/20072\n"
     ]
    },
    {
     "name": "stderr",
     "output_type": "stream",
     "text": [
      "C:\\Users\\antre\\Documents\\mlp2_project\\src\\segmentation.py:66: RuntimeWarning: divide by zero encountered in double_scalars\n",
      "  SNR = 0 if (RMS_signal==0 or np.isnan(RMS_noise)) else 20*np.log10(RMS_signal/RMS_noise)\n",
      "C:\\Users\\antre\\Documents\\mlp2_project\\src\\segmentation.py:66: RuntimeWarning: divide by zero encountered in double_scalars\n",
      "  SNR = 0 if (RMS_signal==0 or np.isnan(RMS_noise)) else 20*np.log10(RMS_signal/RMS_noise)\n",
      "C:\\Users\\antre\\Documents\\mlp2_project\\src\\segmentation.py:66: RuntimeWarning: divide by zero encountered in double_scalars\n",
      "  SNR = 0 if (RMS_signal==0 or np.isnan(RMS_noise)) else 20*np.log10(RMS_signal/RMS_noise)\n"
     ]
    },
    {
     "name": "stdout",
     "output_type": "stream",
     "text": [
      "Finished 15800/20072\n"
     ]
    },
    {
     "name": "stderr",
     "output_type": "stream",
     "text": [
      "C:\\Users\\antre\\Anaconda3\\envs\\coughvid_public\\lib\\site-packages\\numpy\\core\\fromnumeric.py:3372: RuntimeWarning: Mean of empty slice.\n",
      "  return _methods._mean(a, axis=axis, dtype=dtype,\n",
      "C:\\Users\\antre\\Anaconda3\\envs\\coughvid_public\\lib\\site-packages\\numpy\\core\\_methods.py:170: RuntimeWarning: invalid value encountered in double_scalars\n",
      "  ret = ret.dtype.type(ret / rcount)\n",
      "C:\\Users\\antre\\Documents\\mlp2_project\\src\\segmentation.py:66: RuntimeWarning: divide by zero encountered in double_scalars\n",
      "  SNR = 0 if (RMS_signal==0 or np.isnan(RMS_noise)) else 20*np.log10(RMS_signal/RMS_noise)\n",
      "C:\\Users\\antre\\Documents\\mlp2_project\\src\\segmentation.py:66: RuntimeWarning: divide by zero encountered in double_scalars\n",
      "  SNR = 0 if (RMS_signal==0 or np.isnan(RMS_noise)) else 20*np.log10(RMS_signal/RMS_noise)\n",
      "C:\\Users\\antre\\Documents\\mlp2_project\\src\\segmentation.py:66: RuntimeWarning: divide by zero encountered in double_scalars\n",
      "  SNR = 0 if (RMS_signal==0 or np.isnan(RMS_noise)) else 20*np.log10(RMS_signal/RMS_noise)\n",
      "C:\\Users\\antre\\Documents\\mlp2_project\\src\\segmentation.py:66: RuntimeWarning: divide by zero encountered in double_scalars\n",
      "  SNR = 0 if (RMS_signal==0 or np.isnan(RMS_noise)) else 20*np.log10(RMS_signal/RMS_noise)\n",
      "C:\\Users\\antre\\Documents\\mlp2_project\\src\\segmentation.py:66: RuntimeWarning: divide by zero encountered in double_scalars\n",
      "  SNR = 0 if (RMS_signal==0 or np.isnan(RMS_noise)) else 20*np.log10(RMS_signal/RMS_noise)\n",
      "C:\\Users\\antre\\Documents\\mlp2_project\\src\\segmentation.py:66: RuntimeWarning: divide by zero encountered in double_scalars\n",
      "  SNR = 0 if (RMS_signal==0 or np.isnan(RMS_noise)) else 20*np.log10(RMS_signal/RMS_noise)\n",
      "C:\\Users\\antre\\Documents\\mlp2_project\\src\\segmentation.py:66: RuntimeWarning: divide by zero encountered in double_scalars\n",
      "  SNR = 0 if (RMS_signal==0 or np.isnan(RMS_noise)) else 20*np.log10(RMS_signal/RMS_noise)\n"
     ]
    },
    {
     "name": "stdout",
     "output_type": "stream",
     "text": [
      "Finished 15900/20072\n"
     ]
    },
    {
     "name": "stderr",
     "output_type": "stream",
     "text": [
      "C:\\Users\\antre\\Documents\\mlp2_project\\src\\segmentation.py:66: RuntimeWarning: divide by zero encountered in double_scalars\n",
      "  SNR = 0 if (RMS_signal==0 or np.isnan(RMS_noise)) else 20*np.log10(RMS_signal/RMS_noise)\n",
      "C:\\Users\\antre\\Documents\\mlp2_project\\src\\segmentation.py:66: RuntimeWarning: divide by zero encountered in double_scalars\n",
      "  SNR = 0 if (RMS_signal==0 or np.isnan(RMS_noise)) else 20*np.log10(RMS_signal/RMS_noise)\n",
      "C:\\Users\\antre\\Documents\\mlp2_project\\src\\segmentation.py:66: RuntimeWarning: divide by zero encountered in double_scalars\n",
      "  SNR = 0 if (RMS_signal==0 or np.isnan(RMS_noise)) else 20*np.log10(RMS_signal/RMS_noise)\n",
      "C:\\Users\\antre\\Documents\\mlp2_project\\src\\segmentation.py:66: RuntimeWarning: divide by zero encountered in double_scalars\n",
      "  SNR = 0 if (RMS_signal==0 or np.isnan(RMS_noise)) else 20*np.log10(RMS_signal/RMS_noise)\n",
      "C:\\Users\\antre\\Documents\\mlp2_project\\src\\segmentation.py:66: RuntimeWarning: divide by zero encountered in double_scalars\n",
      "  SNR = 0 if (RMS_signal==0 or np.isnan(RMS_noise)) else 20*np.log10(RMS_signal/RMS_noise)\n"
     ]
    },
    {
     "name": "stdout",
     "output_type": "stream",
     "text": [
      "Finished 16000/20072\n"
     ]
    },
    {
     "name": "stderr",
     "output_type": "stream",
     "text": [
      "C:\\Users\\antre\\Documents\\mlp2_project\\src\\segmentation.py:66: RuntimeWarning: divide by zero encountered in double_scalars\n",
      "  SNR = 0 if (RMS_signal==0 or np.isnan(RMS_noise)) else 20*np.log10(RMS_signal/RMS_noise)\n",
      "C:\\Users\\antre\\Documents\\mlp2_project\\src\\feature_class.py:134: RuntimeWarning: invalid value encountered in double_scalars\n",
      "  spec_centroid = np.sum(magnitudes*freqs) / sum_mag\n",
      "C:\\Users\\antre\\Documents\\mlp2_project\\src\\feature_class.py:167: RuntimeWarning: divide by zero encountered in double_scalars\n",
      "  SF = gmean/amean\n",
      "C:\\Users\\antre\\Documents\\mlp2_project\\src\\feature_class.py:218: RuntimeWarning: invalid value encountered in true_divide\n",
      "  return np.ones((1,1))*peak/RMS, ['Crest_Factor']\n",
      "C:\\Users\\antre\\Documents\\mlp2_project\\src\\feature_class.py:237: RuntimeWarning: invalid value encountered in double_scalars\n",
      "  feat.append(band_power/total_power)\n",
      "C:\\Users\\antre\\Documents\\mlp2_project\\src\\feature_class.py:237: RuntimeWarning: invalid value encountered in float_scalars\n",
      "  feat.append(band_power/total_power)\n"
     ]
    },
    {
     "name": "stdout",
     "output_type": "stream",
     "text": [
      "Finished 16100/20072\n"
     ]
    },
    {
     "name": "stderr",
     "output_type": "stream",
     "text": [
      "C:\\Users\\antre\\Documents\\mlp2_project\\src\\segmentation.py:66: RuntimeWarning: divide by zero encountered in double_scalars\n",
      "  SNR = 0 if (RMS_signal==0 or np.isnan(RMS_noise)) else 20*np.log10(RMS_signal/RMS_noise)\n",
      "C:\\Users\\antre\\Documents\\mlp2_project\\src\\segmentation.py:66: RuntimeWarning: divide by zero encountered in double_scalars\n",
      "  SNR = 0 if (RMS_signal==0 or np.isnan(RMS_noise)) else 20*np.log10(RMS_signal/RMS_noise)\n",
      "C:\\Users\\antre\\Documents\\mlp2_project\\src\\segmentation.py:66: RuntimeWarning: divide by zero encountered in double_scalars\n",
      "  SNR = 0 if (RMS_signal==0 or np.isnan(RMS_noise)) else 20*np.log10(RMS_signal/RMS_noise)\n",
      "C:\\Users\\antre\\Anaconda3\\envs\\coughvid_public\\lib\\site-packages\\numpy\\core\\fromnumeric.py:3372: RuntimeWarning: Mean of empty slice.\n",
      "  return _methods._mean(a, axis=axis, dtype=dtype,\n",
      "C:\\Users\\antre\\Anaconda3\\envs\\coughvid_public\\lib\\site-packages\\numpy\\core\\_methods.py:170: RuntimeWarning: invalid value encountered in double_scalars\n",
      "  ret = ret.dtype.type(ret / rcount)\n",
      "C:\\Users\\antre\\Documents\\mlp2_project\\src\\segmentation.py:66: RuntimeWarning: divide by zero encountered in double_scalars\n",
      "  SNR = 0 if (RMS_signal==0 or np.isnan(RMS_noise)) else 20*np.log10(RMS_signal/RMS_noise)\n",
      "C:\\Users\\antre\\Anaconda3\\envs\\coughvid_public\\lib\\site-packages\\numpy\\core\\fromnumeric.py:3372: RuntimeWarning: Mean of empty slice.\n",
      "  return _methods._mean(a, axis=axis, dtype=dtype,\n",
      "C:\\Users\\antre\\Anaconda3\\envs\\coughvid_public\\lib\\site-packages\\numpy\\core\\_methods.py:170: RuntimeWarning: invalid value encountered in double_scalars\n",
      "  ret = ret.dtype.type(ret / rcount)\n",
      "C:\\Users\\antre\\Documents\\mlp2_project\\src\\segmentation.py:66: RuntimeWarning: divide by zero encountered in double_scalars\n",
      "  SNR = 0 if (RMS_signal==0 or np.isnan(RMS_noise)) else 20*np.log10(RMS_signal/RMS_noise)\n"
     ]
    },
    {
     "name": "stdout",
     "output_type": "stream",
     "text": [
      "Finished 16200/20072\n"
     ]
    },
    {
     "name": "stderr",
     "output_type": "stream",
     "text": [
      "C:\\Users\\antre\\Documents\\mlp2_project\\src\\segmentation.py:66: RuntimeWarning: divide by zero encountered in double_scalars\n",
      "  SNR = 0 if (RMS_signal==0 or np.isnan(RMS_noise)) else 20*np.log10(RMS_signal/RMS_noise)\n",
      "C:\\Users\\antre\\Documents\\mlp2_project\\src\\feature_class.py:134: RuntimeWarning: invalid value encountered in double_scalars\n",
      "  spec_centroid = np.sum(magnitudes*freqs) / sum_mag\n",
      "C:\\Users\\antre\\Documents\\mlp2_project\\src\\feature_class.py:167: RuntimeWarning: divide by zero encountered in double_scalars\n",
      "  SF = gmean/amean\n",
      "C:\\Users\\antre\\Documents\\mlp2_project\\src\\feature_class.py:218: RuntimeWarning: invalid value encountered in true_divide\n",
      "  return np.ones((1,1))*peak/RMS, ['Crest_Factor']\n",
      "C:\\Users\\antre\\Documents\\mlp2_project\\src\\feature_class.py:237: RuntimeWarning: invalid value encountered in double_scalars\n",
      "  feat.append(band_power/total_power)\n",
      "C:\\Users\\antre\\Documents\\mlp2_project\\src\\feature_class.py:237: RuntimeWarning: invalid value encountered in float_scalars\n",
      "  feat.append(band_power/total_power)\n",
      "C:\\Users\\antre\\Documents\\mlp2_project\\src\\segmentation.py:66: RuntimeWarning: divide by zero encountered in double_scalars\n",
      "  SNR = 0 if (RMS_signal==0 or np.isnan(RMS_noise)) else 20*np.log10(RMS_signal/RMS_noise)\n",
      "C:\\Users\\antre\\Documents\\mlp2_project\\src\\segmentation.py:66: RuntimeWarning: divide by zero encountered in double_scalars\n",
      "  SNR = 0 if (RMS_signal==0 or np.isnan(RMS_noise)) else 20*np.log10(RMS_signal/RMS_noise)\n",
      "C:\\Users\\antre\\Documents\\mlp2_project\\src\\segmentation.py:66: RuntimeWarning: divide by zero encountered in double_scalars\n",
      "  SNR = 0 if (RMS_signal==0 or np.isnan(RMS_noise)) else 20*np.log10(RMS_signal/RMS_noise)\n",
      "C:\\Users\\antre\\Documents\\mlp2_project\\src\\segmentation.py:66: RuntimeWarning: divide by zero encountered in double_scalars\n",
      "  SNR = 0 if (RMS_signal==0 or np.isnan(RMS_noise)) else 20*np.log10(RMS_signal/RMS_noise)\n"
     ]
    },
    {
     "name": "stdout",
     "output_type": "stream",
     "text": [
      "Finished 16300/20072\n"
     ]
    },
    {
     "name": "stderr",
     "output_type": "stream",
     "text": [
      "C:\\Users\\antre\\Documents\\mlp2_project\\src\\feature_class.py:134: RuntimeWarning: invalid value encountered in double_scalars\n",
      "  spec_centroid = np.sum(magnitudes*freqs) / sum_mag\n",
      "C:\\Users\\antre\\Documents\\mlp2_project\\src\\feature_class.py:167: RuntimeWarning: divide by zero encountered in double_scalars\n",
      "  SF = gmean/amean\n",
      "C:\\Users\\antre\\Documents\\mlp2_project\\src\\feature_class.py:218: RuntimeWarning: invalid value encountered in true_divide\n",
      "  return np.ones((1,1))*peak/RMS, ['Crest_Factor']\n",
      "C:\\Users\\antre\\Documents\\mlp2_project\\src\\feature_class.py:237: RuntimeWarning: invalid value encountered in double_scalars\n",
      "  feat.append(band_power/total_power)\n",
      "C:\\Users\\antre\\Documents\\mlp2_project\\src\\feature_class.py:237: RuntimeWarning: invalid value encountered in float_scalars\n",
      "  feat.append(band_power/total_power)\n",
      "C:\\Users\\antre\\Documents\\mlp2_project\\src\\segmentation.py:66: RuntimeWarning: divide by zero encountered in double_scalars\n",
      "  SNR = 0 if (RMS_signal==0 or np.isnan(RMS_noise)) else 20*np.log10(RMS_signal/RMS_noise)\n",
      "C:\\Users\\antre\\Documents\\mlp2_project\\src\\feature_class.py:134: RuntimeWarning: invalid value encountered in double_scalars\n",
      "  spec_centroid = np.sum(magnitudes*freqs) / sum_mag\n",
      "C:\\Users\\antre\\Documents\\mlp2_project\\src\\feature_class.py:167: RuntimeWarning: divide by zero encountered in double_scalars\n",
      "  SF = gmean/amean\n",
      "C:\\Users\\antre\\Documents\\mlp2_project\\src\\feature_class.py:218: RuntimeWarning: invalid value encountered in true_divide\n",
      "  return np.ones((1,1))*peak/RMS, ['Crest_Factor']\n",
      "C:\\Users\\antre\\Documents\\mlp2_project\\src\\feature_class.py:237: RuntimeWarning: invalid value encountered in double_scalars\n",
      "  feat.append(band_power/total_power)\n",
      "C:\\Users\\antre\\Documents\\mlp2_project\\src\\feature_class.py:237: RuntimeWarning: invalid value encountered in float_scalars\n",
      "  feat.append(band_power/total_power)\n",
      "C:\\Users\\antre\\Documents\\mlp2_project\\src\\segmentation.py:66: RuntimeWarning: divide by zero encountered in double_scalars\n",
      "  SNR = 0 if (RMS_signal==0 or np.isnan(RMS_noise)) else 20*np.log10(RMS_signal/RMS_noise)\n",
      "C:\\Users\\antre\\Documents\\mlp2_project\\src\\feature_class.py:134: RuntimeWarning: invalid value encountered in double_scalars\n",
      "  spec_centroid = np.sum(magnitudes*freqs) / sum_mag\n",
      "C:\\Users\\antre\\Documents\\mlp2_project\\src\\feature_class.py:167: RuntimeWarning: divide by zero encountered in double_scalars\n",
      "  SF = gmean/amean\n",
      "C:\\Users\\antre\\Documents\\mlp2_project\\src\\feature_class.py:218: RuntimeWarning: invalid value encountered in true_divide\n",
      "  return np.ones((1,1))*peak/RMS, ['Crest_Factor']\n",
      "C:\\Users\\antre\\Documents\\mlp2_project\\src\\feature_class.py:237: RuntimeWarning: invalid value encountered in double_scalars\n",
      "  feat.append(band_power/total_power)\n",
      "C:\\Users\\antre\\Documents\\mlp2_project\\src\\feature_class.py:237: RuntimeWarning: invalid value encountered in float_scalars\n",
      "  feat.append(band_power/total_power)\n",
      "C:\\Users\\antre\\Documents\\mlp2_project\\src\\segmentation.py:66: RuntimeWarning: divide by zero encountered in double_scalars\n",
      "  SNR = 0 if (RMS_signal==0 or np.isnan(RMS_noise)) else 20*np.log10(RMS_signal/RMS_noise)\n"
     ]
    },
    {
     "name": "stdout",
     "output_type": "stream",
     "text": [
      "Finished 16400/20072\n"
     ]
    },
    {
     "name": "stderr",
     "output_type": "stream",
     "text": [
      "C:\\Users\\antre\\Documents\\mlp2_project\\src\\segmentation.py:66: RuntimeWarning: divide by zero encountered in double_scalars\n",
      "  SNR = 0 if (RMS_signal==0 or np.isnan(RMS_noise)) else 20*np.log10(RMS_signal/RMS_noise)\n",
      "C:\\Users\\antre\\Anaconda3\\envs\\coughvid_public\\lib\\site-packages\\numpy\\core\\fromnumeric.py:3372: RuntimeWarning: Mean of empty slice.\n",
      "  return _methods._mean(a, axis=axis, dtype=dtype,\n",
      "C:\\Users\\antre\\Anaconda3\\envs\\coughvid_public\\lib\\site-packages\\numpy\\core\\_methods.py:170: RuntimeWarning: invalid value encountered in double_scalars\n",
      "  ret = ret.dtype.type(ret / rcount)\n",
      "C:\\Users\\antre\\Documents\\mlp2_project\\src\\segmentation.py:66: RuntimeWarning: divide by zero encountered in double_scalars\n",
      "  SNR = 0 if (RMS_signal==0 or np.isnan(RMS_noise)) else 20*np.log10(RMS_signal/RMS_noise)\n",
      "C:\\Users\\antre\\Documents\\mlp2_project\\src\\segmentation.py:66: RuntimeWarning: divide by zero encountered in double_scalars\n",
      "  SNR = 0 if (RMS_signal==0 or np.isnan(RMS_noise)) else 20*np.log10(RMS_signal/RMS_noise)\n",
      "C:\\Users\\antre\\Documents\\mlp2_project\\src\\segmentation.py:66: RuntimeWarning: divide by zero encountered in double_scalars\n",
      "  SNR = 0 if (RMS_signal==0 or np.isnan(RMS_noise)) else 20*np.log10(RMS_signal/RMS_noise)\n"
     ]
    },
    {
     "name": "stdout",
     "output_type": "stream",
     "text": [
      "Finished 16500/20072\n"
     ]
    },
    {
     "name": "stderr",
     "output_type": "stream",
     "text": [
      "C:\\Users\\antre\\Anaconda3\\envs\\coughvid_public\\lib\\site-packages\\numpy\\core\\fromnumeric.py:3372: RuntimeWarning: Mean of empty slice.\n",
      "  return _methods._mean(a, axis=axis, dtype=dtype,\n",
      "C:\\Users\\antre\\Anaconda3\\envs\\coughvid_public\\lib\\site-packages\\numpy\\core\\_methods.py:170: RuntimeWarning: invalid value encountered in double_scalars\n",
      "  ret = ret.dtype.type(ret / rcount)\n",
      "C:\\Users\\antre\\Documents\\mlp2_project\\src\\segmentation.py:66: RuntimeWarning: divide by zero encountered in double_scalars\n",
      "  SNR = 0 if (RMS_signal==0 or np.isnan(RMS_noise)) else 20*np.log10(RMS_signal/RMS_noise)\n"
     ]
    },
    {
     "name": "stdout",
     "output_type": "stream",
     "text": [
      "Finished 16600/20072\n"
     ]
    },
    {
     "name": "stderr",
     "output_type": "stream",
     "text": [
      "C:\\Users\\antre\\Documents\\mlp2_project\\src\\segmentation.py:66: RuntimeWarning: divide by zero encountered in double_scalars\n",
      "  SNR = 0 if (RMS_signal==0 or np.isnan(RMS_noise)) else 20*np.log10(RMS_signal/RMS_noise)\n",
      "C:\\Users\\antre\\Documents\\mlp2_project\\src\\segmentation.py:66: RuntimeWarning: divide by zero encountered in double_scalars\n",
      "  SNR = 0 if (RMS_signal==0 or np.isnan(RMS_noise)) else 20*np.log10(RMS_signal/RMS_noise)\n",
      "C:\\Users\\antre\\Documents\\mlp2_project\\src\\segmentation.py:66: RuntimeWarning: divide by zero encountered in double_scalars\n",
      "  SNR = 0 if (RMS_signal==0 or np.isnan(RMS_noise)) else 20*np.log10(RMS_signal/RMS_noise)\n",
      "C:\\Users\\antre\\Documents\\mlp2_project\\src\\segmentation.py:66: RuntimeWarning: divide by zero encountered in double_scalars\n",
      "  SNR = 0 if (RMS_signal==0 or np.isnan(RMS_noise)) else 20*np.log10(RMS_signal/RMS_noise)\n",
      "C:\\Users\\antre\\Documents\\mlp2_project\\src\\segmentation.py:66: RuntimeWarning: divide by zero encountered in double_scalars\n",
      "  SNR = 0 if (RMS_signal==0 or np.isnan(RMS_noise)) else 20*np.log10(RMS_signal/RMS_noise)\n"
     ]
    },
    {
     "name": "stdout",
     "output_type": "stream",
     "text": [
      "Finished 16700/20072\n"
     ]
    },
    {
     "name": "stderr",
     "output_type": "stream",
     "text": [
      "C:\\Users\\antre\\Documents\\mlp2_project\\src\\segmentation.py:66: RuntimeWarning: divide by zero encountered in double_scalars\n",
      "  SNR = 0 if (RMS_signal==0 or np.isnan(RMS_noise)) else 20*np.log10(RMS_signal/RMS_noise)\n"
     ]
    },
    {
     "name": "stdout",
     "output_type": "stream",
     "text": [
      "Finished 16800/20072\n"
     ]
    },
    {
     "name": "stderr",
     "output_type": "stream",
     "text": [
      "C:\\Users\\antre\\Anaconda3\\envs\\coughvid_public\\lib\\site-packages\\numpy\\core\\fromnumeric.py:3372: RuntimeWarning: Mean of empty slice.\n",
      "  return _methods._mean(a, axis=axis, dtype=dtype,\n",
      "C:\\Users\\antre\\Anaconda3\\envs\\coughvid_public\\lib\\site-packages\\numpy\\core\\_methods.py:170: RuntimeWarning: invalid value encountered in double_scalars\n",
      "  ret = ret.dtype.type(ret / rcount)\n"
     ]
    },
    {
     "name": "stdout",
     "output_type": "stream",
     "text": [
      "Finished 16900/20072\n"
     ]
    },
    {
     "name": "stderr",
     "output_type": "stream",
     "text": [
      "C:\\Users\\antre\\Documents\\mlp2_project\\src\\feature_class.py:134: RuntimeWarning: invalid value encountered in double_scalars\n",
      "  spec_centroid = np.sum(magnitudes*freqs) / sum_mag\n",
      "C:\\Users\\antre\\Documents\\mlp2_project\\src\\feature_class.py:167: RuntimeWarning: divide by zero encountered in double_scalars\n",
      "  SF = gmean/amean\n",
      "C:\\Users\\antre\\Documents\\mlp2_project\\src\\feature_class.py:218: RuntimeWarning: invalid value encountered in true_divide\n",
      "  return np.ones((1,1))*peak/RMS, ['Crest_Factor']\n",
      "C:\\Users\\antre\\Documents\\mlp2_project\\src\\feature_class.py:237: RuntimeWarning: invalid value encountered in double_scalars\n",
      "  feat.append(band_power/total_power)\n",
      "C:\\Users\\antre\\Documents\\mlp2_project\\src\\feature_class.py:237: RuntimeWarning: invalid value encountered in float_scalars\n",
      "  feat.append(band_power/total_power)\n",
      "C:\\Users\\antre\\Anaconda3\\envs\\coughvid_public\\lib\\site-packages\\numpy\\core\\fromnumeric.py:3372: RuntimeWarning: Mean of empty slice.\n",
      "  return _methods._mean(a, axis=axis, dtype=dtype,\n",
      "C:\\Users\\antre\\Anaconda3\\envs\\coughvid_public\\lib\\site-packages\\numpy\\core\\_methods.py:170: RuntimeWarning: invalid value encountered in double_scalars\n",
      "  ret = ret.dtype.type(ret / rcount)\n",
      "C:\\Users\\antre\\Documents\\mlp2_project\\src\\segmentation.py:66: RuntimeWarning: divide by zero encountered in double_scalars\n",
      "  SNR = 0 if (RMS_signal==0 or np.isnan(RMS_noise)) else 20*np.log10(RMS_signal/RMS_noise)\n",
      "C:\\Users\\antre\\Documents\\mlp2_project\\src\\segmentation.py:66: RuntimeWarning: divide by zero encountered in double_scalars\n",
      "  SNR = 0 if (RMS_signal==0 or np.isnan(RMS_noise)) else 20*np.log10(RMS_signal/RMS_noise)\n",
      "C:\\Users\\antre\\Documents\\mlp2_project\\src\\feature_class.py:134: RuntimeWarning: invalid value encountered in double_scalars\n",
      "  spec_centroid = np.sum(magnitudes*freqs) / sum_mag\n",
      "C:\\Users\\antre\\Documents\\mlp2_project\\src\\feature_class.py:167: RuntimeWarning: divide by zero encountered in double_scalars\n",
      "  SF = gmean/amean\n",
      "C:\\Users\\antre\\Documents\\mlp2_project\\src\\feature_class.py:218: RuntimeWarning: invalid value encountered in true_divide\n",
      "  return np.ones((1,1))*peak/RMS, ['Crest_Factor']\n",
      "C:\\Users\\antre\\Documents\\mlp2_project\\src\\feature_class.py:237: RuntimeWarning: invalid value encountered in double_scalars\n",
      "  feat.append(band_power/total_power)\n",
      "C:\\Users\\antre\\Documents\\mlp2_project\\src\\feature_class.py:237: RuntimeWarning: invalid value encountered in float_scalars\n",
      "  feat.append(band_power/total_power)\n",
      "C:\\Users\\antre\\Documents\\mlp2_project\\src\\segmentation.py:66: RuntimeWarning: divide by zero encountered in double_scalars\n",
      "  SNR = 0 if (RMS_signal==0 or np.isnan(RMS_noise)) else 20*np.log10(RMS_signal/RMS_noise)\n"
     ]
    },
    {
     "name": "stdout",
     "output_type": "stream",
     "text": [
      "Finished 17000/20072\n"
     ]
    },
    {
     "name": "stderr",
     "output_type": "stream",
     "text": [
      "C:\\Users\\antre\\Documents\\mlp2_project\\src\\feature_class.py:134: RuntimeWarning: invalid value encountered in double_scalars\n",
      "  spec_centroid = np.sum(magnitudes*freqs) / sum_mag\n",
      "C:\\Users\\antre\\Documents\\mlp2_project\\src\\feature_class.py:167: RuntimeWarning: divide by zero encountered in double_scalars\n",
      "  SF = gmean/amean\n",
      "C:\\Users\\antre\\Documents\\mlp2_project\\src\\feature_class.py:218: RuntimeWarning: invalid value encountered in true_divide\n",
      "  return np.ones((1,1))*peak/RMS, ['Crest_Factor']\n",
      "C:\\Users\\antre\\Documents\\mlp2_project\\src\\feature_class.py:237: RuntimeWarning: invalid value encountered in double_scalars\n",
      "  feat.append(band_power/total_power)\n",
      "C:\\Users\\antre\\Documents\\mlp2_project\\src\\feature_class.py:237: RuntimeWarning: invalid value encountered in float_scalars\n",
      "  feat.append(band_power/total_power)\n",
      "C:\\Users\\antre\\Documents\\mlp2_project\\src\\segmentation.py:66: RuntimeWarning: divide by zero encountered in double_scalars\n",
      "  SNR = 0 if (RMS_signal==0 or np.isnan(RMS_noise)) else 20*np.log10(RMS_signal/RMS_noise)\n",
      "C:\\Users\\antre\\Documents\\mlp2_project\\src\\segmentation.py:66: RuntimeWarning: divide by zero encountered in double_scalars\n",
      "  SNR = 0 if (RMS_signal==0 or np.isnan(RMS_noise)) else 20*np.log10(RMS_signal/RMS_noise)\n"
     ]
    },
    {
     "name": "stdout",
     "output_type": "stream",
     "text": [
      "Finished 17100/20072\n"
     ]
    },
    {
     "name": "stderr",
     "output_type": "stream",
     "text": [
      "C:\\Users\\antre\\Anaconda3\\envs\\coughvid_public\\lib\\site-packages\\numpy\\core\\fromnumeric.py:3372: RuntimeWarning: Mean of empty slice.\n",
      "  return _methods._mean(a, axis=axis, dtype=dtype,\n",
      "C:\\Users\\antre\\Anaconda3\\envs\\coughvid_public\\lib\\site-packages\\numpy\\core\\_methods.py:170: RuntimeWarning: invalid value encountered in double_scalars\n",
      "  ret = ret.dtype.type(ret / rcount)\n",
      "C:\\Users\\antre\\Documents\\mlp2_project\\src\\segmentation.py:66: RuntimeWarning: divide by zero encountered in double_scalars\n",
      "  SNR = 0 if (RMS_signal==0 or np.isnan(RMS_noise)) else 20*np.log10(RMS_signal/RMS_noise)\n"
     ]
    },
    {
     "name": "stdout",
     "output_type": "stream",
     "text": [
      "Finished 17200/20072\n"
     ]
    },
    {
     "name": "stderr",
     "output_type": "stream",
     "text": [
      "C:\\Users\\antre\\Documents\\mlp2_project\\src\\segmentation.py:66: RuntimeWarning: divide by zero encountered in double_scalars\n",
      "  SNR = 0 if (RMS_signal==0 or np.isnan(RMS_noise)) else 20*np.log10(RMS_signal/RMS_noise)\n",
      "C:\\Users\\antre\\Anaconda3\\envs\\coughvid_public\\lib\\site-packages\\numpy\\core\\fromnumeric.py:3372: RuntimeWarning: Mean of empty slice.\n",
      "  return _methods._mean(a, axis=axis, dtype=dtype,\n",
      "C:\\Users\\antre\\Anaconda3\\envs\\coughvid_public\\lib\\site-packages\\numpy\\core\\_methods.py:170: RuntimeWarning: invalid value encountered in double_scalars\n",
      "  ret = ret.dtype.type(ret / rcount)\n",
      "C:\\Users\\antre\\Documents\\mlp2_project\\src\\segmentation.py:66: RuntimeWarning: divide by zero encountered in double_scalars\n",
      "  SNR = 0 if (RMS_signal==0 or np.isnan(RMS_noise)) else 20*np.log10(RMS_signal/RMS_noise)\n"
     ]
    },
    {
     "name": "stdout",
     "output_type": "stream",
     "text": [
      "Finished 17300/20072\n"
     ]
    },
    {
     "name": "stderr",
     "output_type": "stream",
     "text": [
      "C:\\Users\\antre\\Documents\\mlp2_project\\src\\segmentation.py:66: RuntimeWarning: divide by zero encountered in double_scalars\n",
      "  SNR = 0 if (RMS_signal==0 or np.isnan(RMS_noise)) else 20*np.log10(RMS_signal/RMS_noise)\n",
      "C:\\Users\\antre\\Documents\\mlp2_project\\src\\segmentation.py:66: RuntimeWarning: divide by zero encountered in double_scalars\n",
      "  SNR = 0 if (RMS_signal==0 or np.isnan(RMS_noise)) else 20*np.log10(RMS_signal/RMS_noise)\n",
      "C:\\Users\\antre\\Documents\\mlp2_project\\src\\segmentation.py:66: RuntimeWarning: divide by zero encountered in double_scalars\n",
      "  SNR = 0 if (RMS_signal==0 or np.isnan(RMS_noise)) else 20*np.log10(RMS_signal/RMS_noise)\n"
     ]
    },
    {
     "name": "stdout",
     "output_type": "stream",
     "text": [
      "Finished 17400/20072\n"
     ]
    },
    {
     "name": "stderr",
     "output_type": "stream",
     "text": [
      "C:\\Users\\antre\\Anaconda3\\envs\\coughvid_public\\lib\\site-packages\\numpy\\core\\fromnumeric.py:3372: RuntimeWarning: Mean of empty slice.\n",
      "  return _methods._mean(a, axis=axis, dtype=dtype,\n",
      "C:\\Users\\antre\\Anaconda3\\envs\\coughvid_public\\lib\\site-packages\\numpy\\core\\_methods.py:170: RuntimeWarning: invalid value encountered in double_scalars\n",
      "  ret = ret.dtype.type(ret / rcount)\n",
      "C:\\Users\\antre\\Documents\\mlp2_project\\src\\segmentation.py:66: RuntimeWarning: divide by zero encountered in double_scalars\n",
      "  SNR = 0 if (RMS_signal==0 or np.isnan(RMS_noise)) else 20*np.log10(RMS_signal/RMS_noise)\n",
      "C:\\Users\\antre\\Documents\\mlp2_project\\src\\segmentation.py:66: RuntimeWarning: divide by zero encountered in double_scalars\n",
      "  SNR = 0 if (RMS_signal==0 or np.isnan(RMS_noise)) else 20*np.log10(RMS_signal/RMS_noise)\n"
     ]
    },
    {
     "name": "stdout",
     "output_type": "stream",
     "text": [
      "Finished 17500/20072\n"
     ]
    },
    {
     "name": "stderr",
     "output_type": "stream",
     "text": [
      "C:\\Users\\antre\\Anaconda3\\envs\\coughvid_public\\lib\\site-packages\\numpy\\core\\fromnumeric.py:3372: RuntimeWarning: Mean of empty slice.\n",
      "  return _methods._mean(a, axis=axis, dtype=dtype,\n",
      "C:\\Users\\antre\\Anaconda3\\envs\\coughvid_public\\lib\\site-packages\\numpy\\core\\_methods.py:170: RuntimeWarning: invalid value encountered in double_scalars\n",
      "  ret = ret.dtype.type(ret / rcount)\n"
     ]
    },
    {
     "name": "stdout",
     "output_type": "stream",
     "text": [
      "Finished 17600/20072\n"
     ]
    },
    {
     "name": "stderr",
     "output_type": "stream",
     "text": [
      "C:\\Users\\antre\\Documents\\mlp2_project\\src\\segmentation.py:66: RuntimeWarning: divide by zero encountered in double_scalars\n",
      "  SNR = 0 if (RMS_signal==0 or np.isnan(RMS_noise)) else 20*np.log10(RMS_signal/RMS_noise)\n",
      "C:\\Users\\antre\\Documents\\mlp2_project\\src\\segmentation.py:66: RuntimeWarning: divide by zero encountered in double_scalars\n",
      "  SNR = 0 if (RMS_signal==0 or np.isnan(RMS_noise)) else 20*np.log10(RMS_signal/RMS_noise)\n",
      "C:\\Users\\antre\\Documents\\mlp2_project\\src\\segmentation.py:66: RuntimeWarning: divide by zero encountered in double_scalars\n",
      "  SNR = 0 if (RMS_signal==0 or np.isnan(RMS_noise)) else 20*np.log10(RMS_signal/RMS_noise)\n",
      "C:\\Users\\antre\\Documents\\mlp2_project\\src\\segmentation.py:66: RuntimeWarning: divide by zero encountered in double_scalars\n",
      "  SNR = 0 if (RMS_signal==0 or np.isnan(RMS_noise)) else 20*np.log10(RMS_signal/RMS_noise)\n",
      "C:\\Users\\antre\\Documents\\mlp2_project\\src\\segmentation.py:66: RuntimeWarning: divide by zero encountered in double_scalars\n",
      "  SNR = 0 if (RMS_signal==0 or np.isnan(RMS_noise)) else 20*np.log10(RMS_signal/RMS_noise)\n",
      "C:\\Users\\antre\\Documents\\mlp2_project\\src\\segmentation.py:66: RuntimeWarning: divide by zero encountered in double_scalars\n",
      "  SNR = 0 if (RMS_signal==0 or np.isnan(RMS_noise)) else 20*np.log10(RMS_signal/RMS_noise)\n"
     ]
    },
    {
     "name": "stdout",
     "output_type": "stream",
     "text": [
      "Finished 17700/20072\n"
     ]
    },
    {
     "name": "stderr",
     "output_type": "stream",
     "text": [
      "C:\\Users\\antre\\Documents\\mlp2_project\\src\\segmentation.py:66: RuntimeWarning: divide by zero encountered in double_scalars\n",
      "  SNR = 0 if (RMS_signal==0 or np.isnan(RMS_noise)) else 20*np.log10(RMS_signal/RMS_noise)\n",
      "C:\\Users\\antre\\Documents\\mlp2_project\\src\\segmentation.py:66: RuntimeWarning: divide by zero encountered in double_scalars\n",
      "  SNR = 0 if (RMS_signal==0 or np.isnan(RMS_noise)) else 20*np.log10(RMS_signal/RMS_noise)\n",
      "C:\\Users\\antre\\Documents\\mlp2_project\\src\\segmentation.py:66: RuntimeWarning: divide by zero encountered in double_scalars\n",
      "  SNR = 0 if (RMS_signal==0 or np.isnan(RMS_noise)) else 20*np.log10(RMS_signal/RMS_noise)\n",
      "C:\\Users\\antre\\Documents\\mlp2_project\\src\\segmentation.py:66: RuntimeWarning: divide by zero encountered in double_scalars\n",
      "  SNR = 0 if (RMS_signal==0 or np.isnan(RMS_noise)) else 20*np.log10(RMS_signal/RMS_noise)\n"
     ]
    },
    {
     "name": "stdout",
     "output_type": "stream",
     "text": [
      "Finished 17800/20072\n"
     ]
    },
    {
     "name": "stderr",
     "output_type": "stream",
     "text": [
      "C:\\Users\\antre\\Documents\\mlp2_project\\src\\segmentation.py:66: RuntimeWarning: divide by zero encountered in double_scalars\n",
      "  SNR = 0 if (RMS_signal==0 or np.isnan(RMS_noise)) else 20*np.log10(RMS_signal/RMS_noise)\n",
      "C:\\Users\\antre\\Documents\\mlp2_project\\src\\segmentation.py:66: RuntimeWarning: divide by zero encountered in double_scalars\n",
      "  SNR = 0 if (RMS_signal==0 or np.isnan(RMS_noise)) else 20*np.log10(RMS_signal/RMS_noise)\n",
      "C:\\Users\\antre\\Documents\\mlp2_project\\src\\segmentation.py:66: RuntimeWarning: divide by zero encountered in double_scalars\n",
      "  SNR = 0 if (RMS_signal==0 or np.isnan(RMS_noise)) else 20*np.log10(RMS_signal/RMS_noise)\n",
      "C:\\Users\\antre\\Documents\\mlp2_project\\src\\segmentation.py:66: RuntimeWarning: divide by zero encountered in double_scalars\n",
      "  SNR = 0 if (RMS_signal==0 or np.isnan(RMS_noise)) else 20*np.log10(RMS_signal/RMS_noise)\n"
     ]
    },
    {
     "name": "stdout",
     "output_type": "stream",
     "text": [
      "Finished 17900/20072\n"
     ]
    },
    {
     "name": "stderr",
     "output_type": "stream",
     "text": [
      "C:\\Users\\antre\\Documents\\mlp2_project\\src\\feature_class.py:134: RuntimeWarning: invalid value encountered in double_scalars\n",
      "  spec_centroid = np.sum(magnitudes*freqs) / sum_mag\n",
      "C:\\Users\\antre\\Documents\\mlp2_project\\src\\feature_class.py:167: RuntimeWarning: divide by zero encountered in double_scalars\n",
      "  SF = gmean/amean\n",
      "C:\\Users\\antre\\Documents\\mlp2_project\\src\\feature_class.py:218: RuntimeWarning: invalid value encountered in true_divide\n",
      "  return np.ones((1,1))*peak/RMS, ['Crest_Factor']\n",
      "C:\\Users\\antre\\Documents\\mlp2_project\\src\\feature_class.py:237: RuntimeWarning: invalid value encountered in double_scalars\n",
      "  feat.append(band_power/total_power)\n",
      "C:\\Users\\antre\\Documents\\mlp2_project\\src\\feature_class.py:237: RuntimeWarning: invalid value encountered in float_scalars\n",
      "  feat.append(band_power/total_power)\n",
      "C:\\Users\\antre\\Anaconda3\\envs\\coughvid_public\\lib\\site-packages\\numpy\\core\\fromnumeric.py:3372: RuntimeWarning: Mean of empty slice.\n",
      "  return _methods._mean(a, axis=axis, dtype=dtype,\n",
      "C:\\Users\\antre\\Anaconda3\\envs\\coughvid_public\\lib\\site-packages\\numpy\\core\\_methods.py:170: RuntimeWarning: invalid value encountered in double_scalars\n",
      "  ret = ret.dtype.type(ret / rcount)\n",
      "C:\\Users\\antre\\Documents\\mlp2_project\\src\\segmentation.py:66: RuntimeWarning: divide by zero encountered in double_scalars\n",
      "  SNR = 0 if (RMS_signal==0 or np.isnan(RMS_noise)) else 20*np.log10(RMS_signal/RMS_noise)\n"
     ]
    },
    {
     "name": "stdout",
     "output_type": "stream",
     "text": [
      "Finished 18000/20072\n"
     ]
    },
    {
     "name": "stderr",
     "output_type": "stream",
     "text": [
      "C:\\Users\\antre\\Documents\\mlp2_project\\src\\segmentation.py:66: RuntimeWarning: divide by zero encountered in double_scalars\n",
      "  SNR = 0 if (RMS_signal==0 or np.isnan(RMS_noise)) else 20*np.log10(RMS_signal/RMS_noise)\n",
      "C:\\Users\\antre\\Anaconda3\\envs\\coughvid_public\\lib\\site-packages\\numpy\\core\\fromnumeric.py:3372: RuntimeWarning: Mean of empty slice.\n",
      "  return _methods._mean(a, axis=axis, dtype=dtype,\n",
      "C:\\Users\\antre\\Anaconda3\\envs\\coughvid_public\\lib\\site-packages\\numpy\\core\\_methods.py:170: RuntimeWarning: invalid value encountered in double_scalars\n",
      "  ret = ret.dtype.type(ret / rcount)\n",
      "C:\\Users\\antre\\Anaconda3\\envs\\coughvid_public\\lib\\site-packages\\numpy\\core\\fromnumeric.py:3372: RuntimeWarning: Mean of empty slice.\n",
      "  return _methods._mean(a, axis=axis, dtype=dtype,\n",
      "C:\\Users\\antre\\Anaconda3\\envs\\coughvid_public\\lib\\site-packages\\numpy\\core\\_methods.py:170: RuntimeWarning: invalid value encountered in double_scalars\n",
      "  ret = ret.dtype.type(ret / rcount)\n",
      "C:\\Users\\antre\\Documents\\mlp2_project\\src\\segmentation.py:66: RuntimeWarning: divide by zero encountered in double_scalars\n",
      "  SNR = 0 if (RMS_signal==0 or np.isnan(RMS_noise)) else 20*np.log10(RMS_signal/RMS_noise)\n",
      "C:\\Users\\antre\\Anaconda3\\envs\\coughvid_public\\lib\\site-packages\\numpy\\core\\fromnumeric.py:3372: RuntimeWarning: Mean of empty slice.\n",
      "  return _methods._mean(a, axis=axis, dtype=dtype,\n",
      "C:\\Users\\antre\\Anaconda3\\envs\\coughvid_public\\lib\\site-packages\\numpy\\core\\_methods.py:170: RuntimeWarning: invalid value encountered in double_scalars\n",
      "  ret = ret.dtype.type(ret / rcount)\n"
     ]
    },
    {
     "name": "stdout",
     "output_type": "stream",
     "text": [
      "Finished 18100/20072\n"
     ]
    },
    {
     "name": "stderr",
     "output_type": "stream",
     "text": [
      "C:\\Users\\antre\\Anaconda3\\envs\\coughvid_public\\lib\\site-packages\\numpy\\core\\fromnumeric.py:3372: RuntimeWarning: Mean of empty slice.\n",
      "  return _methods._mean(a, axis=axis, dtype=dtype,\n",
      "C:\\Users\\antre\\Anaconda3\\envs\\coughvid_public\\lib\\site-packages\\numpy\\core\\_methods.py:170: RuntimeWarning: invalid value encountered in double_scalars\n",
      "  ret = ret.dtype.type(ret / rcount)\n"
     ]
    },
    {
     "name": "stdout",
     "output_type": "stream",
     "text": [
      "Finished 18200/20072\n"
     ]
    },
    {
     "name": "stderr",
     "output_type": "stream",
     "text": [
      "C:\\Users\\antre\\Documents\\mlp2_project\\src\\segmentation.py:66: RuntimeWarning: divide by zero encountered in double_scalars\n",
      "  SNR = 0 if (RMS_signal==0 or np.isnan(RMS_noise)) else 20*np.log10(RMS_signal/RMS_noise)\n",
      "C:\\Users\\antre\\Documents\\mlp2_project\\src\\segmentation.py:66: RuntimeWarning: divide by zero encountered in double_scalars\n",
      "  SNR = 0 if (RMS_signal==0 or np.isnan(RMS_noise)) else 20*np.log10(RMS_signal/RMS_noise)\n",
      "C:\\Users\\antre\\Documents\\mlp2_project\\src\\segmentation.py:66: RuntimeWarning: divide by zero encountered in double_scalars\n",
      "  SNR = 0 if (RMS_signal==0 or np.isnan(RMS_noise)) else 20*np.log10(RMS_signal/RMS_noise)\n"
     ]
    },
    {
     "name": "stdout",
     "output_type": "stream",
     "text": [
      "Finished 18300/20072\n"
     ]
    },
    {
     "name": "stderr",
     "output_type": "stream",
     "text": [
      "C:\\Users\\antre\\Documents\\mlp2_project\\src\\segmentation.py:66: RuntimeWarning: divide by zero encountered in double_scalars\n",
      "  SNR = 0 if (RMS_signal==0 or np.isnan(RMS_noise)) else 20*np.log10(RMS_signal/RMS_noise)\n",
      "C:\\Users\\antre\\Documents\\mlp2_project\\src\\segmentation.py:66: RuntimeWarning: divide by zero encountered in double_scalars\n",
      "  SNR = 0 if (RMS_signal==0 or np.isnan(RMS_noise)) else 20*np.log10(RMS_signal/RMS_noise)\n",
      "C:\\Users\\antre\\Documents\\mlp2_project\\src\\segmentation.py:66: RuntimeWarning: divide by zero encountered in double_scalars\n",
      "  SNR = 0 if (RMS_signal==0 or np.isnan(RMS_noise)) else 20*np.log10(RMS_signal/RMS_noise)\n",
      "C:\\Users\\antre\\Documents\\mlp2_project\\src\\segmentation.py:66: RuntimeWarning: divide by zero encountered in double_scalars\n",
      "  SNR = 0 if (RMS_signal==0 or np.isnan(RMS_noise)) else 20*np.log10(RMS_signal/RMS_noise)\n"
     ]
    },
    {
     "name": "stdout",
     "output_type": "stream",
     "text": [
      "Finished 18400/20072\n",
      "Finished 18500/20072\n"
     ]
    },
    {
     "name": "stderr",
     "output_type": "stream",
     "text": [
      "C:\\Users\\antre\\Documents\\mlp2_project\\src\\segmentation.py:23: RuntimeWarning: invalid value encountered in sqrt\n",
      "  rms = np.sqrt(np.mean(np.square(x)))\n",
      "C:\\Users\\antre\\Documents\\mlp2_project\\src\\segmentation.py:66: RuntimeWarning: divide by zero encountered in double_scalars\n",
      "  SNR = 0 if (RMS_signal==0 or np.isnan(RMS_noise)) else 20*np.log10(RMS_signal/RMS_noise)\n",
      "C:\\Users\\antre\\Documents\\mlp2_project\\src\\segmentation.py:66: RuntimeWarning: divide by zero encountered in double_scalars\n",
      "  SNR = 0 if (RMS_signal==0 or np.isnan(RMS_noise)) else 20*np.log10(RMS_signal/RMS_noise)\n",
      "C:\\Users\\antre\\Documents\\mlp2_project\\src\\segmentation.py:66: RuntimeWarning: divide by zero encountered in double_scalars\n",
      "  SNR = 0 if (RMS_signal==0 or np.isnan(RMS_noise)) else 20*np.log10(RMS_signal/RMS_noise)\n"
     ]
    },
    {
     "name": "stdout",
     "output_type": "stream",
     "text": [
      "Finished 18600/20072\n"
     ]
    },
    {
     "name": "stderr",
     "output_type": "stream",
     "text": [
      "C:\\Users\\antre\\Documents\\mlp2_project\\src\\segmentation.py:66: RuntimeWarning: divide by zero encountered in double_scalars\n",
      "  SNR = 0 if (RMS_signal==0 or np.isnan(RMS_noise)) else 20*np.log10(RMS_signal/RMS_noise)\n",
      "C:\\Users\\antre\\Documents\\mlp2_project\\src\\segmentation.py:66: RuntimeWarning: divide by zero encountered in double_scalars\n",
      "  SNR = 0 if (RMS_signal==0 or np.isnan(RMS_noise)) else 20*np.log10(RMS_signal/RMS_noise)\n",
      "C:\\Users\\antre\\Anaconda3\\envs\\coughvid_public\\lib\\site-packages\\numpy\\core\\fromnumeric.py:3372: RuntimeWarning: Mean of empty slice.\n",
      "  return _methods._mean(a, axis=axis, dtype=dtype,\n",
      "C:\\Users\\antre\\Anaconda3\\envs\\coughvid_public\\lib\\site-packages\\numpy\\core\\_methods.py:170: RuntimeWarning: invalid value encountered in double_scalars\n",
      "  ret = ret.dtype.type(ret / rcount)\n"
     ]
    },
    {
     "name": "stdout",
     "output_type": "stream",
     "text": [
      "Finished 18700/20072\n"
     ]
    },
    {
     "name": "stderr",
     "output_type": "stream",
     "text": [
      "C:\\Users\\antre\\Anaconda3\\envs\\coughvid_public\\lib\\site-packages\\numpy\\core\\fromnumeric.py:3372: RuntimeWarning: Mean of empty slice.\n",
      "  return _methods._mean(a, axis=axis, dtype=dtype,\n",
      "C:\\Users\\antre\\Anaconda3\\envs\\coughvid_public\\lib\\site-packages\\numpy\\core\\_methods.py:170: RuntimeWarning: invalid value encountered in double_scalars\n",
      "  ret = ret.dtype.type(ret / rcount)\n"
     ]
    },
    {
     "name": "stdout",
     "output_type": "stream",
     "text": [
      "Finished 18800/20072\n"
     ]
    },
    {
     "name": "stderr",
     "output_type": "stream",
     "text": [
      "C:\\Users\\antre\\Documents\\mlp2_project\\src\\segmentation.py:66: RuntimeWarning: divide by zero encountered in double_scalars\n",
      "  SNR = 0 if (RMS_signal==0 or np.isnan(RMS_noise)) else 20*np.log10(RMS_signal/RMS_noise)\n",
      "C:\\Users\\antre\\Documents\\mlp2_project\\src\\segmentation.py:66: RuntimeWarning: divide by zero encountered in double_scalars\n",
      "  SNR = 0 if (RMS_signal==0 or np.isnan(RMS_noise)) else 20*np.log10(RMS_signal/RMS_noise)\n"
     ]
    },
    {
     "name": "stdout",
     "output_type": "stream",
     "text": [
      "Finished 18900/20072\n"
     ]
    },
    {
     "name": "stderr",
     "output_type": "stream",
     "text": [
      "C:\\Users\\antre\\Documents\\mlp2_project\\src\\segmentation.py:66: RuntimeWarning: divide by zero encountered in double_scalars\n",
      "  SNR = 0 if (RMS_signal==0 or np.isnan(RMS_noise)) else 20*np.log10(RMS_signal/RMS_noise)\n",
      "C:\\Users\\antre\\Anaconda3\\envs\\coughvid_public\\lib\\site-packages\\numpy\\core\\fromnumeric.py:3372: RuntimeWarning: Mean of empty slice.\n",
      "  return _methods._mean(a, axis=axis, dtype=dtype,\n",
      "C:\\Users\\antre\\Anaconda3\\envs\\coughvid_public\\lib\\site-packages\\numpy\\core\\_methods.py:170: RuntimeWarning: invalid value encountered in double_scalars\n",
      "  ret = ret.dtype.type(ret / rcount)\n",
      "C:\\Users\\antre\\Anaconda3\\envs\\coughvid_public\\lib\\site-packages\\numpy\\core\\fromnumeric.py:3372: RuntimeWarning: Mean of empty slice.\n",
      "  return _methods._mean(a, axis=axis, dtype=dtype,\n",
      "C:\\Users\\antre\\Anaconda3\\envs\\coughvid_public\\lib\\site-packages\\numpy\\core\\_methods.py:170: RuntimeWarning: invalid value encountered in double_scalars\n",
      "  ret = ret.dtype.type(ret / rcount)\n",
      "C:\\Users\\antre\\Documents\\mlp2_project\\src\\segmentation.py:66: RuntimeWarning: divide by zero encountered in double_scalars\n",
      "  SNR = 0 if (RMS_signal==0 or np.isnan(RMS_noise)) else 20*np.log10(RMS_signal/RMS_noise)\n",
      "C:\\Users\\antre\\Documents\\mlp2_project\\src\\segmentation.py:66: RuntimeWarning: divide by zero encountered in double_scalars\n",
      "  SNR = 0 if (RMS_signal==0 or np.isnan(RMS_noise)) else 20*np.log10(RMS_signal/RMS_noise)\n",
      "C:\\Users\\antre\\Documents\\mlp2_project\\src\\segmentation.py:66: RuntimeWarning: divide by zero encountered in double_scalars\n",
      "  SNR = 0 if (RMS_signal==0 or np.isnan(RMS_noise)) else 20*np.log10(RMS_signal/RMS_noise)\n"
     ]
    },
    {
     "name": "stdout",
     "output_type": "stream",
     "text": [
      "Finished 19000/20072\n",
      "Finished 19100/20072\n"
     ]
    },
    {
     "name": "stderr",
     "output_type": "stream",
     "text": [
      "C:\\Users\\antre\\Documents\\mlp2_project\\src\\segmentation.py:23: RuntimeWarning: invalid value encountered in sqrt\n",
      "  rms = np.sqrt(np.mean(np.square(x)))\n",
      "C:\\Users\\antre\\Documents\\mlp2_project\\src\\segmentation.py:66: RuntimeWarning: divide by zero encountered in double_scalars\n",
      "  SNR = 0 if (RMS_signal==0 or np.isnan(RMS_noise)) else 20*np.log10(RMS_signal/RMS_noise)\n",
      "C:\\Users\\antre\\Documents\\mlp2_project\\src\\segmentation.py:66: RuntimeWarning: divide by zero encountered in double_scalars\n",
      "  SNR = 0 if (RMS_signal==0 or np.isnan(RMS_noise)) else 20*np.log10(RMS_signal/RMS_noise)\n",
      "C:\\Users\\antre\\Documents\\mlp2_project\\src\\segmentation.py:66: RuntimeWarning: divide by zero encountered in double_scalars\n",
      "  SNR = 0 if (RMS_signal==0 or np.isnan(RMS_noise)) else 20*np.log10(RMS_signal/RMS_noise)\n"
     ]
    },
    {
     "name": "stdout",
     "output_type": "stream",
     "text": [
      "Finished 19200/20072\n"
     ]
    },
    {
     "name": "stderr",
     "output_type": "stream",
     "text": [
      "C:\\Users\\antre\\Anaconda3\\envs\\coughvid_public\\lib\\site-packages\\numpy\\core\\fromnumeric.py:3372: RuntimeWarning: Mean of empty slice.\n",
      "  return _methods._mean(a, axis=axis, dtype=dtype,\n",
      "C:\\Users\\antre\\Anaconda3\\envs\\coughvid_public\\lib\\site-packages\\numpy\\core\\_methods.py:170: RuntimeWarning: invalid value encountered in double_scalars\n",
      "  ret = ret.dtype.type(ret / rcount)\n"
     ]
    },
    {
     "name": "stdout",
     "output_type": "stream",
     "text": [
      "Finished 19300/20072\n"
     ]
    },
    {
     "name": "stderr",
     "output_type": "stream",
     "text": [
      "C:\\Users\\antre\\Documents\\mlp2_project\\src\\segmentation.py:66: RuntimeWarning: divide by zero encountered in double_scalars\n",
      "  SNR = 0 if (RMS_signal==0 or np.isnan(RMS_noise)) else 20*np.log10(RMS_signal/RMS_noise)\n",
      "C:\\Users\\antre\\Documents\\mlp2_project\\src\\segmentation.py:66: RuntimeWarning: divide by zero encountered in double_scalars\n",
      "  SNR = 0 if (RMS_signal==0 or np.isnan(RMS_noise)) else 20*np.log10(RMS_signal/RMS_noise)\n",
      "C:\\Users\\antre\\Documents\\mlp2_project\\src\\segmentation.py:66: RuntimeWarning: divide by zero encountered in double_scalars\n",
      "  SNR = 0 if (RMS_signal==0 or np.isnan(RMS_noise)) else 20*np.log10(RMS_signal/RMS_noise)\n",
      "C:\\Users\\antre\\Anaconda3\\envs\\coughvid_public\\lib\\site-packages\\numpy\\core\\fromnumeric.py:3372: RuntimeWarning: Mean of empty slice.\n",
      "  return _methods._mean(a, axis=axis, dtype=dtype,\n",
      "C:\\Users\\antre\\Anaconda3\\envs\\coughvid_public\\lib\\site-packages\\numpy\\core\\_methods.py:170: RuntimeWarning: invalid value encountered in double_scalars\n",
      "  ret = ret.dtype.type(ret / rcount)\n"
     ]
    },
    {
     "name": "stdout",
     "output_type": "stream",
     "text": [
      "Finished 19400/20072\n"
     ]
    },
    {
     "name": "stderr",
     "output_type": "stream",
     "text": [
      "C:\\Users\\antre\\Documents\\mlp2_project\\src\\segmentation.py:66: RuntimeWarning: divide by zero encountered in double_scalars\n",
      "  SNR = 0 if (RMS_signal==0 or np.isnan(RMS_noise)) else 20*np.log10(RMS_signal/RMS_noise)\n",
      "C:\\Users\\antre\\Documents\\mlp2_project\\src\\segmentation.py:66: RuntimeWarning: divide by zero encountered in double_scalars\n",
      "  SNR = 0 if (RMS_signal==0 or np.isnan(RMS_noise)) else 20*np.log10(RMS_signal/RMS_noise)\n"
     ]
    },
    {
     "name": "stdout",
     "output_type": "stream",
     "text": [
      "Finished 19500/20072\n"
     ]
    },
    {
     "name": "stderr",
     "output_type": "stream",
     "text": [
      "C:\\Users\\antre\\Documents\\mlp2_project\\src\\feature_class.py:134: RuntimeWarning: invalid value encountered in double_scalars\n",
      "  spec_centroid = np.sum(magnitudes*freqs) / sum_mag\n",
      "C:\\Users\\antre\\Documents\\mlp2_project\\src\\feature_class.py:167: RuntimeWarning: divide by zero encountered in double_scalars\n",
      "  SF = gmean/amean\n",
      "C:\\Users\\antre\\Documents\\mlp2_project\\src\\feature_class.py:218: RuntimeWarning: invalid value encountered in true_divide\n",
      "  return np.ones((1,1))*peak/RMS, ['Crest_Factor']\n",
      "C:\\Users\\antre\\Documents\\mlp2_project\\src\\feature_class.py:237: RuntimeWarning: invalid value encountered in double_scalars\n",
      "  feat.append(band_power/total_power)\n",
      "C:\\Users\\antre\\Documents\\mlp2_project\\src\\feature_class.py:237: RuntimeWarning: invalid value encountered in float_scalars\n",
      "  feat.append(band_power/total_power)\n",
      "C:\\Users\\antre\\Documents\\mlp2_project\\src\\segmentation.py:66: RuntimeWarning: divide by zero encountered in double_scalars\n",
      "  SNR = 0 if (RMS_signal==0 or np.isnan(RMS_noise)) else 20*np.log10(RMS_signal/RMS_noise)\n"
     ]
    },
    {
     "name": "stdout",
     "output_type": "stream",
     "text": [
      "Finished 19600/20072\n"
     ]
    },
    {
     "name": "stderr",
     "output_type": "stream",
     "text": [
      "C:\\Users\\antre\\Documents\\mlp2_project\\src\\segmentation.py:66: RuntimeWarning: divide by zero encountered in double_scalars\n",
      "  SNR = 0 if (RMS_signal==0 or np.isnan(RMS_noise)) else 20*np.log10(RMS_signal/RMS_noise)\n",
      "C:\\Users\\antre\\Documents\\mlp2_project\\src\\segmentation.py:66: RuntimeWarning: divide by zero encountered in double_scalars\n",
      "  SNR = 0 if (RMS_signal==0 or np.isnan(RMS_noise)) else 20*np.log10(RMS_signal/RMS_noise)\n",
      "C:\\Users\\antre\\Documents\\mlp2_project\\src\\segmentation.py:66: RuntimeWarning: divide by zero encountered in double_scalars\n",
      "  SNR = 0 if (RMS_signal==0 or np.isnan(RMS_noise)) else 20*np.log10(RMS_signal/RMS_noise)\n",
      "C:\\Users\\antre\\Documents\\mlp2_project\\src\\segmentation.py:66: RuntimeWarning: divide by zero encountered in double_scalars\n",
      "  SNR = 0 if (RMS_signal==0 or np.isnan(RMS_noise)) else 20*np.log10(RMS_signal/RMS_noise)\n",
      "C:\\Users\\antre\\Documents\\mlp2_project\\src\\segmentation.py:66: RuntimeWarning: divide by zero encountered in double_scalars\n",
      "  SNR = 0 if (RMS_signal==0 or np.isnan(RMS_noise)) else 20*np.log10(RMS_signal/RMS_noise)\n"
     ]
    },
    {
     "name": "stdout",
     "output_type": "stream",
     "text": [
      "Finished 19700/20072\n"
     ]
    },
    {
     "name": "stderr",
     "output_type": "stream",
     "text": [
      "C:\\Users\\antre\\Documents\\mlp2_project\\src\\segmentation.py:66: RuntimeWarning: divide by zero encountered in double_scalars\n",
      "  SNR = 0 if (RMS_signal==0 or np.isnan(RMS_noise)) else 20*np.log10(RMS_signal/RMS_noise)\n",
      "C:\\Users\\antre\\Documents\\mlp2_project\\src\\segmentation.py:66: RuntimeWarning: divide by zero encountered in double_scalars\n",
      "  SNR = 0 if (RMS_signal==0 or np.isnan(RMS_noise)) else 20*np.log10(RMS_signal/RMS_noise)\n"
     ]
    },
    {
     "name": "stdout",
     "output_type": "stream",
     "text": [
      "Finished 19800/20072\n"
     ]
    },
    {
     "name": "stderr",
     "output_type": "stream",
     "text": [
      "C:\\Users\\antre\\Documents\\mlp2_project\\src\\segmentation.py:66: RuntimeWarning: divide by zero encountered in double_scalars\n",
      "  SNR = 0 if (RMS_signal==0 or np.isnan(RMS_noise)) else 20*np.log10(RMS_signal/RMS_noise)\n",
      "C:\\Users\\antre\\Anaconda3\\envs\\coughvid_public\\lib\\site-packages\\numpy\\core\\fromnumeric.py:3372: RuntimeWarning: Mean of empty slice.\n",
      "  return _methods._mean(a, axis=axis, dtype=dtype,\n",
      "C:\\Users\\antre\\Anaconda3\\envs\\coughvid_public\\lib\\site-packages\\numpy\\core\\_methods.py:170: RuntimeWarning: invalid value encountered in double_scalars\n",
      "  ret = ret.dtype.type(ret / rcount)\n"
     ]
    },
    {
     "name": "stdout",
     "output_type": "stream",
     "text": [
      "Finished 19900/20072\n"
     ]
    },
    {
     "name": "stderr",
     "output_type": "stream",
     "text": [
      "C:\\Users\\antre\\Documents\\mlp2_project\\src\\segmentation.py:66: RuntimeWarning: divide by zero encountered in double_scalars\n",
      "  SNR = 0 if (RMS_signal==0 or np.isnan(RMS_noise)) else 20*np.log10(RMS_signal/RMS_noise)\n",
      "C:\\Users\\antre\\Documents\\mlp2_project\\src\\segmentation.py:23: RuntimeWarning: invalid value encountered in sqrt\n",
      "  rms = np.sqrt(np.mean(np.square(x)))\n",
      "C:\\Users\\antre\\Documents\\mlp2_project\\src\\segmentation.py:65: RuntimeWarning: invalid value encountered in sqrt\n",
      "  RMS_noise = np.sqrt(np.mean(np.square(x[~cough_mask])))\n",
      "C:\\Users\\antre\\Documents\\mlp2_project\\src\\segmentation.py:66: RuntimeWarning: divide by zero encountered in double_scalars\n",
      "  SNR = 0 if (RMS_signal==0 or np.isnan(RMS_noise)) else 20*np.log10(RMS_signal/RMS_noise)\n"
     ]
    },
    {
     "name": "stdout",
     "output_type": "stream",
     "text": [
      "Finished 20000/20072\n"
     ]
    }
   ],
   "source": [
    "cough_detect_val = []\n",
    "snr = []\n",
    "data_x = []\n",
    "\n",
    "for counter, name in enumerate(file_names):\n",
    "    \n",
    "    if (counter%100 == 0):\n",
    "        print(\"Finished {0}/{1}\".format(counter,len(file_names)))\n",
    "    \n",
    "    fs, x = wavfile.read(data_wav_folder+name+\".wav\")\n",
    "    cough_detect_val.append(classify_cough(x, fs, loaded_model, loaded_scaler))\n",
    "    try:\n",
    "        snr.append(compute_SNR(x,fs))\n",
    "    except:\n",
    "        snr.append(0)\n",
    "    data_x.append(x)"
   ]
  },
  {
   "cell_type": "markdown",
   "metadata": {},
   "source": [
    "## Creating a new DataFrame to store the results of the validation and SNR calculation"
   ]
  },
  {
   "cell_type": "code",
   "execution_count": 145,
   "metadata": {},
   "outputs": [],
   "source": [
    "Added columns to df and saved it in csv file\n",
    "\n",
    "df[\"cough_detected_val\"] = cough_detect_val\n",
    "df[\"SNR\"] = snr\n",
    "diff = df[\"cough_detected\"] - df[\"cough_detected_val\"]\n",
    "df[\"diff\"] = diff\n",
    "length = [ll/fs for (ll, i) in l]\n",
    "df[\"length\"] = length\n",
    "df.to_csv('metadata_summary_val.csv', index = False)"
   ]
  },
  {
   "cell_type": "markdown",
   "metadata": {},
   "source": [
    "## Filtering out the samples that will not be used"
   ]
  },
  {
   "cell_type": "code",
   "execution_count": 205,
   "metadata": {
    "scrolled": true
   },
   "outputs": [
    {
     "name": "stdout",
     "output_type": "stream",
     "text": [
      "Full dataset: 20072\n",
      "\n",
      "Removed 9329 which had cough_detected < 0.8\n",
      "Filtered df shape: 10743\n",
      "\n",
      "Removed 7 which had quality_1 == no_cough\n",
      "Filtered df shape: 10736\n",
      "\n",
      "Removed 5 which had quality_2 == no_cough\n",
      "Filtered df shape: 10731\n",
      "\n",
      "Removed 7 which had quality_3 == no_cough\n",
      "Filtered df shape: 10724\n",
      "\n",
      "Removed 3 which had length < 1 second\n",
      "Filtered df shape: 10721\n",
      "\n",
      "Removed a total of 9351 data points\n",
      "Final number of data points: 10721\n",
      "\n",
      "Check:\n",
      "0\n"
     ]
    }
   ],
   "source": [
    "## Filtering\n",
    "\n",
    "unfiltered_df = pd.read_csv('metadata_summary_val.csv')\n",
    "filtered_df = unfiltered_df\n",
    "total = 0\n",
    "\n",
    "print(f\"Full dataset: {n}\")\n",
    "\n",
    "dd = n - sum(unfiltered_df[\"cough_detected\"] > 0.8)\n",
    "total += dd\n",
    "filtered_df = unfiltered_df[unfiltered_df[\"cough_detected\"] > 0.8]\n",
    "print(f\"\\nRemoved {dd} which had cough_detected < 0.8\")\n",
    "print(f\"Filtered df shape: {filtered_df.shape[0]}\")\n",
    "\n",
    "dd = filtered_df.shape[0] - sum(filtered_df[\"quality_1\"] != \"no_cough\")\n",
    "total += dd\n",
    "filtered_df = filtered_df[filtered_df[\"quality_1\"] != \"no_cough\"]\n",
    "print(f\"\\nRemoved {dd} which had quality_1 == no_cough\")\n",
    "print(f\"Filtered df shape: {filtered_df.shape[0]}\")\n",
    "\n",
    "dd = filtered_df.shape[0] - sum(filtered_df[\"quality_2\"] != \"no_cough\")\n",
    "total += dd\n",
    "filtered_df = filtered_df[filtered_df[\"quality_2\"] != \"no_cough\"]\n",
    "print(f\"\\nRemoved {dd} which had quality_2 == no_cough\")\n",
    "print(f\"Filtered df shape: {filtered_df.shape[0]}\")\n",
    "\n",
    "dd = filtered_df.shape[0] - sum(filtered_df[\"quality_3\"] != \"no_cough\")\n",
    "total += dd\n",
    "filtered_df = filtered_df[filtered_df[\"quality_3\"] != \"no_cough\"]\n",
    "print(f\"\\nRemoved {dd} which had quality_3 == no_cough\")\n",
    "print(f\"Filtered df shape: {filtered_df.shape[0]}\")\n",
    "\n",
    "dd = filtered_df.shape[0] - sum(filtered_df[\"length\"] > 1)\n",
    "total += dd\n",
    "filtered_df = filtered_df[filtered_df[\"length\"] > 1]\n",
    "print(f\"\\nRemoved {dd} which had length < 1 second\")\n",
    "print(f\"Filtered df shape: {filtered_df.shape[0]}\")\n",
    "\n",
    "print(f\"\\nRemoved a total of {total} data points\")\n",
    "print(f\"Final number of data points: {filtered_df.shape[0]}\")\n",
    "\n",
    "## Checks:\n",
    "c = sum(filtered_df[\"quality_1\"] == \"no_cough\") + sum(filtered_df[\"quality_2\"] == \"no_cough\") + \\\n",
    "sum(filtered_df[\"quality_3\"] == \"no_cough\") + sum(filtered_df[\"cough_detected\"] < 0.8) + sum(filtered_df[\"length\"] < 1)\n",
    "print(\"\\nCheck:\")\n",
    "print(c)"
   ]
  },
  {
   "cell_type": "markdown",
   "metadata": {},
   "source": [
    "## Removing redundant columns"
   ]
  },
  {
   "cell_type": "code",
   "execution_count": 206,
   "metadata": {},
   "outputs": [
    {
     "data": {
      "text/html": [
       "<div>\n",
       "<style scoped>\n",
       "    .dataframe tbody tr th:only-of-type {\n",
       "        vertical-align: middle;\n",
       "    }\n",
       "\n",
       "    .dataframe tbody tr th {\n",
       "        vertical-align: top;\n",
       "    }\n",
       "\n",
       "    .dataframe thead th {\n",
       "        text-align: right;\n",
       "    }\n",
       "</style>\n",
       "<table border=\"1\" class=\"dataframe\">\n",
       "  <thead>\n",
       "    <tr style=\"text-align: right;\">\n",
       "      <th></th>\n",
       "      <th>uuid</th>\n",
       "      <th>cough_detected</th>\n",
       "      <th>age</th>\n",
       "      <th>gender</th>\n",
       "      <th>status</th>\n",
       "      <th>length</th>\n",
       "      <th>SNR</th>\n",
       "    </tr>\n",
       "  </thead>\n",
       "  <tbody>\n",
       "    <tr>\n",
       "      <th>0</th>\n",
       "      <td>00039425-7f3a-42aa-ac13-834aaa2b6b92</td>\n",
       "      <td>0.9609</td>\n",
       "      <td>15.0</td>\n",
       "      <td>male</td>\n",
       "      <td>healthy</td>\n",
       "      <td>9.78</td>\n",
       "      <td>15.127182</td>\n",
       "    </tr>\n",
       "    <tr>\n",
       "      <th>1</th>\n",
       "      <td>0009eb28-d8be-4dc1-92bb-907e53bc5c7a</td>\n",
       "      <td>0.9301</td>\n",
       "      <td>34.0</td>\n",
       "      <td>male</td>\n",
       "      <td>healthy</td>\n",
       "      <td>4.50</td>\n",
       "      <td>0.000000</td>\n",
       "    </tr>\n",
       "    <tr>\n",
       "      <th>3</th>\n",
       "      <td>001328dc-ea5d-4847-9ccf-c5aa2a3f2d0f</td>\n",
       "      <td>0.9968</td>\n",
       "      <td>21.0</td>\n",
       "      <td>male</td>\n",
       "      <td>healthy</td>\n",
       "      <td>9.84</td>\n",
       "      <td>34.947833</td>\n",
       "    </tr>\n",
       "    <tr>\n",
       "      <th>7</th>\n",
       "      <td>0028b68c-aca4-4f4f-bb1d-cb4ed5bbd952</td>\n",
       "      <td>0.8937</td>\n",
       "      <td>28.0</td>\n",
       "      <td>female</td>\n",
       "      <td>healthy</td>\n",
       "      <td>7.26</td>\n",
       "      <td>13.778592</td>\n",
       "    </tr>\n",
       "    <tr>\n",
       "      <th>8</th>\n",
       "      <td>00291cce-36a0-4a29-9e2d-c1d96ca17242</td>\n",
       "      <td>0.9883</td>\n",
       "      <td>15.0</td>\n",
       "      <td>male</td>\n",
       "      <td>healthy</td>\n",
       "      <td>9.78</td>\n",
       "      <td>12.344084</td>\n",
       "    </tr>\n",
       "    <tr>\n",
       "      <th>...</th>\n",
       "      <td>...</td>\n",
       "      <td>...</td>\n",
       "      <td>...</td>\n",
       "      <td>...</td>\n",
       "      <td>...</td>\n",
       "      <td>...</td>\n",
       "      <td>...</td>\n",
       "    </tr>\n",
       "    <tr>\n",
       "      <th>20062</th>\n",
       "      <td>ffe0658f-bade-4654-ad79-40a468aabb03</td>\n",
       "      <td>0.9846</td>\n",
       "      <td>22.0</td>\n",
       "      <td>male</td>\n",
       "      <td>COVID-19</td>\n",
       "      <td>9.54</td>\n",
       "      <td>21.412214</td>\n",
       "    </tr>\n",
       "    <tr>\n",
       "      <th>20063</th>\n",
       "      <td>ffe13fcf-c5c2-4a6a-a9fc-e010f4f033c1</td>\n",
       "      <td>0.9485</td>\n",
       "      <td>31.0</td>\n",
       "      <td>male</td>\n",
       "      <td>symptomatic</td>\n",
       "      <td>9.90</td>\n",
       "      <td>-1.490106</td>\n",
       "    </tr>\n",
       "    <tr>\n",
       "      <th>20065</th>\n",
       "      <td>ffedc843-bfc2-4ad6-a749-2bc86bdac84a</td>\n",
       "      <td>0.9498</td>\n",
       "      <td>23.0</td>\n",
       "      <td>male</td>\n",
       "      <td>healthy</td>\n",
       "      <td>9.66</td>\n",
       "      <td>10.266677</td>\n",
       "    </tr>\n",
       "    <tr>\n",
       "      <th>20066</th>\n",
       "      <td>ffeea120-92a4-40f9-b692-c3865c7a983f</td>\n",
       "      <td>0.9784</td>\n",
       "      <td>22.0</td>\n",
       "      <td>female</td>\n",
       "      <td>healthy</td>\n",
       "      <td>9.12</td>\n",
       "      <td>0.000000</td>\n",
       "    </tr>\n",
       "    <tr>\n",
       "      <th>20071</th>\n",
       "      <td>fffce9f0-a5e8-4bee-b13b-c671aac4a61c</td>\n",
       "      <td>0.9754</td>\n",
       "      <td>NaN</td>\n",
       "      <td>NaN</td>\n",
       "      <td>NaN</td>\n",
       "      <td>4.44</td>\n",
       "      <td>-4.127248</td>\n",
       "    </tr>\n",
       "  </tbody>\n",
       "</table>\n",
       "<p>10721 rows × 7 columns</p>\n",
       "</div>"
      ],
      "text/plain": [
       "                                       uuid  cough_detected   age  gender  \\\n",
       "0      00039425-7f3a-42aa-ac13-834aaa2b6b92          0.9609  15.0    male   \n",
       "1      0009eb28-d8be-4dc1-92bb-907e53bc5c7a          0.9301  34.0    male   \n",
       "3      001328dc-ea5d-4847-9ccf-c5aa2a3f2d0f          0.9968  21.0    male   \n",
       "7      0028b68c-aca4-4f4f-bb1d-cb4ed5bbd952          0.8937  28.0  female   \n",
       "8      00291cce-36a0-4a29-9e2d-c1d96ca17242          0.9883  15.0    male   \n",
       "...                                     ...             ...   ...     ...   \n",
       "20062  ffe0658f-bade-4654-ad79-40a468aabb03          0.9846  22.0    male   \n",
       "20063  ffe13fcf-c5c2-4a6a-a9fc-e010f4f033c1          0.9485  31.0    male   \n",
       "20065  ffedc843-bfc2-4ad6-a749-2bc86bdac84a          0.9498  23.0    male   \n",
       "20066  ffeea120-92a4-40f9-b692-c3865c7a983f          0.9784  22.0  female   \n",
       "20071  fffce9f0-a5e8-4bee-b13b-c671aac4a61c          0.9754   NaN     NaN   \n",
       "\n",
       "            status  length        SNR  \n",
       "0          healthy    9.78  15.127182  \n",
       "1          healthy    4.50   0.000000  \n",
       "3          healthy    9.84  34.947833  \n",
       "7          healthy    7.26  13.778592  \n",
       "8          healthy    9.78  12.344084  \n",
       "...            ...     ...        ...  \n",
       "20062     COVID-19    9.54  21.412214  \n",
       "20063  symptomatic    9.90  -1.490106  \n",
       "20065      healthy    9.66  10.266677  \n",
       "20066      healthy    9.12   0.000000  \n",
       "20071          NaN    4.44  -4.127248  \n",
       "\n",
       "[10721 rows x 7 columns]"
      ]
     },
     "execution_count": 206,
     "metadata": {},
     "output_type": "execute_result"
    }
   ],
   "source": [
    "## Removed redundant columns\n",
    "\n",
    "cols_to_drop = [1,3,4,7,8,41,43] + list(range(10,40))\n",
    "filtered_df = filtered_df.drop(filtered_df.columns[cols_to_drop], axis=1)\n",
    "filtered_df"
   ]
  },
  {
   "cell_type": "markdown",
   "metadata": {},
   "source": [
    "## Splitting into two datasets - labelled and unlabelled"
   ]
  },
  {
   "cell_type": "code",
   "execution_count": 208,
   "metadata": {},
   "outputs": [
    {
     "name": "stdout",
     "output_type": "stream",
     "text": [
      "Size of labelled dataset: 7293\n",
      "Size of unlabelled dataset: 3428\n"
     ]
    }
   ],
   "source": [
    "## Split labelled and unlabelled datasets\n",
    "\n",
    "df_labelled = filtered_df[filtered_df[\"status\"].notnull()]\n",
    "df_unlabelled = filtered_df[filtered_df[\"status\"].isnull()]\n",
    "\n",
    "print(f\"Size of labelled dataset: {df_labelled.shape[0]}\")\n",
    "print(f\"Size of unlabelled dataset: {df_unlabelled.shape[0]}\")"
   ]
  },
  {
   "cell_type": "code",
   "execution_count": 210,
   "metadata": {},
   "outputs": [],
   "source": [
    "## Save datasets\n",
    "\n",
    "df_labelled.to_csv('metadata_cleaned_labelled.csv', index = False)\n",
    "df_unlabelled.to_csv('metadata_cleaned_unlabelled.csv', index = False)"
   ]
  }
 ],
 "metadata": {
  "kernelspec": {
   "display_name": "Python 3",
   "language": "python",
   "name": "python3"
  },
  "language_info": {
   "codemirror_mode": {
    "name": "ipython",
    "version": 3
   },
   "file_extension": ".py",
   "mimetype": "text/x-python",
   "name": "python",
   "nbconvert_exporter": "python",
   "pygments_lexer": "ipython3",
   "version": "3.8.5"
  }
 },
 "nbformat": 4,
 "nbformat_minor": 4
}
