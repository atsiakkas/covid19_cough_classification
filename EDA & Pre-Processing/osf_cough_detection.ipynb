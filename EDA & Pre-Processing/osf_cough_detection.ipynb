{
 "cells": [
  {
   "cell_type": "markdown",
   "metadata": {},
   "source": [
    "# Cough detection algorithm on OSF dataset\n",
    "\n",
    "Note that the poor results of the cough detection algorithm meant that we did not use this dataset in the final report."
   ]
  },
  {
   "cell_type": "markdown",
   "metadata": {},
   "source": [
    "## Imports"
   ]
  },
  {
   "cell_type": "code",
   "execution_count": null,
   "metadata": {},
   "outputs": [],
   "source": [
    "import os\n",
    "import sys\n",
    "# import pickle\n",
    "sys.path.append(os.path.abspath('../src'))\n",
    "\n",
    "from feature_class import features\n",
    "from DSP import classify_cough\n",
    "from segmentation import segment_cough, compute_SNR\n",
    "\n",
    "from scipy.io import wavfile\n",
    "\n",
    "import pandas as pd\n",
    "import numpy as np\n",
    "\n",
    "import matplotlib.pyplot as plt\n",
    "\n",
    "# from pathlib import Path"
   ]
  },
  {
   "cell_type": "markdown",
   "metadata": {},
   "source": [
    "## Paths"
   ]
  },
  {
   "cell_type": "code",
   "execution_count": 4,
   "metadata": {},
   "outputs": [],
   "source": [
    "data_folder_train = '../osf_dataset/train/'\n",
    "data_folder_valid = '../osf_dataset/validation/'\n",
    "data_folder_test = '../osf_dataset/test/'\n",
    "loaded_model = pickle.load(open(os.path.join('../models', 'cough_classifier'), 'rb'))\n",
    "loaded_scaler = pickle.load(open(os.path.join('../models','cough_classification_scaler'), 'rb'))"
   ]
  },
  {
   "cell_type": "markdown",
   "metadata": {},
   "source": [
    "## Data Loading"
   ]
  },
  {
   "cell_type": "code",
   "execution_count": 42,
   "metadata": {},
   "outputs": [],
   "source": [
    "train_sick_names = [f[0:-4] for f in os.listdir(data_folder_train + 'sick/' )]\n",
    "train_not_sick_names = [f[0:-4] for f in os.listdir(data_folder_train + 'not_sick/' )]\n",
    "valid_sick_names = [f[0:-4] for f in os.listdir(data_folder_valid + 'sick/' )]\n",
    "valid_not_sick_names = [f[0:-4] for f in os.listdir(data_folder_valid + 'not_sick/' )]\n",
    "test_sick_names = [f[0:-4] for f in os.listdir(data_folder_test + 'sick/' )]\n",
    "test_not_sick_names = [f[0:-4] for f in os.listdir(data_folder_test + 'not_sick/' )]\n",
    "\n",
    "train_sick_data = []\n",
    "train_not_sick_data = []\n",
    "valid_sick_data = []\n",
    "valid_not_sick_data = []\n",
    "test_sick_data = []\n",
    "test_not_sick_data = []\n",
    "\n",
    "train_sick_cough = []\n",
    "train_not_sick_cough = []\n",
    "valid_sick_cough = []\n",
    "valid_not_sick_cough = []\n",
    "test_sick_cough = []\n",
    "test_not_sick_cough = []\n",
    "\n",
    "train_sick_label = []\n",
    "train_not_sick_label = []\n",
    "valid_sick_label = []\n",
    "valid_not_sick_label = []\n",
    "test_sick_label = []\n",
    "test_not_sick_label = []"
   ]
  },
  {
   "cell_type": "markdown",
   "metadata": {},
   "source": [
    "## Cough Detection Algorithm"
   ]
  },
  {
   "cell_type": "code",
   "execution_count": 50,
   "metadata": {
    "scrolled": true
   },
   "outputs": [
    {
     "name": "stdout",
     "output_type": "stream",
     "text": [
      "Finished 0/641\n",
      "Finished 100/641\n",
      "Finished 200/641\n",
      "Finished 300/641\n",
      "Finished 400/641\n",
      "Finished 500/641\n",
      "Finished 600/641\n"
     ]
    }
   ],
   "source": [
    "for counter, name in enumerate(test_sick_names):\n",
    "    \n",
    "    if (counter%100 == 0):\n",
    "        print(\"Finished {0}/{1}\".format(counter,len(test_sick_names)))\n",
    "    \n",
    "    fs, x = wavfile.read(data_folder_test + 'sick/' + name + '.wav')\n",
    "    test_sick_cough.append(classify_cough(x, fs, loaded_model, loaded_scaler))\n",
    "    test_sick_data.append(x)\n",
    "    test_sick_label.append(\"sick\")"
   ]
  },
  {
   "cell_type": "code",
   "execution_count": 58,
   "metadata": {},
   "outputs": [],
   "source": [
    "# Saved metadata in csv file\n",
    "\n",
    "df = pd.DataFrame()\n",
    "df[\"ID\"] = train_sick_names + train_not_sick_names + valid_sick_names + valid_not_sick_names + test_sick_names + test_not_sick_names\n",
    "df[\"cough_detected\"] = train_sick_cough + train_not_sick_cough + valid_sick_cough + valid_not_sick_cough + test_sick_cough + test_not_sick_cough\n",
    "df[\"label\"] = train_sick_label + train_not_sick_label + valid_sick_label + valid_not_sick_label + test_sick_label + test_not_sick_label\n",
    "df.set_index(\"ID\")\n",
    "df\n",
    "\n",
    "df.to_csv('osf_metadata_summary.csv', index = False)"
   ]
  },
  {
   "cell_type": "code",
   "execution_count": 57,
   "metadata": {},
   "outputs": [
    {
     "data": {
      "text/plain": [
       "(array([3608., 1048.,  505.,  311.,  241.,  165.,  157.,  151.,  178.,\n",
       "         223.]),\n",
       " array([0.        , 0.09971122, 0.19942243, 0.29913365, 0.39884486,\n",
       "        0.49855608, 0.59826729, 0.69797851, 0.79768972, 0.89740094,\n",
       "        0.99711215]),\n",
       " <BarContainer object of 10 artists>)"
      ]
     },
     "execution_count": 57,
     "metadata": {},
     "output_type": "execute_result"
    },
    {
     "data": {
      "image/png": "[encoded data removed]",
      "text/plain": [
       "<Figure size 432x288 with 1 Axes>"
      ]
     },
     "metadata": {
      "needs_background": "light"
     },
     "output_type": "display_data"
    }
   ],
   "source": [
    "plt.hist(df[\"cough_detected\"])"
   ]
  }
 ],
 "metadata": {
  "kernelspec": {
   "display_name": "Python 3",
   "language": "python",
   "name": "python3"
  },
  "language_info": {
   "codemirror_mode": {
    "name": "ipython",
    "version": 3
   },
   "file_extension": ".py",
   "mimetype": "text/x-python",
   "name": "python",
   "nbconvert_exporter": "python",
   "pygments_lexer": "ipython3",
   "version": "3.8.5"
  }
 },
 "nbformat": 4,
 "nbformat_minor": 4
}
